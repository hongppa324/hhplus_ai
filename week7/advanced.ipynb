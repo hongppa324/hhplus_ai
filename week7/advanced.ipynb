{
 "cells": [
  {
   "cell_type": "code",
   "execution_count": 6,
   "id": "2f06eca2-5f1e-4d15-b8ac-9f3d549bef3d",
   "metadata": {},
   "outputs": [],
   "source": [
    "import torch\n",
    "from transformers import AutoTokenizer, AutoModelForCausalLM"
   ]
  },
  {
   "cell_type": "code",
   "execution_count": 8,
   "id": "dff6200a-c1d5-4a5b-99c1-fb8c4c92930b",
   "metadata": {},
   "outputs": [],
   "source": [
    "device = torch.device(\"cpu\")"
   ]
  },
  {
   "cell_type": "code",
   "execution_count": 10,
   "id": "c0291596-fb50-482d-b768-37baf22392d0",
   "metadata": {},
   "outputs": [],
   "source": [
    "import pandas as pd\n",
    "\n",
    "# 거래 내역 엑셀파일 읽기\n",
    "df = pd.read_excel(\"./transaction.xls\")\n",
    "\n",
    "# 거래일이 없는 행 제거 (null 또는 빈 문자열)\n",
    "df = df[df[\"거래일\"].notna() & (df[\"거래일\"].str.strip() != \"\")]\n",
    "\n",
    "# JSON 파일로 저장\n",
    "df.to_json(\"output.json\", orient=\"records\", force_ascii=False, indent=2)"
   ]
  },
  {
   "cell_type": "code",
   "execution_count": 12,
   "id": "6ff19060-95a9-4954-b2bc-6aff2186a206",
   "metadata": {},
   "outputs": [],
   "source": [
    "from dotenv import load_dotenv\n",
    "import openai\n",
    "from openai import OpenAI\n",
    "import os\n",
    "\n",
    "load_dotenv()\n",
    "\n",
    "api_key = os.getenv(\"OPENAI_API_KEY\")\n",
    "client=OpenAI(api_key=api_key)"
   ]
  },
  {
   "cell_type": "code",
   "execution_count": 14,
   "id": "8ddc4fce-990b-49c2-b87d-d40293ec5f73",
   "metadata": {},
   "outputs": [
    {
     "data": {
      "application/vnd.jupyter.widget-view+json": {
       "model_id": "d6b6fb40b1864bb0ad462fe61a225eb1",
       "version_major": 2,
       "version_minor": 0
      },
      "text/plain": [
       "Generating train split: 0 examples [00:00, ? examples/s]"
      ]
     },
     "metadata": {},
     "output_type": "display_data"
    }
   ],
   "source": [
    "from datasets import load_dataset\n",
    "\n",
    "# JSON 데이터 로드\n",
    "dataset = load_dataset(\"json\", data_files=\"output.json\")[\"train\"]"
   ]
  },
  {
   "cell_type": "code",
   "execution_count": 15,
   "id": "0dc05f95-61c8-4ff0-ab7c-e38c87e8c2d1",
   "metadata": {},
   "outputs": [
    {
     "name": "stdout",
     "output_type": "stream",
     "text": [
      "Dataset({\n",
      "    features: ['거래일', '카드구분', '이용카드', '가맹점명', '금액', '이용구분', '거래통화', '해외이용금액', '취소상태'],\n",
      "    num_rows: 143\n",
      "})\n"
     ]
    }
   ],
   "source": [
    "print(dataset)"
   ]
  },
  {
   "cell_type": "code",
   "execution_count": 18,
   "id": "c8489ae8-322c-4e34-b89a-54ba43b0e9e6",
   "metadata": {},
   "outputs": [
    {
     "data": {
      "text/plain": [
       "['서초제일마디의원',\n",
       " '홍등',\n",
       " '옴므',\n",
       " '(주)비바리퍼블리카',\n",
       " '주식회사 함흥면옥',\n",
       " '긴자료코 서초점',\n",
       " '남도식당',\n",
       " 'LG  U+통신요금  자동이체',\n",
       " '하루',\n",
       " '부탄츄',\n",
       " '핵밥 건대점',\n",
       " '주식회사 유피소프트',\n",
       " '왓더버거 서초점',\n",
       " '홈플러스',\n",
       " 'Amazon_AWS',\n",
       " '메가엠지씨커피 신대방역점',\n",
       " 'Apple',\n",
       " '씨알지(c.r.g)-신림점',\n",
       " 'OPENAI *CHATGPT SUBSCR',\n",
       " '( 주)버거요강남본점',\n",
       " '봉산옥',\n",
       " '쿠팡이츠',\n",
       " '(주)두잇',\n",
       " '고벤트 주식회사',\n",
       " '여기어때',\n",
       " '포마토김밥',\n",
       " '송황 칼국수',\n",
       " '탐앤탐스 광진화양점',\n",
       " '런드리킹7호점',\n",
       " '지금연구소 나우카페',\n",
       " '서초백화점약국',\n",
       " '서울옥',\n",
       " '서울도시가스(주)',\n",
       " '우먼센스',\n",
       " '메가엠지씨커피 건대스타점',\n",
       " '진흥마트',\n",
       " '주식회사 놀유니버스',\n",
       " '초라멘',\n",
       " '티머니 개인택시',\n",
       " '나오리주물럭 남부터미널점',\n",
       " '현대푸드(또봉이통닭&별난만두)',\n",
       " '세븐스타 코인노래연습장',\n",
       " '(주)에프이지',\n",
       " '(주)팀플러스',\n",
       " '(주)어비즈',\n",
       " '(주)갈라인터내셔널',\n",
       " '길동우동 건대점',\n",
       " '고향촌',\n",
       " '곱창의전당 서초본점',\n",
       " 'CU 건대상허도서관점',\n",
       " '주식회사 리베르 관악 1지점',\n",
       " '파덕 오리바베큐',\n",
       " '한설원',\n",
       " '지에스GS25 서초한신점',\n",
       " '쇼군',\n",
       " '에이스아메리카화재해상보험',\n",
       " '써브웨이건대입구',\n",
       " 'GS25신림수성점',\n",
       " '벨렘351 건대점',\n",
       " '동래정 선릉직영점',\n",
       " '(주)아트박스 건대스타시티점',\n",
       " '나카노라멘',\n",
       " '카츠공방',\n",
       " '홍루몽',\n",
       " '김가네김밥 건대점',\n",
       " 'AXA손해보험',\n",
       " '쿠팡',\n",
       " '서초칼국수 닭한마리',\n",
       " '영길리',\n",
       " '(주)신세계프라퍼티 코엑스몰',\n",
       " '컴포즈커피 테헤란아이파크점',\n",
       " '롯데시네마 신림 (온라인 티켓)',\n",
       " '씨유 관악건영점',\n",
       " 'OPENAI',\n",
       " '세븐스애비뉴 (7th Avenue)',\n",
       " '건대365약국',\n",
       " '(주)카카오',\n",
       " '노다메',\n",
       " '부리또삐아']"
      ]
     },
     "execution_count": 18,
     "metadata": {},
     "output_type": "execute_result"
    }
   ],
   "source": [
    "store_names = dataset[\"가맹점명\"]\n",
    "unique_stores = list(set(store_names))\n",
    "unique_stores"
   ]
  },
  {
   "cell_type": "code",
   "execution_count": 20,
   "id": "92a2c195-639f-426a-b3a8-6ea6f8cd3198",
   "metadata": {},
   "outputs": [],
   "source": [
    "def classify_store(store):\n",
    "    prompt = f\"\"\"\n",
    "    가맹점명: {store}\n",
    "    이 가맹점의 업종을 다음 중 하나로 분류하세요: [음식, 카페, 쇼핑, 디지털, 교통, 의료, 보험, 통신, 공과금, 생활용품, 오락, 기타]\n",
    "\n",
    "    결과는 업종명만 한 단어로 출력하세요.\n",
    "    \"\"\"\n",
    "    try:\n",
    "        response = client.chat.completions.create(\n",
    "            model=\"gpt-4o-mini\",\n",
    "            messages=[{\"role\": \"user\", \"content\": prompt}],\n",
    "            temperature=0\n",
    "        )\n",
    "        return response.choices[0].message.content.strip()\n",
    "    except Exception as e:\n",
    "        print(f\"Error: {e}\")\n",
    "        return \"기타\""
   ]
  },
  {
   "cell_type": "code",
   "execution_count": 22,
   "id": "0fbb5ef2-f470-4edb-a4ce-fe79fda3c6be",
   "metadata": {},
   "outputs": [
    {
     "name": "stdout",
     "output_type": "stream",
     "text": [
      "서초제일마디의원 → 의료\n",
      "홍등 → 음식\n",
      "옴므 → 쇼핑\n",
      "(주)비바리퍼블리카 → 디지털\n",
      "주식회사 함흥면옥 → 음식\n",
      "긴자료코 서초점 → 음식\n",
      "남도식당 → 음식\n",
      "LG  U+통신요금  자동이체 → 통신\n",
      "하루 → 음식\n",
      "부탄츄 → 음식\n",
      "핵밥 건대점 → 음식\n",
      "주식회사 유피소프트 → 디지털\n",
      "왓더버거 서초점 → 음식\n",
      "홈플러스 → 쇼핑\n",
      "Amazon_AWS → 디지털\n",
      "메가엠지씨커피 신대방역점 → 카페\n",
      "Apple → 디지털\n",
      "씨알지(c.r.g)-신림점 → 기타\n",
      "OPENAI *CHATGPT SUBSCR → 디지털\n",
      "( 주)버거요강남본점 → 음식\n",
      "봉산옥 → 음식\n",
      "쿠팡이츠 → 음식\n",
      "(주)두잇 → 기타\n",
      "고벤트 주식회사 → 기타\n",
      "여기어때 → 기타\n",
      "포마토김밥 → 음식\n",
      "송황 칼국수 → 음식\n",
      "탐앤탐스 광진화양점 → 카페\n",
      "런드리킹7호점 → 기타\n",
      "지금연구소 나우카페 → 카페\n",
      "서초백화점약국 → 의료\n",
      "서울옥 → 음식\n",
      "서울도시가스(주) → 기타\n",
      "우먼센스 → 쇼핑\n",
      "메가엠지씨커피 건대스타점 → 카페\n",
      "진흥마트 → 쇼핑\n",
      "주식회사 놀유니버스 → 오락\n",
      "초라멘 → 음식\n",
      "티머니 개인택시 → 교통\n",
      "나오리주물럭 남부터미널점 → 음식\n",
      "현대푸드(또봉이통닭&별난만두) → 음식\n",
      "세븐스타 코인노래연습장 → 오락\n",
      "(주)에프이지 → 기타\n",
      "(주)팀플러스 → 기타\n",
      "(주)어비즈 → 기타\n",
      "(주)갈라인터내셔널 → 기타\n",
      "길동우동 건대점 → 음식\n",
      "고향촌 → 음식\n",
      "곱창의전당 서초본점 → 음식\n",
      "CU 건대상허도서관점 → 기타\n",
      "주식회사 리베르 관악 1지점 → 기타\n",
      "파덕 오리바베큐 → 음식\n",
      "한설원 → 음식\n",
      "지에스GS25 서초한신점 → 쇼핑\n",
      "쇼군 → 음식\n",
      "에이스아메리카화재해상보험 → 보험\n",
      "써브웨이건대입구 → 음식\n",
      "GS25신림수성점 → 쇼핑\n",
      "벨렘351 건대점 → 음식\n",
      "동래정 선릉직영점 → 음식\n",
      "(주)아트박스 건대스타시티점 → 쇼핑\n",
      "나카노라멘 → 음식\n",
      "카츠공방 → 음식\n",
      "홍루몽 → 음식\n",
      "김가네김밥 건대점 → 음식\n",
      "AXA손해보험 → 보험\n",
      "쿠팡 → 쇼핑\n",
      "서초칼국수 닭한마리 → 음식\n",
      "영길리 → 음식\n",
      "(주)신세계프라퍼티 코엑스몰 → 쇼핑\n",
      "컴포즈커피 테헤란아이파크점 → 카페\n",
      "롯데시네마 신림 (온라인 티켓) → 오락\n",
      "씨유 관악건영점 → 기타\n",
      "OPENAI → 디지털\n",
      "세븐스애비뉴 (7th Avenue) → 기타\n",
      "건대365약국 → 의료\n",
      "(주)카카오 → 디지털\n",
      "노다메 → 음식\n",
      "부리또삐아 → 음식\n"
     ]
    }
   ],
   "source": [
    "results = []\n",
    "for store in unique_stores:\n",
    "    category = classify_store(store)\n",
    "    print(f\"{store} → {category}\")\n",
    "    results.append({\"store\": store, \"category\": category})"
   ]
  },
  {
   "cell_type": "code",
   "execution_count": 23,
   "id": "d5d5c053-fff4-4f64-9e4a-8250398630f6",
   "metadata": {},
   "outputs": [
    {
     "name": "stderr",
     "output_type": "stream",
     "text": [
      "/var/folders/yz/dp_hy1vd5jj8pzrlts8w9z4m0000gn/T/ipykernel_80102/3666435399.py:5: LangChainDeprecationWarning: The class `OpenAIEmbeddings` was deprecated in LangChain 0.0.9 and will be removed in 1.0. An updated version of the class exists in the :class:`~langchain-openai package and should be used instead. To use it run `pip install -U :class:`~langchain-openai` and import as `from :class:`~langchain_openai import OpenAIEmbeddings``.\n",
      "  embeddings = OpenAIEmbeddings()\n"
     ]
    }
   ],
   "source": [
    "from langchain.embeddings import OpenAIEmbeddings\n",
    "from langchain.vectorstores import FAISS\n",
    "from langchain.schema import Document\n",
    "\n",
    "embeddings = OpenAIEmbeddings()\n",
    "\n",
    "# Document 생성\n",
    "docs = [\n",
    "    Document(page_content=store[\"store\"], metadata={\"category\": store[\"category\"]})\n",
    "    for store in results\n",
    "]\n",
    "\n",
    "# 벡터 DB 생성\n",
    "vectorstore = FAISS.from_documents(docs, embedding=embeddings)\n",
    "\n",
    "# 저장\n",
    "vectorstore.save_local(\"./vector_db/stores\")"
   ]
  },
  {
   "cell_type": "code",
   "execution_count": 24,
   "id": "749ad070-62ec-4822-a0e1-c820d09b86d0",
   "metadata": {},
   "outputs": [
    {
     "data": {
      "text/plain": [
       "['index.faiss', 'index.pkl']"
      ]
     },
     "execution_count": 24,
     "metadata": {},
     "output_type": "execute_result"
    }
   ],
   "source": [
    "# 저장된 DB 확인\n",
    "os.listdir(\"./vector_db/stores\")"
   ]
  },
  {
   "cell_type": "code",
   "execution_count": null,
   "id": "298b590c-6b07-479a-bc61-1845a26a7ede",
   "metadata": {},
   "outputs": [
    {
     "name": "stdout",
     "output_type": "stream",
     "text": [
      "\n",
      "기타 재분류 시도: (주)어비즈\n"
     ]
    }
   ],
   "source": [
    "# 벡터 DB 로드\n",
    "from langchain.vectorstores import FAISS\n",
    "from langchain.embeddings import OpenAIEmbeddings\n",
    "\n",
    "vectorstore = FAISS.load_local(\n",
    "    \"./vector_db/stores\",\n",
    "    OpenAIEmbeddings(),\n",
    "    allow_dangerous_deserialization=True\n",
    ")\n",
    "\n",
    "# 모델 및 토크나이저\n",
    "tokenizer = AutoTokenizer.from_pretrained(\"PleIAs/Pleias-RAG-1B\")\n",
    "model = AutoModelForCausalLM.from_pretrained(\"PleIAs/Pleias-RAG-1B\").to(device)\n",
    "\n",
    "# padding 토큰 아예 사용하지 않도록 처리\n",
    "tokenizer.pad_token = tokenizer.eos_token  # 혹은 skip\n",
    "\n",
    "# 유사한 문맥 가져오기\n",
    "def get_similar_context(store_name: str, k=3, max_chars=500):\n",
    "    docs = vectorstore.similarity_search(store_name, k=k)\n",
    "    return \"\\n\".join([f\"- {doc.page_content}\" for doc in docs])[:max_chars]\n",
    "\n",
    "# 추론\n",
    "def rag_infer(store_name: str, context: str):\n",
    "    prompt = f\"\"\"[QUESTION]\n",
    "    \"{store_name}\"는 어떤 업종인가요?\n",
    "\n",
    "    [CONTEXT]\n",
    "    {context}\n",
    "\n",
    "    [ANSWER]\"\"\"\n",
    "\n",
    "    # padding 없이 encoding (truncation만 사용)\n",
    "    encoded = tokenizer(prompt, return_tensors=\"pt\", truncation=True, max_length=512)\n",
    "    encoded = {k: v.to(device) for k, v in encoded.items()}\n",
    "\n",
    "    with torch.no_grad():\n",
    "        output_ids = model.generate(\n",
    "            input_ids=encoded[\"input_ids\"],\n",
    "            attention_mask=encoded[\"attention_mask\"],\n",
    "            max_new_tokens=16,\n",
    "            do_sample=False,\n",
    "            temperature=0.0,\n",
    "        )\n",
    "\n",
    "    decoded = tokenizer.decode(output_ids[0], skip_special_tokens=True)\n",
    "    return decoded.split(\"[ANSWER]\")[-1].strip()\n",
    "\n",
    "# 결과 갱신\n",
    "for entry in results:\n",
    "    if entry[\"category\"] == \"기타\":\n",
    "        print(f\"\\n기타 재분류 시도: {entry['store']}\")\n",
    "        context = get_similar_context(entry[\"store\"], k=3)\n",
    "        if not context.strip():\n",
    "            print(\"context 없음 → 기타 유지\")\n",
    "            continue\n",
    "        new_category = rag_infer(entry[\"store\"], context)\n",
    "        print(f\"✅ {entry['store']} → {new_category}\")\n",
    "        entry[\"category\"] = new_category"
   ]
  },
  {
   "cell_type": "code",
   "execution_count": 28,
   "id": "580d433e-82d0-4d0d-98cc-96db8e51d2a2",
   "metadata": {},
   "outputs": [],
   "source": [
    "# 최신 results를 기반으로 문서 재생성\n",
    "updated_docs = [\n",
    "    Document(page_content=entry[\"store\"], metadata={\"category\": entry[\"category\"]})\n",
    "    for entry in results\n",
    "]\n",
    "\n",
    "# 임베딩 모델\n",
    "embedding_model = OpenAIEmbeddings()\n",
    "\n",
    "# 벡터스토어 재생성\n",
    "updated_vectorstore = FAISS.from_documents(updated_docs, embedding=embedding_model)\n",
    "\n",
    "# 기존 경로에 덮어쓰기 저장\n",
    "updated_vectorstore.save_local(\"./vector_db/stores\")"
   ]
  },
  {
   "cell_type": "code",
   "execution_count": 34,
   "id": "57651850-b7af-4f7e-9b5c-a383f40ce197",
   "metadata": {},
   "outputs": [],
   "source": [
    "import json\n",
    "\n",
    "corpus = [\n",
    "    {\n",
    "        \"instruction\": \"다음 가맹점의 업종을 분류하세요.\",\n",
    "        \"input\": entry[\"store\"],\n",
    "        \"output\": entry[\"category\"]\n",
    "    }\n",
    "    for entry in results\n",
    "]\n",
    "\n",
    "with open(\"./corpus.json\", \"w\", encoding=\"utf-8\") as f:\n",
    "    json.dump(corpus, f, ensure_ascii=False, indent=2)"
   ]
  },
  {
   "cell_type": "code",
   "execution_count": 36,
   "id": "b65e0c33-ada6-4761-8930-5dd3f219467f",
   "metadata": {},
   "outputs": [
    {
     "data": {
      "text/plain": [
       "[{'instruction': '다음 가맹점의 업종을 분류하세요.', 'input': '서초제일마디의원', 'output': '의료'},\n",
       " {'instruction': '다음 가맹점의 업종을 분류하세요.', 'input': '홍등', 'output': '음식'},\n",
       " {'instruction': '다음 가맹점의 업종을 분류하세요.', 'input': '옴므', 'output': '쇼핑'},\n",
       " {'instruction': '다음 가맹점의 업종을 분류하세요.', 'input': '(주)비바리퍼블리카', 'output': '디지털'},\n",
       " {'instruction': '다음 가맹점의 업종을 분류하세요.', 'input': '주식회사 함흥면옥', 'output': '음식'},\n",
       " {'instruction': '다음 가맹점의 업종을 분류하세요.', 'input': '긴자료코 서초점', 'output': '음식'},\n",
       " {'instruction': '다음 가맹점의 업종을 분류하세요.', 'input': '남도식당', 'output': '음식'},\n",
       " {'instruction': '다음 가맹점의 업종을 분류하세요.',\n",
       "  'input': 'LG  U+통신요금  자동이체',\n",
       "  'output': '통신'},\n",
       " {'instruction': '다음 가맹점의 업종을 분류하세요.', 'input': '하루', 'output': '음식'},\n",
       " {'instruction': '다음 가맹점의 업종을 분류하세요.', 'input': '부탄츄', 'output': '음식'},\n",
       " {'instruction': '다음 가맹점의 업종을 분류하세요.', 'input': '핵밥 건대점', 'output': '음식'},\n",
       " {'instruction': '다음 가맹점의 업종을 분류하세요.', 'input': '주식회사 유피소프트', 'output': '디지털'},\n",
       " {'instruction': '다음 가맹점의 업종을 분류하세요.', 'input': '왓더버거 서초점', 'output': '음식'},\n",
       " {'instruction': '다음 가맹점의 업종을 분류하세요.', 'input': '홈플러스', 'output': '쇼핑'},\n",
       " {'instruction': '다음 가맹점의 업종을 분류하세요.', 'input': 'Amazon_AWS', 'output': '디지털'},\n",
       " {'instruction': '다음 가맹점의 업종을 분류하세요.',\n",
       "  'input': '메가엠지씨커피 신대방역점',\n",
       "  'output': '카페'},\n",
       " {'instruction': '다음 가맹점의 업종을 분류하세요.', 'input': 'Apple', 'output': '디지털'},\n",
       " {'instruction': '다음 가맹점의 업종을 분류하세요.',\n",
       "  'input': '씨알지(c.r.g)-신림점',\n",
       "  'output': '기타'},\n",
       " {'instruction': '다음 가맹점의 업종을 분류하세요.',\n",
       "  'input': 'OPENAI *CHATGPT SUBSCR',\n",
       "  'output': '디지털'},\n",
       " {'instruction': '다음 가맹점의 업종을 분류하세요.', 'input': '( 주)버거요강남본점', 'output': '음식'},\n",
       " {'instruction': '다음 가맹점의 업종을 분류하세요.', 'input': '봉산옥', 'output': '음식'},\n",
       " {'instruction': '다음 가맹점의 업종을 분류하세요.', 'input': '쿠팡이츠', 'output': '음식'},\n",
       " {'instruction': '다음 가맹점의 업종을 분류하세요.', 'input': '(주)두잇', 'output': '기타'},\n",
       " {'instruction': '다음 가맹점의 업종을 분류하세요.', 'input': '고벤트 주식회사', 'output': '기타'},\n",
       " {'instruction': '다음 가맹점의 업종을 분류하세요.', 'input': '여기어때', 'output': '기타'},\n",
       " {'instruction': '다음 가맹점의 업종을 분류하세요.', 'input': '포마토김밥', 'output': '음식'},\n",
       " {'instruction': '다음 가맹점의 업종을 분류하세요.', 'input': '송황 칼국수', 'output': '음식'},\n",
       " {'instruction': '다음 가맹점의 업종을 분류하세요.', 'input': '탐앤탐스 광진화양점', 'output': '카페'},\n",
       " {'instruction': '다음 가맹점의 업종을 분류하세요.', 'input': '런드리킹7호점', 'output': '기타'},\n",
       " {'instruction': '다음 가맹점의 업종을 분류하세요.', 'input': '지금연구소 나우카페', 'output': '카페'},\n",
       " {'instruction': '다음 가맹점의 업종을 분류하세요.', 'input': '서초백화점약국', 'output': '의료'},\n",
       " {'instruction': '다음 가맹점의 업종을 분류하세요.', 'input': '서울옥', 'output': '음식'},\n",
       " {'instruction': '다음 가맹점의 업종을 분류하세요.', 'input': '서울도시가스(주)', 'output': '기타'},\n",
       " {'instruction': '다음 가맹점의 업종을 분류하세요.', 'input': '우먼센스', 'output': '쇼핑'},\n",
       " {'instruction': '다음 가맹점의 업종을 분류하세요.',\n",
       "  'input': '메가엠지씨커피 건대스타점',\n",
       "  'output': '카페'},\n",
       " {'instruction': '다음 가맹점의 업종을 분류하세요.', 'input': '진흥마트', 'output': '쇼핑'},\n",
       " {'instruction': '다음 가맹점의 업종을 분류하세요.', 'input': '주식회사 놀유니버스', 'output': '오락'},\n",
       " {'instruction': '다음 가맹점의 업종을 분류하세요.', 'input': '초라멘', 'output': '음식'},\n",
       " {'instruction': '다음 가맹점의 업종을 분류하세요.', 'input': '티머니 개인택시', 'output': '교통'},\n",
       " {'instruction': '다음 가맹점의 업종을 분류하세요.',\n",
       "  'input': '나오리주물럭 남부터미널점',\n",
       "  'output': '음식'},\n",
       " {'instruction': '다음 가맹점의 업종을 분류하세요.',\n",
       "  'input': '현대푸드(또봉이통닭&별난만두)',\n",
       "  'output': '음식'},\n",
       " {'instruction': '다음 가맹점의 업종을 분류하세요.',\n",
       "  'input': '세븐스타 코인노래연습장',\n",
       "  'output': '오락'},\n",
       " {'instruction': '다음 가맹점의 업종을 분류하세요.', 'input': '(주)에프이지', 'output': '기타'},\n",
       " {'instruction': '다음 가맹점의 업종을 분류하세요.', 'input': '(주)팀플러스', 'output': '기타'},\n",
       " {'instruction': '다음 가맹점의 업종을 분류하세요.', 'input': '(주)어비즈', 'output': '기타'},\n",
       " {'instruction': '다음 가맹점의 업종을 분류하세요.', 'input': '(주)갈라인터내셔널', 'output': '기타'},\n",
       " {'instruction': '다음 가맹점의 업종을 분류하세요.', 'input': '길동우동 건대점', 'output': '음식'},\n",
       " {'instruction': '다음 가맹점의 업종을 분류하세요.', 'input': '고향촌', 'output': '음식'},\n",
       " {'instruction': '다음 가맹점의 업종을 분류하세요.', 'input': '곱창의전당 서초본점', 'output': '음식'},\n",
       " {'instruction': '다음 가맹점의 업종을 분류하세요.', 'input': 'CU 건대상허도서관점', 'output': '기타'},\n",
       " {'instruction': '다음 가맹점의 업종을 분류하세요.',\n",
       "  'input': '주식회사 리베르 관악 1지점',\n",
       "  'output': '기타'},\n",
       " {'instruction': '다음 가맹점의 업종을 분류하세요.', 'input': '파덕 오리바베큐', 'output': '음식'},\n",
       " {'instruction': '다음 가맹점의 업종을 분류하세요.', 'input': '한설원', 'output': '음식'},\n",
       " {'instruction': '다음 가맹점의 업종을 분류하세요.',\n",
       "  'input': '지에스GS25 서초한신점',\n",
       "  'output': '쇼핑'},\n",
       " {'instruction': '다음 가맹점의 업종을 분류하세요.', 'input': '쇼군', 'output': '음식'},\n",
       " {'instruction': '다음 가맹점의 업종을 분류하세요.',\n",
       "  'input': '에이스아메리카화재해상보험',\n",
       "  'output': '보험'},\n",
       " {'instruction': '다음 가맹점의 업종을 분류하세요.', 'input': '써브웨이건대입구', 'output': '음식'},\n",
       " {'instruction': '다음 가맹점의 업종을 분류하세요.', 'input': 'GS25신림수성점', 'output': '쇼핑'},\n",
       " {'instruction': '다음 가맹점의 업종을 분류하세요.', 'input': '벨렘351 건대점', 'output': '음식'},\n",
       " {'instruction': '다음 가맹점의 업종을 분류하세요.', 'input': '동래정 선릉직영점', 'output': '음식'},\n",
       " {'instruction': '다음 가맹점의 업종을 분류하세요.',\n",
       "  'input': '(주)아트박스 건대스타시티점',\n",
       "  'output': '쇼핑'},\n",
       " {'instruction': '다음 가맹점의 업종을 분류하세요.', 'input': '나카노라멘', 'output': '음식'},\n",
       " {'instruction': '다음 가맹점의 업종을 분류하세요.', 'input': '카츠공방', 'output': '음식'},\n",
       " {'instruction': '다음 가맹점의 업종을 분류하세요.', 'input': '홍루몽', 'output': '음식'},\n",
       " {'instruction': '다음 가맹점의 업종을 분류하세요.', 'input': '김가네김밥 건대점', 'output': '음식'},\n",
       " {'instruction': '다음 가맹점의 업종을 분류하세요.', 'input': 'AXA손해보험', 'output': '보험'},\n",
       " {'instruction': '다음 가맹점의 업종을 분류하세요.', 'input': '쿠팡', 'output': '쇼핑'},\n",
       " {'instruction': '다음 가맹점의 업종을 분류하세요.', 'input': '서초칼국수 닭한마리', 'output': '음식'},\n",
       " {'instruction': '다음 가맹점의 업종을 분류하세요.', 'input': '영길리', 'output': '음식'},\n",
       " {'instruction': '다음 가맹점의 업종을 분류하세요.',\n",
       "  'input': '(주)신세계프라퍼티 코엑스몰',\n",
       "  'output': '쇼핑'},\n",
       " {'instruction': '다음 가맹점의 업종을 분류하세요.',\n",
       "  'input': '컴포즈커피 테헤란아이파크점',\n",
       "  'output': '카페'},\n",
       " {'instruction': '다음 가맹점의 업종을 분류하세요.',\n",
       "  'input': '롯데시네마 신림 (온라인 티켓)',\n",
       "  'output': '오락'},\n",
       " {'instruction': '다음 가맹점의 업종을 분류하세요.', 'input': '씨유 관악건영점', 'output': '기타'},\n",
       " {'instruction': '다음 가맹점의 업종을 분류하세요.', 'input': 'OPENAI', 'output': '디지털'},\n",
       " {'instruction': '다음 가맹점의 업종을 분류하세요.',\n",
       "  'input': '세븐스애비뉴 (7th Avenue)',\n",
       "  'output': '기타'},\n",
       " {'instruction': '다음 가맹점의 업종을 분류하세요.', 'input': '건대365약국', 'output': '의료'},\n",
       " {'instruction': '다음 가맹점의 업종을 분류하세요.', 'input': '(주)카카오', 'output': '디지털'},\n",
       " {'instruction': '다음 가맹점의 업종을 분류하세요.', 'input': '노다메', 'output': '음식'},\n",
       " {'instruction': '다음 가맹점의 업종을 분류하세요.', 'input': '부리또삐아', 'output': '음식'}]"
      ]
     },
     "execution_count": 36,
     "metadata": {},
     "output_type": "execute_result"
    }
   ],
   "source": [
    "corpus"
   ]
  },
  {
   "cell_type": "code",
   "execution_count": 38,
   "id": "8777641b-d118-423a-928c-4180c7ac6b09",
   "metadata": {},
   "outputs": [],
   "source": [
    "import random\n",
    "\n",
    "# shuffle한 뒤 분할\n",
    "random.shuffle(corpus)\n",
    "split_idx = int(len(corpus) * 0.8)\n",
    "train_data = corpus[:split_idx]\n",
    "validation_data = corpus[split_idx:]"
   ]
  },
  {
   "cell_type": "code",
   "execution_count": 40,
   "id": "614cfdbf-a1be-44cd-8a98-60745ee9d7f1",
   "metadata": {},
   "outputs": [
    {
     "data": {
      "text/plain": [
       "[{'instruction': '다음 가맹점의 업종을 분류하세요.', 'input': '벨렘351 건대점', 'output': '음식'},\n",
       " {'instruction': '다음 가맹점의 업종을 분류하세요.', 'input': '홍등', 'output': '음식'},\n",
       " {'instruction': '다음 가맹점의 업종을 분류하세요.', 'input': '쿠팡', 'output': '쇼핑'},\n",
       " {'instruction': '다음 가맹점의 업종을 분류하세요.', 'input': '송황 칼국수', 'output': '음식'},\n",
       " {'instruction': '다음 가맹점의 업종을 분류하세요.', 'input': '주식회사 놀유니버스', 'output': '오락'},\n",
       " {'instruction': '다음 가맹점의 업종을 분류하세요.',\n",
       "  'input': '씨알지(c.r.g)-신림점',\n",
       "  'output': '기타'},\n",
       " {'instruction': '다음 가맹점의 업종을 분류하세요.', 'input': '영길리', 'output': '음식'},\n",
       " {'instruction': '다음 가맹점의 업종을 분류하세요.', 'input': '고향촌', 'output': '음식'},\n",
       " {'instruction': '다음 가맹점의 업종을 분류하세요.', 'input': '봉산옥', 'output': '음식'},\n",
       " {'instruction': '다음 가맹점의 업종을 분류하세요.', 'input': '김가네김밥 건대점', 'output': '음식'},\n",
       " {'instruction': '다음 가맹점의 업종을 분류하세요.', 'input': '(주)카카오', 'output': '디지털'},\n",
       " {'instruction': '다음 가맹점의 업종을 분류하세요.',\n",
       "  'input': '(주)신세계프라퍼티 코엑스몰',\n",
       "  'output': '쇼핑'},\n",
       " {'instruction': '다음 가맹점의 업종을 분류하세요.', 'input': '쇼군', 'output': '음식'},\n",
       " {'instruction': '다음 가맹점의 업종을 분류하세요.',\n",
       "  'input': '(주)아트박스 건대스타시티점',\n",
       "  'output': '쇼핑'},\n",
       " {'instruction': '다음 가맹점의 업종을 분류하세요.', 'input': '나카노라멘', 'output': '음식'},\n",
       " {'instruction': '다음 가맹점의 업종을 분류하세요.', 'input': '(주)팀플러스', 'output': '기타'},\n",
       " {'instruction': '다음 가맹점의 업종을 분류하세요.', 'input': '티머니 개인택시', 'output': '교통'},\n",
       " {'instruction': '다음 가맹점의 업종을 분류하세요.', 'input': '(주)어비즈', 'output': '기타'},\n",
       " {'instruction': '다음 가맹점의 업종을 분류하세요.', 'input': '우먼센스', 'output': '쇼핑'},\n",
       " {'instruction': '다음 가맹점의 업종을 분류하세요.',\n",
       "  'input': '세븐스애비뉴 (7th Avenue)',\n",
       "  'output': '기타'},\n",
       " {'instruction': '다음 가맹점의 업종을 분류하세요.', 'input': '서울도시가스(주)', 'output': '기타'},\n",
       " {'instruction': '다음 가맹점의 업종을 분류하세요.',\n",
       "  'input': '메가엠지씨커피 건대스타점',\n",
       "  'output': '카페'},\n",
       " {'instruction': '다음 가맹점의 업종을 분류하세요.', 'input': '파덕 오리바베큐', 'output': '음식'},\n",
       " {'instruction': '다음 가맹점의 업종을 분류하세요.', 'input': '길동우동 건대점', 'output': '음식'},\n",
       " {'instruction': '다음 가맹점의 업종을 분류하세요.', 'input': '왓더버거 서초점', 'output': '음식'},\n",
       " {'instruction': '다음 가맹점의 업종을 분류하세요.', 'input': '서초제일마디의원', 'output': '의료'},\n",
       " {'instruction': '다음 가맹점의 업종을 분류하세요.', 'input': '초라멘', 'output': '음식'},\n",
       " {'instruction': '다음 가맹점의 업종을 분류하세요.',\n",
       "  'input': '현대푸드(또봉이통닭&별난만두)',\n",
       "  'output': '음식'},\n",
       " {'instruction': '다음 가맹점의 업종을 분류하세요.', 'input': '포마토김밥', 'output': '음식'},\n",
       " {'instruction': '다음 가맹점의 업종을 분류하세요.', 'input': '건대365약국', 'output': '의료'},\n",
       " {'instruction': '다음 가맹점의 업종을 분류하세요.', 'input': 'GS25신림수성점', 'output': '쇼핑'},\n",
       " {'instruction': '다음 가맹점의 업종을 분류하세요.',\n",
       "  'input': '주식회사 리베르 관악 1지점',\n",
       "  'output': '기타'},\n",
       " {'instruction': '다음 가맹점의 업종을 분류하세요.', 'input': 'Apple', 'output': '디지털'},\n",
       " {'instruction': '다음 가맹점의 업종을 분류하세요.',\n",
       "  'input': 'LG  U+통신요금  자동이체',\n",
       "  'output': '통신'},\n",
       " {'instruction': '다음 가맹점의 업종을 분류하세요.', 'input': '(주)에프이지', 'output': '기타'},\n",
       " {'instruction': '다음 가맹점의 업종을 분류하세요.',\n",
       "  'input': '롯데시네마 신림 (온라인 티켓)',\n",
       "  'output': '오락'},\n",
       " {'instruction': '다음 가맹점의 업종을 분류하세요.', 'input': 'CU 건대상허도서관점', 'output': '기타'},\n",
       " {'instruction': '다음 가맹점의 업종을 분류하세요.',\n",
       "  'input': '세븐스타 코인노래연습장',\n",
       "  'output': '오락'},\n",
       " {'instruction': '다음 가맹점의 업종을 분류하세요.',\n",
       "  'input': '메가엠지씨커피 신대방역점',\n",
       "  'output': '카페'},\n",
       " {'instruction': '다음 가맹점의 업종을 분류하세요.', 'input': '부리또삐아', 'output': '음식'},\n",
       " {'instruction': '다음 가맹점의 업종을 분류하세요.', 'input': 'AXA손해보험', 'output': '보험'},\n",
       " {'instruction': '다음 가맹점의 업종을 분류하세요.', 'input': '( 주)버거요강남본점', 'output': '음식'},\n",
       " {'instruction': '다음 가맹점의 업종을 분류하세요.', 'input': '남도식당', 'output': '음식'},\n",
       " {'instruction': '다음 가맹점의 업종을 분류하세요.', 'input': '하루', 'output': '음식'},\n",
       " {'instruction': '다음 가맹점의 업종을 분류하세요.', 'input': '쿠팡이츠', 'output': '음식'},\n",
       " {'instruction': '다음 가맹점의 업종을 분류하세요.', 'input': '주식회사 함흥면옥', 'output': '음식'},\n",
       " {'instruction': '다음 가맹점의 업종을 분류하세요.', 'input': '홈플러스', 'output': '쇼핑'},\n",
       " {'instruction': '다음 가맹점의 업종을 분류하세요.', 'input': '(주)갈라인터내셔널', 'output': '기타'},\n",
       " {'instruction': '다음 가맹점의 업종을 분류하세요.',\n",
       "  'input': '컴포즈커피 테헤란아이파크점',\n",
       "  'output': '카페'},\n",
       " {'instruction': '다음 가맹점의 업종을 분류하세요.',\n",
       "  'input': '에이스아메리카화재해상보험',\n",
       "  'output': '보험'},\n",
       " {'instruction': '다음 가맹점의 업종을 분류하세요.', 'input': '진흥마트', 'output': '쇼핑'},\n",
       " {'instruction': '다음 가맹점의 업종을 분류하세요.', 'input': '노다메', 'output': '음식'},\n",
       " {'instruction': '다음 가맹점의 업종을 분류하세요.', 'input': '홍루몽', 'output': '음식'},\n",
       " {'instruction': '다음 가맹점의 업종을 분류하세요.', 'input': '핵밥 건대점', 'output': '음식'},\n",
       " {'instruction': '다음 가맹점의 업종을 분류하세요.', 'input': '지금연구소 나우카페', 'output': '카페'},\n",
       " {'instruction': '다음 가맹점의 업종을 분류하세요.', 'input': '런드리킹7호점', 'output': '기타'},\n",
       " {'instruction': '다음 가맹점의 업종을 분류하세요.', 'input': '긴자료코 서초점', 'output': '음식'},\n",
       " {'instruction': '다음 가맹점의 업종을 분류하세요.', 'input': '동래정 선릉직영점', 'output': '음식'},\n",
       " {'instruction': '다음 가맹점의 업종을 분류하세요.',\n",
       "  'input': '나오리주물럭 남부터미널점',\n",
       "  'output': '음식'},\n",
       " {'instruction': '다음 가맹점의 업종을 분류하세요.', 'input': '서초백화점약국', 'output': '의료'},\n",
       " {'instruction': '다음 가맹점의 업종을 분류하세요.', 'input': '부탄츄', 'output': '음식'},\n",
       " {'instruction': '다음 가맹점의 업종을 분류하세요.', 'input': '(주)두잇', 'output': '기타'},\n",
       " {'instruction': '다음 가맹점의 업종을 분류하세요.', 'input': 'Amazon_AWS', 'output': '디지털'}]"
      ]
     },
     "execution_count": 40,
     "metadata": {},
     "output_type": "execute_result"
    }
   ],
   "source": [
    "train_data"
   ]
  },
  {
   "cell_type": "code",
   "execution_count": 44,
   "id": "32378cba-7164-4f2c-b302-3a463a1910b2",
   "metadata": {},
   "outputs": [
    {
     "data": {
      "text/plain": [
       "[{'instruction': '다음 가맹점의 업종을 분류하세요.', 'input': '한설원', 'output': '음식'},\n",
       " {'instruction': '다음 가맹점의 업종을 분류하세요.', 'input': '서울옥', 'output': '음식'},\n",
       " {'instruction': '다음 가맹점의 업종을 분류하세요.', 'input': '서초칼국수 닭한마리', 'output': '음식'},\n",
       " {'instruction': '다음 가맹점의 업종을 분류하세요.', 'input': '써브웨이건대입구', 'output': '음식'},\n",
       " {'instruction': '다음 가맹점의 업종을 분류하세요.', 'input': '곱창의전당 서초본점', 'output': '음식'},\n",
       " {'instruction': '다음 가맹점의 업종을 분류하세요.', 'input': '옴므', 'output': '쇼핑'},\n",
       " {'instruction': '다음 가맹점의 업종을 분류하세요.', 'input': '씨유 관악건영점', 'output': '기타'},\n",
       " {'instruction': '다음 가맹점의 업종을 분류하세요.', 'input': '여기어때', 'output': '기타'},\n",
       " {'instruction': '다음 가맹점의 업종을 분류하세요.', 'input': 'OPENAI', 'output': '디지털'},\n",
       " {'instruction': '다음 가맹점의 업종을 분류하세요.', 'input': '탐앤탐스 광진화양점', 'output': '카페'},\n",
       " {'instruction': '다음 가맹점의 업종을 분류하세요.', 'input': '카츠공방', 'output': '음식'},\n",
       " {'instruction': '다음 가맹점의 업종을 분류하세요.',\n",
       "  'input': 'OPENAI *CHATGPT SUBSCR',\n",
       "  'output': '디지털'},\n",
       " {'instruction': '다음 가맹점의 업종을 분류하세요.',\n",
       "  'input': '지에스GS25 서초한신점',\n",
       "  'output': '쇼핑'},\n",
       " {'instruction': '다음 가맹점의 업종을 분류하세요.', 'input': '(주)비바리퍼블리카', 'output': '디지털'},\n",
       " {'instruction': '다음 가맹점의 업종을 분류하세요.', 'input': '고벤트 주식회사', 'output': '기타'},\n",
       " {'instruction': '다음 가맹점의 업종을 분류하세요.', 'input': '주식회사 유피소프트', 'output': '디지털'}]"
      ]
     },
     "execution_count": 44,
     "metadata": {},
     "output_type": "execute_result"
    }
   ],
   "source": [
    "validation_data"
   ]
  },
  {
   "cell_type": "code",
   "execution_count": 46,
   "id": "d88936c8-4cd0-441b-b363-4cd01edf573c",
   "metadata": {},
   "outputs": [],
   "source": [
    "from datasets import Dataset, DatasetDict\n",
    "\n",
    "# 데이터셋 변환\n",
    "train_dataset = Dataset.from_list(train_data)\n",
    "val_dataset = Dataset.from_list(validation_data)\n",
    "\n",
    "raw_datasets = DatasetDict({\n",
    "    \"train\": train_dataset,\n",
    "    \"validation\": val_dataset\n",
    "})"
   ]
  },
  {
   "cell_type": "code",
   "execution_count": 48,
   "id": "a038ef3e-cabf-4fd5-a64f-4ed7ec82e507",
   "metadata": {},
   "outputs": [
    {
     "data": {
      "application/vnd.jupyter.widget-view+json": {
       "model_id": "8e759605701a470096f199154296de0a",
       "version_major": 2,
       "version_minor": 0
      },
      "text/plain": [
       "Map:   0%|          | 0/63 [00:00<?, ? examples/s]"
      ]
     },
     "metadata": {},
     "output_type": "display_data"
    },
    {
     "data": {
      "application/vnd.jupyter.widget-view+json": {
       "model_id": "389ac1968b414f0e9f98776e48374651",
       "version_major": 2,
       "version_minor": 0
      },
      "text/plain": [
       "Map:   0%|          | 0/16 [00:00<?, ? examples/s]"
      ]
     },
     "metadata": {},
     "output_type": "display_data"
    }
   ],
   "source": [
    "# 데이터 전처리\n",
    "def preprocess_function(example):\n",
    "    return {\n",
    "        \"text\": f\"[INSTRUCTION] {example['instruction']}\\n[INPUT] {example['input']}\\n[OUTPUT] {example['output']}\"\n",
    "    }\n",
    "\n",
    "raw_datasets = raw_datasets.map(preprocess_function)"
   ]
  },
  {
   "cell_type": "code",
   "execution_count": 59,
   "id": "55924d08-3b97-448e-8032-242515e354ff",
   "metadata": {},
   "outputs": [],
   "source": [
    "tokenizer = AutoTokenizer.from_pretrained(\"meta-llama/Llama-3.2-1B\")\n",
    "tokenizer.pad_token = tokenizer.eos_token\n",
    "model = AutoModelForCausalLM.from_pretrained(\"meta-llama/Llama-3.2-1B\")"
   ]
  },
  {
   "cell_type": "code",
   "execution_count": 61,
   "id": "3926d6a9-6d10-4e66-a8c4-22dfe2cf854f",
   "metadata": {},
   "outputs": [],
   "source": [
    "# 데이터 포맷 변환 함수\n",
    "def format_llama_prompt(example):\n",
    "    prompt = f\"### 질문: {example['instruction']}\\n### 답변: {example['output']}\"\n",
    "    return {\"text\": prompt}\n",
    "\n",
    "# 토크나이징 함수\n",
    "def tokenize_function(examples):\n",
    "    tokenized = tokenizer(\n",
    "        examples[\"text\"],\n",
    "        padding=\"max_length\",\n",
    "        truncation=True,\n",
    "        max_length=128\n",
    "    )\n",
    "    tokenized[\"labels\"] = [\n",
    "        [(label if label != tokenizer.pad_token_id else -100) for label in input_ids]\n",
    "        for input_ids in tokenized[\"input_ids\"]\n",
    "    ]\n",
    "    return tokenized"
   ]
  },
  {
   "cell_type": "code",
   "execution_count": 63,
   "id": "d9624b63-7a14-44be-9e71-7c281aef657d",
   "metadata": {},
   "outputs": [
    {
     "data": {
      "application/vnd.jupyter.widget-view+json": {
       "model_id": "13d118a4c8bf4d52b8e5b351865ddf80",
       "version_major": 2,
       "version_minor": 0
      },
      "text/plain": [
       "Map:   0%|          | 0/63 [00:00<?, ? examples/s]"
      ]
     },
     "metadata": {},
     "output_type": "display_data"
    },
    {
     "data": {
      "application/vnd.jupyter.widget-view+json": {
       "model_id": "92efc964adab4b60b2e0cc3747b5f70c",
       "version_major": 2,
       "version_minor": 0
      },
      "text/plain": [
       "Map:   0%|          | 0/16 [00:00<?, ? examples/s]"
      ]
     },
     "metadata": {},
     "output_type": "display_data"
    }
   ],
   "source": [
    "tokenized_datasets = raw_datasets.map(\n",
    "    tokenize_function,\n",
    "    batched=True,\n",
    "    remove_columns=raw_datasets[\"train\"].column_names\n",
    ")"
   ]
  },
  {
   "cell_type": "code",
   "execution_count": 65,
   "id": "a418c0df-3c27-413a-9895-e6a393a69501",
   "metadata": {},
   "outputs": [
    {
     "name": "stderr",
     "output_type": "stream",
     "text": [
      "huggingface/tokenizers: The current process just got forked, after parallelism has already been used. Disabling parallelism to avoid deadlocks...\n",
      "To disable this warning, you can either:\n",
      "\t- Avoid using `tokenizers` before the fork if possible\n",
      "\t- Explicitly set the environment variable TOKENIZERS_PARALLELISM=(true | false)\n",
      "huggingface/tokenizers: The current process just got forked, after parallelism has already been used. Disabling parallelism to avoid deadlocks...\n",
      "To disable this warning, you can either:\n",
      "\t- Avoid using `tokenizers` before the fork if possible\n",
      "\t- Explicitly set the environment variable TOKENIZERS_PARALLELISM=(true | false)\n",
      "huggingface/tokenizers: The current process just got forked, after parallelism has already been used. Disabling parallelism to avoid deadlocks...\n",
      "To disable this warning, you can either:\n",
      "\t- Avoid using `tokenizers` before the fork if possible\n",
      "\t- Explicitly set the environment variable TOKENIZERS_PARALLELISM=(true | false)\n",
      "huggingface/tokenizers: The current process just got forked, after parallelism has already been used. Disabling parallelism to avoid deadlocks...\n",
      "To disable this warning, you can either:\n",
      "\t- Avoid using `tokenizers` before the fork if possible\n",
      "\t- Explicitly set the environment variable TOKENIZERS_PARALLELISM=(true | false)\n",
      "\u001b[34m\u001b[1mwandb\u001b[0m: Currently logged in as: \u001b[33mhongppa324\u001b[0m (\u001b[33mhongppa324-bizbee\u001b[0m) to \u001b[32mhttps://api.wandb.ai\u001b[0m. Use \u001b[1m`wandb login --relogin`\u001b[0m to force relogin\n",
      "huggingface/tokenizers: The current process just got forked, after parallelism has already been used. Disabling parallelism to avoid deadlocks...\n",
      "To disable this warning, you can either:\n",
      "\t- Avoid using `tokenizers` before the fork if possible\n",
      "\t- Explicitly set the environment variable TOKENIZERS_PARALLELISM=(true | false)\n"
     ]
    },
    {
     "data": {
      "text/html": [
       "Tracking run with wandb version 0.19.11"
      ],
      "text/plain": [
       "<IPython.core.display.HTML object>"
      ]
     },
     "metadata": {},
     "output_type": "display_data"
    },
    {
     "data": {
      "text/html": [
       "Run data is saved locally in <code>/Users/seungchanhong/hhplus_week7/wandb/run-20250516_054919-5tqz4lrt</code>"
      ],
      "text/plain": [
       "<IPython.core.display.HTML object>"
      ]
     },
     "metadata": {},
     "output_type": "display_data"
    },
    {
     "data": {
      "text/html": [
       "Syncing run <strong><a href='https://wandb.ai/hongppa324-bizbee/CardList/runs/5tqz4lrt' target=\"_blank\">wobbly-flower-15</a></strong> to <a href='https://wandb.ai/hongppa324-bizbee/CardList' target=\"_blank\">Weights & Biases</a> (<a href='https://wandb.me/developer-guide' target=\"_blank\">docs</a>)<br>"
      ],
      "text/plain": [
       "<IPython.core.display.HTML object>"
      ]
     },
     "metadata": {},
     "output_type": "display_data"
    },
    {
     "data": {
      "text/html": [
       " View project at <a href='https://wandb.ai/hongppa324-bizbee/CardList' target=\"_blank\">https://wandb.ai/hongppa324-bizbee/CardList</a>"
      ],
      "text/plain": [
       "<IPython.core.display.HTML object>"
      ]
     },
     "metadata": {},
     "output_type": "display_data"
    },
    {
     "data": {
      "text/html": [
       " View run at <a href='https://wandb.ai/hongppa324-bizbee/CardList/runs/5tqz4lrt' target=\"_blank\">https://wandb.ai/hongppa324-bizbee/CardList/runs/5tqz4lrt</a>"
      ],
      "text/plain": [
       "<IPython.core.display.HTML object>"
      ]
     },
     "metadata": {},
     "output_type": "display_data"
    }
   ],
   "source": [
    "import wandb\n",
    "\n",
    "wandb.init(project=\"CardList\")\n",
    "wandb.run.name = \"sft\""
   ]
  },
  {
   "cell_type": "code",
   "execution_count": 69,
   "id": "9b07a072-4246-4e15-b5d0-7cd0bdd58f6a",
   "metadata": {},
   "outputs": [],
   "source": [
    "from transformers import TrainingArguments, Trainer, default_data_collator\n",
    "\n",
    "training_args = TrainingArguments(\n",
    "    output_dir=\"./results\",\n",
    "    per_device_train_batch_size=1,\n",
    "    per_device_eval_batch_size=1,\n",
    "    num_train_epochs=3,\n",
    "    eval_strategy=\"epoch\",\n",
    "    save_strategy=\"epoch\",\n",
    "    logging_dir=\"./logs\",\n",
    "    logging_steps=10,\n",
    "    report_to=\"wandb\",\n",
    "    run_name=\"llama-finetune-1b\",\n",
    "    gradient_checkpointing=True,\n",
    "    use_cpu=True\n",
    ")"
   ]
  },
  {
   "cell_type": "code",
   "execution_count": 71,
   "id": "a7c2fa29-e1f8-4d8c-b2d2-5666ac701b92",
   "metadata": {},
   "outputs": [
    {
     "data": {
      "text/plain": [
       "device(type='cpu')"
      ]
     },
     "execution_count": 71,
     "metadata": {},
     "output_type": "execute_result"
    }
   ],
   "source": [
    "device"
   ]
  },
  {
   "cell_type": "code",
   "execution_count": 73,
   "id": "431f9e4e-94a0-4a2d-bb52-cc24d0832458",
   "metadata": {},
   "outputs": [
    {
     "name": "stderr",
     "output_type": "stream",
     "text": [
      "/var/folders/yz/dp_hy1vd5jj8pzrlts8w9z4m0000gn/T/ipykernel_80102/1334537084.py:1: FutureWarning: `tokenizer` is deprecated and will be removed in version 5.0.0 for `Trainer.__init__`. Use `processing_class` instead.\n",
      "  trainer = Trainer(\n",
      "`use_cache=True` is incompatible with gradient checkpointing. Setting `use_cache=False`.\n"
     ]
    },
    {
     "data": {
      "text/html": [
       "\n",
       "    <div>\n",
       "      \n",
       "      <progress value='189' max='189' style='width:300px; height:20px; vertical-align: middle;'></progress>\n",
       "      [189/189 1:10:55, Epoch 3/3]\n",
       "    </div>\n",
       "    <table border=\"1\" class=\"dataframe\">\n",
       "  <thead>\n",
       " <tr style=\"text-align: left;\">\n",
       "      <th>Epoch</th>\n",
       "      <th>Training Loss</th>\n",
       "      <th>Validation Loss</th>\n",
       "    </tr>\n",
       "  </thead>\n",
       "  <tbody>\n",
       "    <tr>\n",
       "      <td>1</td>\n",
       "      <td>1.804900</td>\n",
       "      <td>1.436433</td>\n",
       "    </tr>\n",
       "    <tr>\n",
       "      <td>2</td>\n",
       "      <td>0.883800</td>\n",
       "      <td>1.569680</td>\n",
       "    </tr>\n",
       "    <tr>\n",
       "      <td>3</td>\n",
       "      <td>0.365400</td>\n",
       "      <td>1.622382</td>\n",
       "    </tr>\n",
       "  </tbody>\n",
       "</table><p>"
      ],
      "text/plain": [
       "<IPython.core.display.HTML object>"
      ]
     },
     "metadata": {},
     "output_type": "display_data"
    },
    {
     "data": {
      "text/plain": [
       "TrainOutput(global_step=189, training_loss=0.994094210326987, metrics={'train_runtime': 4268.7179, 'train_samples_per_second': 0.044, 'train_steps_per_second': 0.044, 'total_flos': 141254104449024.0, 'train_loss': 0.994094210326987, 'epoch': 3.0})"
      ]
     },
     "execution_count": 73,
     "metadata": {},
     "output_type": "execute_result"
    }
   ],
   "source": [
    "trainer = Trainer(\n",
    "    model=model,\n",
    "    args=training_args,\n",
    "    train_dataset=tokenized_datasets[\"train\"],\n",
    "    eval_dataset=tokenized_datasets[\"validation\"],\n",
    "    tokenizer=tokenizer,\n",
    "    data_collator=default_data_collator\n",
    ")\n",
    "\n",
    "trainer.train()"
   ]
  },
  {
   "cell_type": "code",
   "execution_count": null,
   "id": "f420373c-bd37-4c13-8097-532abcc1e677",
   "metadata": {},
   "outputs": [],
   "source": []
  }
 ],
 "metadata": {
  "kernelspec": {
   "display_name": "Python [conda env:hhplus_week7]",
   "language": "python",
   "name": "conda-env-hhplus_week7-py"
  },
  "language_info": {
   "codemirror_mode": {
    "name": "ipython",
    "version": 3
   },
   "file_extension": ".py",
   "mimetype": "text/x-python",
   "name": "python",
   "nbconvert_exporter": "python",
   "pygments_lexer": "ipython3",
   "version": "3.13.2"
  }
 },
 "nbformat": 4,
 "nbformat_minor": 5
}

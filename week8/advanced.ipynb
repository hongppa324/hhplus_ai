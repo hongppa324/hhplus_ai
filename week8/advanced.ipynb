{
 "cells": [
  {
   "cell_type": "code",
   "execution_count": 1,
   "id": "2f06eca2-5f1e-4d15-b8ac-9f3d549bef3d",
   "metadata": {},
   "outputs": [],
   "source": [
    "import torch\n",
    "from transformers import AutoTokenizer, AutoModelForCausalLM"
   ]
  },
  {
   "cell_type": "code",
   "execution_count": 2,
   "id": "dff6200a-c1d5-4a5b-99c1-fb8c4c92930b",
   "metadata": {},
   "outputs": [],
   "source": [
    "device = torch.device(\"cpu\")"
   ]
  },
  {
   "cell_type": "code",
   "execution_count": 3,
   "id": "c0291596-fb50-482d-b768-37baf22392d0",
   "metadata": {},
   "outputs": [],
   "source": [
    "import pandas as pd\n",
    "\n",
    "# 거래 내역 엑셀파일 읽기\n",
    "df = pd.read_excel(\"./transaction.xlsx\")\n",
    "\n",
    "# 거래일이 없는 행 제거 (null 또는 빈 문자열)\n",
    "df = df[df[\"거래일\"].notna() & (df[\"거래일\"].str.strip() != \"\")]\n",
    "\n",
    "# JSON 파일로 저장\n",
    "df.to_json(\"output.json\", orient=\"records\", force_ascii=False, indent=2)"
   ]
  },
  {
   "cell_type": "code",
   "execution_count": 4,
   "id": "6ff19060-95a9-4954-b2bc-6aff2186a206",
   "metadata": {},
   "outputs": [],
   "source": [
    "from dotenv import load_dotenv\n",
    "import openai\n",
    "from openai import OpenAI\n",
    "import os\n",
    "\n",
    "load_dotenv()\n",
    "\n",
    "os.environ[\"WANDB_DISABLE_CODE\"] = \"true\"\n",
    "api_key = os.getenv(\"OPENAI_API_KEY\")\n",
    "client=OpenAI(api_key=api_key)"
   ]
  },
  {
   "cell_type": "code",
   "execution_count": 5,
   "id": "9f3d04cb-51b1-4b76-a404-f104b2d5241e",
   "metadata": {},
   "outputs": [
    {
     "name": "stderr",
     "output_type": "stream",
     "text": [
      "\u001b[34m\u001b[1mwandb\u001b[0m: Currently logged in as: \u001b[33mhongppa324\u001b[0m (\u001b[33mhongppa324-bizbee\u001b[0m) to \u001b[32mhttps://api.wandb.ai\u001b[0m. Use \u001b[1m`wandb login --relogin`\u001b[0m to force relogin\n"
     ]
    },
    {
     "data": {
      "text/html": [
       "Tracking run with wandb version 0.19.11"
      ],
      "text/plain": [
       "<IPython.core.display.HTML object>"
      ]
     },
     "metadata": {},
     "output_type": "display_data"
    },
    {
     "data": {
      "text/html": [
       "Run data is saved locally in <code>/Users/seungchanhong/hhplus_week7/wandb/run-20250522_213601-cz3ksvcr</code>"
      ],
      "text/plain": [
       "<IPython.core.display.HTML object>"
      ]
     },
     "metadata": {},
     "output_type": "display_data"
    },
    {
     "data": {
      "text/html": [
       "Syncing run <strong><a href='https://wandb.ai/hongppa324-bizbee/CardList/runs/cz3ksvcr' target=\"_blank\">clean-haze-35</a></strong> to <a href='https://wandb.ai/hongppa324-bizbee/CardList' target=\"_blank\">Weights & Biases</a> (<a href='https://wandb.me/developer-guide' target=\"_blank\">docs</a>)<br>"
      ],
      "text/plain": [
       "<IPython.core.display.HTML object>"
      ]
     },
     "metadata": {},
     "output_type": "display_data"
    },
    {
     "data": {
      "text/html": [
       " View project at <a href='https://wandb.ai/hongppa324-bizbee/CardList' target=\"_blank\">https://wandb.ai/hongppa324-bizbee/CardList</a>"
      ],
      "text/plain": [
       "<IPython.core.display.HTML object>"
      ]
     },
     "metadata": {},
     "output_type": "display_data"
    },
    {
     "data": {
      "text/html": [
       " View run at <a href='https://wandb.ai/hongppa324-bizbee/CardList/runs/cz3ksvcr' target=\"_blank\">https://wandb.ai/hongppa324-bizbee/CardList/runs/cz3ksvcr</a>"
      ],
      "text/plain": [
       "<IPython.core.display.HTML object>"
      ]
     },
     "metadata": {},
     "output_type": "display_data"
    }
   ],
   "source": [
    "import wandb\n",
    "import logging\n",
    "\n",
    "wandb.init(project=\"CardList\")\n",
    "wandb.run.name = \"sft\""
   ]
  },
  {
   "cell_type": "code",
   "execution_count": 6,
   "id": "8ddc4fce-990b-49c2-b87d-d40293ec5f73",
   "metadata": {},
   "outputs": [
    {
     "data": {
      "application/vnd.jupyter.widget-view+json": {
       "model_id": "dfb7d552e9444164b1c43512453c0616",
       "version_major": 2,
       "version_minor": 0
      },
      "text/plain": [
       "Generating train split: 0 examples [00:00, ? examples/s]"
      ]
     },
     "metadata": {},
     "output_type": "display_data"
    }
   ],
   "source": [
    "from datasets import load_dataset\n",
    "\n",
    "# JSON 데이터 로드\n",
    "dataset = load_dataset(\"json\", data_files=\"output.json\")[\"train\"]"
   ]
  },
  {
   "cell_type": "code",
   "execution_count": 7,
   "id": "0dc05f95-61c8-4ff0-ab7c-e38c87e8c2d1",
   "metadata": {},
   "outputs": [
    {
     "name": "stdout",
     "output_type": "stream",
     "text": [
      "Dataset({\n",
      "    features: ['거래일', '카드구분', '이용카드', '가맹점명', '금액', '이용구분', '거래통화', '해외이용금액', '취소상태'],\n",
      "    num_rows: 748\n",
      "})\n"
     ]
    }
   ],
   "source": [
    "print(dataset)"
   ]
  },
  {
   "cell_type": "code",
   "execution_count": 8,
   "id": "c8489ae8-322c-4e34-b89a-54ba43b0e9e6",
   "metadata": {},
   "outputs": [
    {
     "data": {
      "text/plain": [
       "['테이큰커피',\n",
       " '서초백화점약국',\n",
       " '라이즈커피로스터즈',\n",
       " '에이스손해보험 다이렉트',\n",
       " '현대푸드(또봉이통닭&별난만두)',\n",
       " '지금연구소 나우카페',\n",
       " 'BITE 2 HEAVEN(바이투헤븐)',\n",
       " '빽다방 건대동문회관점',\n",
       " '시옌',\n",
       " '서울붕어베이커리',\n",
       " '포크포크',\n",
       " '우청옥',\n",
       " '건대365약국',\n",
       " '수리치킨',\n",
       " '이케아코리아 유한회사',\n",
       " '백패커',\n",
       " '롯데슈퍼 서초국제전자센터점',\n",
       " '파덕 오리바베큐',\n",
       " '부리또삐아',\n",
       " '영커피 강남해커스점',\n",
       " '페이플',\n",
       " '원족발 순대국',\n",
       " '한설원',\n",
       " '홍등',\n",
       " '고흥순대국',\n",
       " '(주)케이에프씨코리아 KFC강남역',\n",
       " '(주)아트박스 건대스타시티점',\n",
       " '대보건설(주) 구리(일산방향)주',\n",
       " '서일체육문화센터',\n",
       " '제오헤어(신림점)',\n",
       " '현이네 고기국수',\n",
       " '다와 마트',\n",
       " '세븐스타 코인노래연습장',\n",
       " '왓더버거 서초점',\n",
       " '24시자양감자탕',\n",
       " '홈플러스금천점',\n",
       " '(주)써브웨이 신림본점',\n",
       " '주식회사 아성다이소',\n",
       " '노다메',\n",
       " '서울옥',\n",
       " '주식회사 함흥면옥',\n",
       " '움버거앤윙스 어린이대공원역점',\n",
       " '쇼군',\n",
       " '엑스엑스커피메이커 건대점',\n",
       " '세븐일레븐 M신대방역점',\n",
       " '메가엠지씨커피 신대방역점',\n",
       " '주식회사 놀유니버스',\n",
       " '지에스GS25 서초한신점',\n",
       " '주식회사 비케이알 버거킹신림역',\n",
       " '( 주)버거요강남본점',\n",
       " '이디야 신대방역점',\n",
       " '주식회사 편한커피',\n",
       " '구시아푸드마켓',\n",
       " '티머니 개인택시',\n",
       " '맘스터치 대학동점',\n",
       " '서울베스트의료의원',\n",
       " '제니스약국',\n",
       " '한송',\n",
       " '린스시',\n",
       " '주식회사 한빛',\n",
       " '쿠팡이츠',\n",
       " '(주)갈라인터내셔널',\n",
       " '이마트24 센트럴키오스크점',\n",
       " '고벤트 주식회사',\n",
       " '길동우동 건대점',\n",
       " '나이스인프라 주식회사',\n",
       " '노브랜드버거 신림남부점',\n",
       " '런드리킹7호점',\n",
       " '우먼센스',\n",
       " '서초제일마디의원',\n",
       " '청담',\n",
       " '함포해장 서초점',\n",
       " '주식회사 서울밥집',\n",
       " '빈브라더스 합정점',\n",
       " '농민순대',\n",
       " '시카프관광개발주식회사함양(통',\n",
       " 'GS25 관악녹두점',\n",
       " '(주)팀플러스',\n",
       " '채향',\n",
       " '로또노래연습장',\n",
       " '부탄츄',\n",
       " '메저커피(mezer coffee)',\n",
       " '오마카세 오사이초밥 강남',\n",
       " '더이퀼리브리엄커피',\n",
       " '메가엠지씨커피 건대스타점',\n",
       " '사토이라멘',\n",
       " '(주)이마트 구로점',\n",
       " '소문난 청년푸줏간',\n",
       " '주식회사 신부원 궁',\n",
       " '롯데시네마 신림 (온라인 티켓)',\n",
       " 'GS25신림수성점',\n",
       " '버거운녀석들',\n",
       " '(주)어비즈',\n",
       " '서울시설공단(인터넷정기권)',\n",
       " 'OF',\n",
       " '원조숯골냉면본점',\n",
       " '돈천지',\n",
       " '하오차이',\n",
       " '사랑방',\n",
       " '고향촌',\n",
       " '팔팔 너구리 해장',\n",
       " '커피빈코리아 테헤란로비젼타워',\n",
       " '맛좋은순대국',\n",
       " '말통커피 남부터미널점',\n",
       " '유연카레 서초점',\n",
       " 'Amazon_AWS',\n",
       " '(주)공유어장',\n",
       " '세븐스애비뉴 (7th Avenue)',\n",
       " '주식회사 유피소프트',\n",
       " '아칸&플렉스 대전로드점',\n",
       " '티맵모빌리티',\n",
       " '지에스25(GS25) 서초모나코점',\n",
       " '(주)핌아시아',\n",
       " '런드리킹셀프빨래방 신대방점',\n",
       " '에이스아메리카화재해상보험',\n",
       " '쿠팡(쿠페이)',\n",
       " '제주은희네해장국 예술의전당점',\n",
       " '서울도시가스(주)',\n",
       " '크린토피아 관악신사점',\n",
       " '매머드익스프레스 남부터미널점',\n",
       " 'AXA손해보험',\n",
       " '호파스타생면파스타건대본점(HO',\n",
       " '나카노라멘',\n",
       " '주식회사 엠플레이그라운드 건대',\n",
       " '천지인주유소',\n",
       " '(주)코리아세븐 신림고시촌점',\n",
       " '봉산옥',\n",
       " '카페동네 신림',\n",
       " '전국고속버스운송사업조합',\n",
       " '밥심이',\n",
       " '(주)아트박스 신림포도몰점',\n",
       " '고품격 커피공장',\n",
       " '나오리장작구이 서초점',\n",
       " '라콜롬브코리아 주식회사',\n",
       " '써브웨이 건대입구점',\n",
       " '진로할인마트',\n",
       " '와이즐리',\n",
       " '옴므',\n",
       " '카츠공방',\n",
       " '영길리',\n",
       " 'Apple',\n",
       " '칼레오커피',\n",
       " '진맥',\n",
       " '서초칼국수 닭한마리',\n",
       " '아라쭈꾸미 남부터미널점',\n",
       " '심마니',\n",
       " 'LG U+통신요금 자동이체',\n",
       " '김가네김밥 건대점',\n",
       " '씨유 관악건영점',\n",
       " '매머드커피익스프레스 건대스타',\n",
       " '(주)카카오',\n",
       " '티머니 법인택시',\n",
       " '컴포즈커피 테헤란아이파크점',\n",
       " '심가네',\n",
       " '한국도로교통공단 강남운전면허',\n",
       " '에프이지',\n",
       " '네이버페이',\n",
       " '더벤티 신림역점',\n",
       " '세븐일레븐 대전가양행복점',\n",
       " '백암슈퍼',\n",
       " '씨유 신림동희점',\n",
       " '관악구청',\n",
       " '조이(JOY)',\n",
       " '한국맥도날드(유)선릉점',\n",
       " '삼대나주곰탕',\n",
       " '사운즈커피 프리미어 강남',\n",
       " '릴 버거',\n",
       " '(주) 코리아세븐 신사시장점',\n",
       " '제주상회',\n",
       " '평안도식당 신림점',\n",
       " '홈플러스',\n",
       " '이디야',\n",
       " '여기어때',\n",
       " '(주)이디야',\n",
       " '고기반장',\n",
       " '진흥마트',\n",
       " '동래정 선릉직영점',\n",
       " '주식회사마스리얼티(고품격커피',\n",
       " '적온',\n",
       " '건국대학교',\n",
       " '시골집',\n",
       " '엄마손반찬',\n",
       " '시안사진관 건대점',\n",
       " 'OPENAI *CHATGPT SUBSCR',\n",
       " '밀마을칼국수',\n",
       " '초라멘',\n",
       " '(주)유썸 퀴즈노스 서울대벤처타',\n",
       " '곱창의전당 서초본점',\n",
       " '카페타임',\n",
       " '한국맥도날드(유) 서초GS DT점',\n",
       " 'CU 건대상허도서관점',\n",
       " '우성식당',\n",
       " '김치 도가',\n",
       " '하루',\n",
       " '쿠팡',\n",
       " '버거킹 건대입구역점',\n",
       " '이디야 예술의전당점',\n",
       " '써브웨이건대입구',\n",
       " '투썸플레이스 신촌연세로점',\n",
       " '(주)비바리퍼블리카',\n",
       " '럭키슈퍼',\n",
       " '커피브라더 건대점',\n",
       " '신사동인동 교대점',\n",
       " '(주)에프이지',\n",
       " '씨제이올리브영(주) 신대방역점',\n",
       " '팀스파르타 주식회사',\n",
       " '멋진동전노래연습장',\n",
       " '육전국밥 서울대입구역점',\n",
       " 'OPENAI',\n",
       " '허밍베어커피앤디저트',\n",
       " '테이스테이 (Teistay)',\n",
       " '순대실록남부터미널점',\n",
       " '문경축산농협 약돌축산물센터',\n",
       " '넷플릭스서비시스코리아 유한회',\n",
       " '씨알지(c.r.g)-신림점',\n",
       " '공우이엔씨주식회사(슈퍼빌휘트',\n",
       " '(주)두잇',\n",
       " '서창산업(주) 구리휴게소',\n",
       " 'SR',\n",
       " '오월당',\n",
       " '주식회사 리베르 관악 1지점',\n",
       " '싸다김밥(서초역점)',\n",
       " '홍루몽',\n",
       " '도시맥주 강남역점',\n",
       " '멘쇼',\n",
       " '감초식당',\n",
       " '(주)코리아세븐 서초프라자점',\n",
       " '씨유(CU) 관악신사점',\n",
       " '송황 칼국수',\n",
       " '비디버거 강남',\n",
       " '명동칼국수',\n",
       " '(주)이랜드월드패션 강남2',\n",
       " '(주)지오다노 강남',\n",
       " '네이버플러스 멤버십',\n",
       " '주식회사 에스씨케이컴퍼니',\n",
       " '아우룸',\n",
       " '관악구시설관리공단',\n",
       " '문경축산농협 약돌한우프라자',\n",
       " 'GS25 와현해변점',\n",
       " '롯데시네마 신림 (티켓 외)',\n",
       " 'CU 서초한빛점',\n",
       " '긴자료코 서초점',\n",
       " 'GS25한화볼파크1루점',\n",
       " '(주)코리아세븐 서울대벤처타운',\n",
       " '핵밥 건대점',\n",
       " '지세사랑약국',\n",
       " '우아한형제들',\n",
       " '게박사',\n",
       " '빠사삭',\n",
       " '씨유서초대로점',\n",
       " '한국맥도날드(유) 서울교대점',\n",
       " '할리스커피 난곡사거리점',\n",
       " '나오리주물럭 남부터미널점',\n",
       " '남도식당',\n",
       " '맘스터치 롯데건대스타시티점',\n",
       " '호남집',\n",
       " '파파도나스',\n",
       " '탐앤탐스 광진화양점',\n",
       " '계경순대국(신대방점)',\n",
       " '(주)신세계프라퍼티 코엑스몰',\n",
       " '벨렘351 건대점',\n",
       " '주식회사 씨더블유창원',\n",
       " '정자네',\n",
       " '포마토김밥']"
      ]
     },
     "execution_count": 8,
     "metadata": {},
     "output_type": "execute_result"
    }
   ],
   "source": [
    "store_names = dataset[\"가맹점명\"]\n",
    "unique_stores = list(set(store_names))\n",
    "unique_stores"
   ]
  },
  {
   "cell_type": "code",
   "execution_count": 10,
   "id": "488570f3-77a7-4b8e-882e-ca50861d417e",
   "metadata": {},
   "outputs": [],
   "source": [
    "label_list = [\"음식\", \"카페\", \"쇼핑\", \"디지털\", \"교통\", \"의료\", \"보험\", \"통신\", \"공과금\", \"생활용품\", \"오락\", \"기타\"]\n",
    "# label2id = {label: i for i, label in enumerate(label_list)}\n",
    "# id2label = {i: label for label, i in label2id.items()}"
   ]
  },
  {
   "cell_type": "code",
   "execution_count": 11,
   "id": "92a2c195-639f-426a-b3a8-6ea6f8cd3198",
   "metadata": {},
   "outputs": [],
   "source": [
    "def classify_store(store):\n",
    "    prompt = f\"\"\"\n",
    "    가맹점명: {store}\n",
    "    이 가맹점의 업종을 다음 중 하나로 분류하세요: [음식, 카페, 쇼핑, 디지털, 교통, 의료, 보험, 통신, 공과금, 생활용품, 오락, 기타]\n",
    "\n",
    "    결과는 업종명만 한 단어로 출력하세요.\n",
    "    \"\"\"\n",
    "    try:\n",
    "        response = client.chat.completions.create(\n",
    "            model=\"gpt-4o-mini\",\n",
    "            messages=[{\"role\": \"user\", \"content\": prompt}],\n",
    "            temperature=0\n",
    "        )\n",
    "        return response.choices[0].message.content.strip()\n",
    "    except Exception as e:\n",
    "        print(f\"Error: {e}\")\n",
    "        return \"기타\""
   ]
  },
  {
   "cell_type": "code",
   "execution_count": 13,
   "id": "0fbb5ef2-f470-4edb-a4ce-fe79fda3c6be",
   "metadata": {},
   "outputs": [
    {
     "name": "stdout",
     "output_type": "stream",
     "text": [
      "테이큰커피 → 카페\n",
      "서초백화점약국 → 의료\n",
      "라이즈커피로스터즈 → 카페\n",
      "에이스손해보험 다이렉트 → 보험\n",
      "현대푸드(또봉이통닭&별난만두) → 음식\n",
      "지금연구소 나우카페 → 카페\n",
      "BITE 2 HEAVEN(바이투헤븐) → 음식\n",
      "빽다방 건대동문회관점 → 카페\n",
      "시옌 → 음식\n",
      "서울붕어베이커리 → 음식\n",
      "포크포크 → 음식\n",
      "우청옥 → 음식\n",
      "건대365약국 → 의료\n",
      "수리치킨 → 음식\n",
      "이케아코리아 유한회사 → 쇼핑\n",
      "백패커 → 쇼핑\n",
      "롯데슈퍼 서초국제전자센터점 → 쇼핑\n",
      "파덕 오리바베큐 → 음식\n",
      "부리또삐아 → 음식\n",
      "영커피 강남해커스점 → 카페\n",
      "페이플 → 디지털\n",
      "원족발 순대국 → 음식\n",
      "한설원 → 음식\n",
      "홍등 → 음식\n",
      "고흥순대국 → 음식\n",
      "(주)케이에프씨코리아 KFC강남역 → 음식\n",
      "(주)아트박스 건대스타시티점 → 쇼핑\n",
      "대보건설(주) 구리(일산방향)주 → 기타\n",
      "서일체육문화센터 → 오락\n",
      "제오헤어(신림점) → 기타\n",
      "현이네 고기국수 → 음식\n",
      "다와 마트 → 쇼핑\n",
      "세븐스타 코인노래연습장 → 오락\n",
      "왓더버거 서초점 → 음식\n",
      "24시자양감자탕 → 음식\n",
      "홈플러스금천점 → 쇼핑\n",
      "(주)써브웨이 신림본점 → 음식\n",
      "주식회사 아성다이소 → 쇼핑\n",
      "노다메 → 음식\n",
      "서울옥 → 음식\n",
      "주식회사 함흥면옥 → 음식\n",
      "움버거앤윙스 어린이대공원역점 → 음식\n",
      "쇼군 → 음식\n",
      "엑스엑스커피메이커 건대점 → 카페\n",
      "세븐일레븐 M신대방역점 → 쇼핑\n",
      "메가엠지씨커피 신대방역점 → 카페\n",
      "주식회사 놀유니버스 → 오락\n",
      "지에스GS25 서초한신점 → 쇼핑\n",
      "주식회사 비케이알 버거킹신림역 → 음식\n",
      "( 주)버거요강남본점 → 음식\n",
      "이디야 신대방역점 → 카페\n",
      "주식회사 편한커피 → 카페\n",
      "구시아푸드마켓 → 쇼핑\n",
      "티머니 개인택시 → 교통\n",
      "맘스터치 대학동점 → 음식\n",
      "서울베스트의료의원 → 의료\n",
      "제니스약국 → 의료\n",
      "한송 → 음식\n",
      "린스시 → 음식\n",
      "주식회사 한빛 → 기타\n",
      "쿠팡이츠 → 음식\n",
      "(주)갈라인터내셔널 → 기타\n",
      "이마트24 센트럴키오스크점 → 쇼핑\n",
      "고벤트 주식회사 → 기타\n",
      "길동우동 건대점 → 음식\n",
      "나이스인프라 주식회사 → 기타\n",
      "노브랜드버거 신림남부점 → 음식\n",
      "런드리킹7호점 → 기타\n",
      "우먼센스 → 쇼핑\n",
      "서초제일마디의원 → 의료\n",
      "청담 → 음식\n",
      "함포해장 서초점 → 음식\n",
      "주식회사 서울밥집 → 음식\n",
      "빈브라더스 합정점 → 카페\n",
      "농민순대 → 음식\n",
      "시카프관광개발주식회사함양(통 → 기타\n",
      "GS25 관악녹두점 → 쇼핑\n",
      "(주)팀플러스 → 기타\n",
      "채향 → 음식\n",
      "로또노래연습장 → 오락\n",
      "부탄츄 → 음식\n",
      "메저커피(mezer coffee) → 카페\n",
      "오마카세 오사이초밥 강남 → 음식\n",
      "더이퀼리브리엄커피 → 카페\n",
      "메가엠지씨커피 건대스타점 → 카페\n",
      "사토이라멘 → 음식\n",
      "(주)이마트 구로점 → 쇼핑\n",
      "소문난 청년푸줏간 → 음식\n",
      "주식회사 신부원 궁 → 음식\n",
      "롯데시네마 신림 (온라인 티켓) → 오락\n",
      "GS25신림수성점 → 쇼핑\n",
      "버거운녀석들 → 음식\n",
      "(주)어비즈 → 기타\n",
      "서울시설공단(인터넷정기권) → 기타\n",
      "OF → 기타\n",
      "원조숯골냉면본점 → 음식\n",
      "돈천지 → 음식\n",
      "하오차이 → 음식\n",
      "사랑방 → 음식\n",
      "고향촌 → 음식\n",
      "팔팔 너구리 해장 → 음식\n",
      "커피빈코리아 테헤란로비젼타워 → 카페\n",
      "맛좋은순대국 → 음식\n",
      "말통커피 남부터미널점 → 카페\n",
      "유연카레 서초점 → 음식\n",
      "Amazon_AWS → 디지털\n",
      "(주)공유어장 → 기타\n",
      "세븐스애비뉴 (7th Avenue) → 음식\n",
      "주식회사 유피소프트 → 디지털\n",
      "아칸&플렉스 대전로드점 → 기타\n",
      "티맵모빌리티 → 교통\n",
      "지에스25(GS25) 서초모나코점 → 쇼핑\n",
      "(주)핌아시아 → 기타\n",
      "런드리킹셀프빨래방 신대방점 → 기타\n",
      "에이스아메리카화재해상보험 → 보험\n",
      "쿠팡(쿠페이) → 쇼핑\n",
      "제주은희네해장국 예술의전당점 → 음식\n",
      "서울도시가스(주) → 기타\n",
      "크린토피아 관악신사점 → 기타\n",
      "매머드익스프레스 남부터미널점 → 음식\n",
      "AXA손해보험 → 보험\n",
      "호파스타생면파스타건대본점(HO → 음식\n",
      "나카노라멘 → 음식\n",
      "주식회사 엠플레이그라운드 건대 → 오락\n",
      "천지인주유소 → 기타\n",
      "(주)코리아세븐 신림고시촌점 → 기타\n",
      "봉산옥 → 음식\n",
      "카페동네 신림 → 카페\n",
      "전국고속버스운송사업조합 → 교통\n",
      "밥심이 → 음식\n",
      "(주)아트박스 신림포도몰점 → 쇼핑\n",
      "고품격 커피공장 → 카페\n",
      "나오리장작구이 서초점 → 음식\n",
      "라콜롬브코리아 주식회사 → 기타\n",
      "써브웨이 건대입구점 → 음식\n",
      "진로할인마트 → 쇼핑\n",
      "와이즐리 → 기타\n",
      "옴므 → 쇼핑\n",
      "카츠공방 → 음식\n",
      "영길리 → 음식\n",
      "Apple → 디지털\n",
      "칼레오커피 → 카페\n",
      "진맥 → 음식\n",
      "서초칼국수 닭한마리 → 음식\n",
      "아라쭈꾸미 남부터미널점 → 음식\n",
      "심마니 → 음식\n",
      "LG U+통신요금 자동이체 → 통신\n",
      "김가네김밥 건대점 → 음식\n",
      "씨유 관악건영점 → 기타\n",
      "매머드커피익스프레스 건대스타 → 카페\n",
      "(주)카카오 → 디지털\n",
      "티머니 법인택시 → 교통\n",
      "컴포즈커피 테헤란아이파크점 → 카페\n",
      "심가네 → 음식\n",
      "한국도로교통공단 강남운전면허 → 교통\n",
      "에프이지 → 기타\n",
      "네이버페이 → 디지털\n",
      "더벤티 신림역점 → 카페\n",
      "세븐일레븐 대전가양행복점 → 쇼핑\n",
      "백암슈퍼 → 쇼핑\n",
      "씨유 신림동희점 → 음식\n",
      "관악구청 → 기타\n",
      "조이(JOY) → 기타\n",
      "한국맥도날드(유)선릉점 → 음식\n",
      "삼대나주곰탕 → 음식\n",
      "사운즈커피 프리미어 강남 → 카페\n",
      "릴 버거 → 음식\n",
      "(주) 코리아세븐 신사시장점 → 기타\n",
      "제주상회 → 쇼핑\n",
      "평안도식당 신림점 → 음식\n",
      "홈플러스 → 쇼핑\n",
      "이디야 → 카페\n",
      "여기어때 → 기타\n",
      "(주)이디야 → 카페\n",
      "고기반장 → 음식\n",
      "진흥마트 → 쇼핑\n",
      "동래정 선릉직영점 → 음식\n",
      "주식회사마스리얼티(고품격커피 → 카페\n",
      "적온 → 음식\n",
      "건국대학교 → 기타\n",
      "시골집 → 음식\n",
      "엄마손반찬 → 음식\n",
      "시안사진관 건대점 → 기타\n",
      "OPENAI *CHATGPT SUBSCR → 디지털\n",
      "밀마을칼국수 → 음식\n",
      "초라멘 → 음식\n",
      "(주)유썸 퀴즈노스 서울대벤처타 → 음식\n",
      "곱창의전당 서초본점 → 음식\n",
      "카페타임 → 카페\n",
      "한국맥도날드(유) 서초GS DT점 → 음식\n",
      "CU 건대상허도서관점 → 기타\n",
      "우성식당 → 음식\n",
      "김치 도가 → 음식\n",
      "하루 → 음식\n",
      "쿠팡 → 쇼핑\n",
      "버거킹 건대입구역점 → 음식\n",
      "이디야 예술의전당점 → 카페\n",
      "써브웨이건대입구 → 음식\n",
      "투썸플레이스 신촌연세로점 → 카페\n",
      "(주)비바리퍼블리카 → 디지털\n",
      "럭키슈퍼 → 쇼핑\n",
      "커피브라더 건대점 → 카페\n",
      "신사동인동 교대점 → 음식\n",
      "(주)에프이지 → 기타\n",
      "씨제이올리브영(주) 신대방역점 → 쇼핑\n",
      "팀스파르타 주식회사 → 기타\n",
      "멋진동전노래연습장 → 오락\n",
      "육전국밥 서울대입구역점 → 음식\n",
      "OPENAI → 디지털\n",
      "허밍베어커피앤디저트 → 카페\n",
      "테이스테이 (Teistay) → 카페\n",
      "순대실록남부터미널점 → 음식\n",
      "문경축산농협 약돌축산물센터 → 음식\n",
      "넷플릭스서비시스코리아 유한회 → 디지털\n",
      "씨알지(c.r.g)-신림점 → 음식\n",
      "공우이엔씨주식회사(슈퍼빌휘트 → 기타\n",
      "(주)두잇 → 기타\n",
      "서창산업(주) 구리휴게소 → 음식\n",
      "SR → 기타\n",
      "오월당 → 카페\n",
      "주식회사 리베르 관악 1지점 → 기타\n",
      "싸다김밥(서초역점) → 음식\n",
      "홍루몽 → 음식\n",
      "도시맥주 강남역점 → 음식\n",
      "멘쇼 → 음식\n",
      "감초식당 → 음식\n",
      "(주)코리아세븐 서초프라자점 → 기타\n",
      "씨유(CU) 관악신사점 → 쇼핑\n",
      "송황 칼국수 → 음식\n",
      "비디버거 강남 → 음식\n",
      "명동칼국수 → 음식\n",
      "(주)이랜드월드패션 강남2 → 쇼핑\n",
      "(주)지오다노 강남 → 쇼핑\n",
      "네이버플러스 멤버십 → 디지털\n",
      "주식회사 에스씨케이컴퍼니 → 기타\n",
      "아우룸 → 기타\n",
      "관악구시설관리공단 → 기타\n",
      "문경축산농협 약돌한우프라자 → 음식\n",
      "GS25 와현해변점 → 쇼핑\n",
      "롯데시네마 신림 (티켓 외) → 오락\n",
      "CU 서초한빛점 → 쇼핑\n",
      "긴자료코 서초점 → 음식\n",
      "GS25한화볼파크1루점 → 쇼핑\n",
      "(주)코리아세븐 서울대벤처타운 → 기타\n",
      "핵밥 건대점 → 음식\n",
      "지세사랑약국 → 의료\n",
      "우아한형제들 → 음식\n",
      "게박사 → 음식\n",
      "빠사삭 → 음식\n",
      "씨유서초대로점 → 기타\n",
      "한국맥도날드(유) 서울교대점 → 음식\n",
      "할리스커피 난곡사거리점 → 카페\n",
      "나오리주물럭 남부터미널점 → 음식\n",
      "남도식당 → 음식\n",
      "맘스터치 롯데건대스타시티점 → 음식\n",
      "호남집 → 음식\n",
      "파파도나스 → 음식\n",
      "탐앤탐스 광진화양점 → 카페\n",
      "계경순대국(신대방점) → 음식\n",
      "(주)신세계프라퍼티 코엑스몰 → 쇼핑\n",
      "벨렘351 건대점 → 음식\n",
      "주식회사 씨더블유창원 → 기타\n",
      "정자네 → 음식\n",
      "포마토김밥 → 음식\n"
     ]
    }
   ],
   "source": [
    "results = []\n",
    "for store in unique_stores:\n",
    "    category = classify_store(store).strip()\n",
    "    # label_id = label2id.get(category, label2id[\"기타\"])\n",
    "    print(f\"{store} → {category}\")\n",
    "    results.append({\n",
    "        \"store\": store, \n",
    "        \"category\": category,\n",
    "        # \"label_id\": label_id\n",
    "    })"
   ]
  },
  {
   "cell_type": "code",
   "execution_count": 14,
   "id": "d5d5c053-fff4-4f64-9e4a-8250398630f6",
   "metadata": {},
   "outputs": [
    {
     "name": "stderr",
     "output_type": "stream",
     "text": [
      "/var/folders/yz/dp_hy1vd5jj8pzrlts8w9z4m0000gn/T/ipykernel_34885/3666435399.py:5: LangChainDeprecationWarning: The class `OpenAIEmbeddings` was deprecated in LangChain 0.0.9 and will be removed in 1.0. An updated version of the class exists in the :class:`~langchain-openai package and should be used instead. To use it run `pip install -U :class:`~langchain-openai` and import as `from :class:`~langchain_openai import OpenAIEmbeddings``.\n",
      "  embeddings = OpenAIEmbeddings()\n"
     ]
    }
   ],
   "source": [
    "from langchain.embeddings import OpenAIEmbeddings\n",
    "from langchain.vectorstores import FAISS\n",
    "from langchain.schema import Document\n",
    "\n",
    "embeddings = OpenAIEmbeddings()\n",
    "\n",
    "# Document 생성\n",
    "docs = [\n",
    "    Document(page_content=store[\"store\"], metadata={\"category\": store[\"category\"]})\n",
    "    for store in results\n",
    "]\n",
    "\n",
    "# 벡터 DB 생성\n",
    "vectorstore = FAISS.from_documents(docs, embedding=embeddings)\n",
    "\n",
    "# 저장\n",
    "vectorstore.save_local(\"./vector_db/stores\")"
   ]
  },
  {
   "cell_type": "code",
   "execution_count": 15,
   "id": "749ad070-62ec-4822-a0e1-c820d09b86d0",
   "metadata": {},
   "outputs": [
    {
     "data": {
      "text/plain": [
       "['index.faiss', 'index.pkl']"
      ]
     },
     "execution_count": 15,
     "metadata": {},
     "output_type": "execute_result"
    }
   ],
   "source": [
    "# 저장된 DB 확인\n",
    "os.listdir(\"./vector_db/stores\")"
   ]
  },
  {
   "cell_type": "code",
   "execution_count": 16,
   "id": "7fd1939f-69ce-40ae-b6ea-c60064c352e9",
   "metadata": {},
   "outputs": [
    {
     "name": "stdout",
     "output_type": "stream",
     "text": [
      "\n",
      "기타 재분류 시도: 대보건설(주) 구리(일산방향)주\n",
      " 대보건설(주) 구리(일산방향)주 → 기타\n",
      "\n",
      "기타 재분류 시도: 제오헤어(신림점)\n",
      " 제오헤어(신림점) → 기타\n",
      "\n",
      "기타 재분류 시도: 주식회사 한빛\n",
      " 주식회사 한빛 → 기타\n",
      "\n",
      "기타 재분류 시도: (주)갈라인터내셔널\n",
      " (주)갈라인터내셔널 → 기타\n",
      "\n",
      "기타 재분류 시도: 고벤트 주식회사\n",
      " 고벤트 주식회사 → 기타\n",
      "\n",
      "기타 재분류 시도: 나이스인프라 주식회사\n",
      " 나이스인프라 주식회사 → 디지털\n",
      "\n",
      "기타 재분류 시도: 런드리킹7호점\n",
      " 런드리킹7호점 → 생활용품\n",
      "\n",
      "기타 재분류 시도: 시카프관광개발주식회사함양(통\n",
      " 시카프관광개발주식회사함양(통 → 기타\n",
      "\n",
      "기타 재분류 시도: (주)팀플러스\n",
      " (주)팀플러스 → 기타\n",
      "\n",
      "기타 재분류 시도: (주)어비즈\n",
      " (주)어비즈 → 기타\n",
      "\n",
      "기타 재분류 시도: 서울시설공단(인터넷정기권)\n",
      " 서울시설공단(인터넷정기권) → 공과금\n",
      "\n",
      "기타 재분류 시도: OF\n",
      " OF → 기타\n",
      "\n",
      "기타 재분류 시도: (주)공유어장\n",
      " (주)공유어장 → 기타\n",
      "\n",
      "기타 재분류 시도: 아칸&플렉스 대전로드점\n",
      " 아칸&플렉스 대전로드점 → 오락\n",
      "\n",
      "기타 재분류 시도: (주)핌아시아\n",
      " (주)핌아시아 → 기타\n",
      "\n",
      "기타 재분류 시도: 런드리킹셀프빨래방 신대방점\n",
      " 런드리킹셀프빨래방 신대방점 → 생활용품\n",
      "\n",
      "기타 재분류 시도: 서울도시가스(주)\n",
      " 서울도시가스(주) → 공과금\n",
      "\n",
      "기타 재분류 시도: 크린토피아 관악신사점\n",
      " 크린토피아 관악신사점 → 생활용품\n",
      "\n",
      "기타 재분류 시도: 천지인주유소\n",
      " 천지인주유소 → 교통\n",
      "\n",
      "기타 재분류 시도: (주)코리아세븐 신림고시촌점\n",
      " (주)코리아세븐 신림고시촌점 → 쇼핑\n",
      "\n",
      "기타 재분류 시도: 라콜롬브코리아 주식회사\n",
      " 라콜롬브코리아 주식회사 → 카페\n",
      "\n",
      "기타 재분류 시도: 와이즐리\n",
      " 와이즐리 → 생활용품\n",
      "\n",
      "기타 재분류 시도: 씨유 관악건영점\n",
      " 씨유 관악건영점 → 생활용품\n",
      "\n",
      "기타 재분류 시도: 에프이지\n",
      " 에프이지 → 기타\n",
      "\n",
      "기타 재분류 시도: 관악구청\n",
      " 관악구청 → 기타\n",
      "\n",
      "기타 재분류 시도: 조이(JOY)\n",
      " 조이(JOY) → 오락\n",
      "\n",
      "기타 재분류 시도: (주) 코리아세븐 신사시장점\n",
      " (주) 코리아세븐 신사시장점 → 쇼핑\n",
      "\n",
      "기타 재분류 시도: 여기어때\n",
      " 여기어때 → 오락\n",
      "\n",
      "기타 재분류 시도: 건국대학교\n",
      " 건국대학교 → 기타\n",
      "\n",
      "기타 재분류 시도: 시안사진관 건대점\n",
      " 시안사진관 건대점 → 기타\n",
      "\n",
      "기타 재분류 시도: CU 건대상허도서관점\n",
      " CU 건대상허도서관점 → 생활용품\n",
      "\n",
      "기타 재분류 시도: (주)에프이지\n",
      " (주)에프이지 → 기타\n",
      "\n",
      "기타 재분류 시도: 팀스파르타 주식회사\n",
      " 팀스파르타 주식회사 → 디지털\n",
      "\n",
      "기타 재분류 시도: 공우이엔씨주식회사(슈퍼빌휘트\n",
      " 공우이엔씨주식회사(슈퍼빌휘트 → 기타\n",
      "\n",
      "기타 재분류 시도: (주)두잇\n",
      " (주)두잇 → 기타\n",
      "\n",
      "기타 재분류 시도: SR\n",
      " SR → 교통\n",
      "\n",
      "기타 재분류 시도: 주식회사 리베르 관악 1지점\n",
      " 주식회사 리베르 관악 1지점 → 기타\n",
      "\n",
      "기타 재분류 시도: (주)코리아세븐 서초프라자점\n",
      " (주)코리아세븐 서초프라자점 → 쇼핑\n",
      "\n",
      "기타 재분류 시도: 주식회사 에스씨케이컴퍼니\n",
      " 주식회사 에스씨케이컴퍼니 → 기타\n",
      "\n",
      "기타 재분류 시도: 아우룸\n",
      " 아우룸 → 기타\n",
      "\n",
      "기타 재분류 시도: 관악구시설관리공단\n",
      " 관악구시설관리공단 → 기타\n",
      "\n",
      "기타 재분류 시도: (주)코리아세븐 서울대벤처타운\n",
      " (주)코리아세븐 서울대벤처타운 → 쇼핑\n",
      "\n",
      "기타 재분류 시도: 씨유서초대로점\n",
      " 씨유서초대로점 → 쇼핑\n",
      "\n",
      "기타 재분류 시도: 주식회사 씨더블유창원\n",
      " 주식회사 씨더블유창원 → 기타\n"
     ]
    }
   ],
   "source": [
    "# 벡터 DB 로드\n",
    "from langchain.vectorstores import FAISS\n",
    "from langchain.embeddings import OpenAIEmbeddings\n",
    "\n",
    "# embedding model\n",
    "embedding_model = OpenAIEmbeddings()\n",
    "\n",
    "# vector store 로드\n",
    "vectorstore = FAISS.load_local(\n",
    "    \"./vector_db/stores\",\n",
    "    embedding_model,\n",
    "    allow_dangerous_deserialization=True\n",
    ")\n",
    "\n",
    "# 유사한 문맥 가져오기\n",
    "def get_similar_context(store_name: str, k=3, max_chars=500):\n",
    "    docs = vectorstore.similarity_search(store_name, k=k)\n",
    "    return \"\\n\".join([f\"- {doc.page_content}\" for doc in docs])[:max_chars]\n",
    "\n",
    "# 추론\n",
    "def rag_infer(store_name: str, context: str):\n",
    "    prompt = f\"\"\"[QUESTION]\n",
    "    \"{store_name}\"는 어떤 업종인가요?\n",
    "\n",
    "    [CONTEXT]\n",
    "    {context}\n",
    "\n",
    "    [ANSWER]\n",
    "    인터넷 검색을 활용하세요.\n",
    "    업종은 다음 중 하나로만 답하세요: [음식, 카페, 쇼핑, 디지털, 교통, 의료, 보험, 통신, 공과금, 생활용품, 오락, 기타]\n",
    "    결과는 업종명만 한 단어로 출력하세요.\n",
    "    \"\"\"\n",
    "\n",
    "    try:\n",
    "        response = client.chat.completions.create(\n",
    "            model=\"gpt-4o\",\n",
    "            messages=[{\"role\": \"user\", \"content\": prompt}],\n",
    "            temperature=0,\n",
    "        )\n",
    "        generated = response.choices[0].message.content.strip()\n",
    "    except Exception as e:\n",
    "        print(f\"OpenAI API 오류: {e}\")\n",
    "        return \"기타\"\n",
    "\n",
    "    # 정제\n",
    "    generated = generated.split(\"\\n\")[0].strip()\n",
    "    label_set = {\"음식\", \"카페\", \"쇼핑\", \"디지털\", \"교통\", \"의료\", \"보험\", \"통신\", \"공과금\", \"생활용품\", \"오락\", \"기타\"}\n",
    "\n",
    "    if generated not in label_set:\n",
    "        print(f\"'{generated}' 는 유효하지 않은 결과 → 기타 유지\")\n",
    "        return \"기타\"\n",
    "\n",
    "    return generated\n",
    "\n",
    "# 결과 갱신\n",
    "for entry in results:\n",
    "    if entry[\"category\"] == \"기타\":\n",
    "        print(f\"\\n기타 재분류 시도: {entry['store']}\")\n",
    "        context = get_similar_context(entry[\"store\"], k=3)\n",
    "        if not context.strip():\n",
    "            print(\"context 없음 → 기타 유지\")\n",
    "            continue\n",
    "        new_category = rag_infer(entry[\"store\"], context)\n",
    "        print(f\" {entry['store']} → {new_category}\")\n",
    "        entry[\"category\"] = new_category\n",
    "\n",
    "# 최신 results를 기반으로 문서 재생성\n",
    "updated_docs = [\n",
    "    Document(page_content=entry[\"store\"], metadata={\"category\": entry[\"category\"]})\n",
    "    for entry in results\n",
    "]\n",
    "\n",
    "# 벡터스토어 재생성\n",
    "updated_vectorstore = FAISS.from_documents(updated_docs, embedding=embedding_model)\n",
    "\n",
    "# 기존 경로에 덮어쓰기 저장\n",
    "updated_vectorstore.save_local(\"./vector_db/stores\")"
   ]
  },
  {
   "cell_type": "code",
   "execution_count": 17,
   "id": "57651850-b7af-4f7e-9b5c-a383f40ce197",
   "metadata": {},
   "outputs": [],
   "source": [
    "import json\n",
    "\n",
    "corpus = [\n",
    "    {\n",
    "        \"instruction\": \"다음 가맹점의 업종을 분류하세요.\",\n",
    "        \"input\": entry[\"store\"],\n",
    "        \"output\": entry[\"category\"]\n",
    "    }\n",
    "    for entry in results\n",
    "]\n",
    "\n",
    "with open(\"./corpus.json\", \"w\", encoding=\"utf-8\") as f:\n",
    "    json.dump(corpus, f, ensure_ascii=False, indent=2)"
   ]
  },
  {
   "cell_type": "code",
   "execution_count": 18,
   "id": "b65e0c33-ada6-4761-8930-5dd3f219467f",
   "metadata": {},
   "outputs": [
    {
     "data": {
      "text/plain": [
       "[{'instruction': '다음 가맹점의 업종을 분류하세요.', 'input': '테이큰커피', 'output': '카페'},\n",
       " {'instruction': '다음 가맹점의 업종을 분류하세요.', 'input': '서초백화점약국', 'output': '의료'},\n",
       " {'instruction': '다음 가맹점의 업종을 분류하세요.', 'input': '라이즈커피로스터즈', 'output': '카페'},\n",
       " {'instruction': '다음 가맹점의 업종을 분류하세요.',\n",
       "  'input': '에이스손해보험 다이렉트',\n",
       "  'output': '보험'},\n",
       " {'instruction': '다음 가맹점의 업종을 분류하세요.',\n",
       "  'input': '현대푸드(또봉이통닭&별난만두)',\n",
       "  'output': '음식'},\n",
       " {'instruction': '다음 가맹점의 업종을 분류하세요.', 'input': '지금연구소 나우카페', 'output': '카페'},\n",
       " {'instruction': '다음 가맹점의 업종을 분류하세요.',\n",
       "  'input': 'BITE 2 HEAVEN(바이투헤븐)',\n",
       "  'output': '음식'},\n",
       " {'instruction': '다음 가맹점의 업종을 분류하세요.', 'input': '빽다방 건대동문회관점', 'output': '카페'},\n",
       " {'instruction': '다음 가맹점의 업종을 분류하세요.', 'input': '시옌', 'output': '음식'},\n",
       " {'instruction': '다음 가맹점의 업종을 분류하세요.', 'input': '서울붕어베이커리', 'output': '음식'},\n",
       " {'instruction': '다음 가맹점의 업종을 분류하세요.', 'input': '포크포크', 'output': '음식'},\n",
       " {'instruction': '다음 가맹점의 업종을 분류하세요.', 'input': '우청옥', 'output': '음식'},\n",
       " {'instruction': '다음 가맹점의 업종을 분류하세요.', 'input': '건대365약국', 'output': '의료'},\n",
       " {'instruction': '다음 가맹점의 업종을 분류하세요.', 'input': '수리치킨', 'output': '음식'},\n",
       " {'instruction': '다음 가맹점의 업종을 분류하세요.', 'input': '이케아코리아 유한회사', 'output': '쇼핑'},\n",
       " {'instruction': '다음 가맹점의 업종을 분류하세요.', 'input': '백패커', 'output': '쇼핑'},\n",
       " {'instruction': '다음 가맹점의 업종을 분류하세요.',\n",
       "  'input': '롯데슈퍼 서초국제전자센터점',\n",
       "  'output': '쇼핑'},\n",
       " {'instruction': '다음 가맹점의 업종을 분류하세요.', 'input': '파덕 오리바베큐', 'output': '음식'},\n",
       " {'instruction': '다음 가맹점의 업종을 분류하세요.', 'input': '부리또삐아', 'output': '음식'},\n",
       " {'instruction': '다음 가맹점의 업종을 분류하세요.', 'input': '영커피 강남해커스점', 'output': '카페'},\n",
       " {'instruction': '다음 가맹점의 업종을 분류하세요.', 'input': '페이플', 'output': '디지털'},\n",
       " {'instruction': '다음 가맹점의 업종을 분류하세요.', 'input': '원족발 순대국', 'output': '음식'},\n",
       " {'instruction': '다음 가맹점의 업종을 분류하세요.', 'input': '한설원', 'output': '음식'},\n",
       " {'instruction': '다음 가맹점의 업종을 분류하세요.', 'input': '홍등', 'output': '음식'},\n",
       " {'instruction': '다음 가맹점의 업종을 분류하세요.', 'input': '고흥순대국', 'output': '음식'},\n",
       " {'instruction': '다음 가맹점의 업종을 분류하세요.',\n",
       "  'input': '(주)케이에프씨코리아 KFC강남역',\n",
       "  'output': '음식'},\n",
       " {'instruction': '다음 가맹점의 업종을 분류하세요.',\n",
       "  'input': '(주)아트박스 건대스타시티점',\n",
       "  'output': '쇼핑'},\n",
       " {'instruction': '다음 가맹점의 업종을 분류하세요.',\n",
       "  'input': '대보건설(주) 구리(일산방향)주',\n",
       "  'output': '기타'},\n",
       " {'instruction': '다음 가맹점의 업종을 분류하세요.', 'input': '서일체육문화센터', 'output': '오락'},\n",
       " {'instruction': '다음 가맹점의 업종을 분류하세요.', 'input': '제오헤어(신림점)', 'output': '기타'},\n",
       " {'instruction': '다음 가맹점의 업종을 분류하세요.', 'input': '현이네 고기국수', 'output': '음식'},\n",
       " {'instruction': '다음 가맹점의 업종을 분류하세요.', 'input': '다와 마트', 'output': '쇼핑'},\n",
       " {'instruction': '다음 가맹점의 업종을 분류하세요.',\n",
       "  'input': '세븐스타 코인노래연습장',\n",
       "  'output': '오락'},\n",
       " {'instruction': '다음 가맹점의 업종을 분류하세요.', 'input': '왓더버거 서초점', 'output': '음식'},\n",
       " {'instruction': '다음 가맹점의 업종을 분류하세요.', 'input': '24시자양감자탕', 'output': '음식'},\n",
       " {'instruction': '다음 가맹점의 업종을 분류하세요.', 'input': '홈플러스금천점', 'output': '쇼핑'},\n",
       " {'instruction': '다음 가맹점의 업종을 분류하세요.',\n",
       "  'input': '(주)써브웨이 신림본점',\n",
       "  'output': '음식'},\n",
       " {'instruction': '다음 가맹점의 업종을 분류하세요.', 'input': '주식회사 아성다이소', 'output': '쇼핑'},\n",
       " {'instruction': '다음 가맹점의 업종을 분류하세요.', 'input': '노다메', 'output': '음식'},\n",
       " {'instruction': '다음 가맹점의 업종을 분류하세요.', 'input': '서울옥', 'output': '음식'},\n",
       " {'instruction': '다음 가맹점의 업종을 분류하세요.', 'input': '주식회사 함흥면옥', 'output': '음식'},\n",
       " {'instruction': '다음 가맹점의 업종을 분류하세요.',\n",
       "  'input': '움버거앤윙스 어린이대공원역점',\n",
       "  'output': '음식'},\n",
       " {'instruction': '다음 가맹점의 업종을 분류하세요.', 'input': '쇼군', 'output': '음식'},\n",
       " {'instruction': '다음 가맹점의 업종을 분류하세요.',\n",
       "  'input': '엑스엑스커피메이커 건대점',\n",
       "  'output': '카페'},\n",
       " {'instruction': '다음 가맹점의 업종을 분류하세요.',\n",
       "  'input': '세븐일레븐 M신대방역점',\n",
       "  'output': '쇼핑'},\n",
       " {'instruction': '다음 가맹점의 업종을 분류하세요.',\n",
       "  'input': '메가엠지씨커피 신대방역점',\n",
       "  'output': '카페'},\n",
       " {'instruction': '다음 가맹점의 업종을 분류하세요.', 'input': '주식회사 놀유니버스', 'output': '오락'},\n",
       " {'instruction': '다음 가맹점의 업종을 분류하세요.',\n",
       "  'input': '지에스GS25 서초한신점',\n",
       "  'output': '쇼핑'},\n",
       " {'instruction': '다음 가맹점의 업종을 분류하세요.',\n",
       "  'input': '주식회사 비케이알 버거킹신림역',\n",
       "  'output': '음식'},\n",
       " {'instruction': '다음 가맹점의 업종을 분류하세요.', 'input': '( 주)버거요강남본점', 'output': '음식'},\n",
       " {'instruction': '다음 가맹점의 업종을 분류하세요.', 'input': '이디야 신대방역점', 'output': '카페'},\n",
       " {'instruction': '다음 가맹점의 업종을 분류하세요.', 'input': '주식회사 편한커피', 'output': '카페'},\n",
       " {'instruction': '다음 가맹점의 업종을 분류하세요.', 'input': '구시아푸드마켓', 'output': '쇼핑'},\n",
       " {'instruction': '다음 가맹점의 업종을 분류하세요.', 'input': '티머니 개인택시', 'output': '교통'},\n",
       " {'instruction': '다음 가맹점의 업종을 분류하세요.', 'input': '맘스터치 대학동점', 'output': '음식'},\n",
       " {'instruction': '다음 가맹점의 업종을 분류하세요.', 'input': '서울베스트의료의원', 'output': '의료'},\n",
       " {'instruction': '다음 가맹점의 업종을 분류하세요.', 'input': '제니스약국', 'output': '의료'},\n",
       " {'instruction': '다음 가맹점의 업종을 분류하세요.', 'input': '한송', 'output': '음식'},\n",
       " {'instruction': '다음 가맹점의 업종을 분류하세요.', 'input': '린스시', 'output': '음식'},\n",
       " {'instruction': '다음 가맹점의 업종을 분류하세요.', 'input': '주식회사 한빛', 'output': '기타'},\n",
       " {'instruction': '다음 가맹점의 업종을 분류하세요.', 'input': '쿠팡이츠', 'output': '음식'},\n",
       " {'instruction': '다음 가맹점의 업종을 분류하세요.', 'input': '(주)갈라인터내셔널', 'output': '기타'},\n",
       " {'instruction': '다음 가맹점의 업종을 분류하세요.',\n",
       "  'input': '이마트24 센트럴키오스크점',\n",
       "  'output': '쇼핑'},\n",
       " {'instruction': '다음 가맹점의 업종을 분류하세요.', 'input': '고벤트 주식회사', 'output': '기타'},\n",
       " {'instruction': '다음 가맹점의 업종을 분류하세요.', 'input': '길동우동 건대점', 'output': '음식'},\n",
       " {'instruction': '다음 가맹점의 업종을 분류하세요.',\n",
       "  'input': '나이스인프라 주식회사',\n",
       "  'output': '디지털'},\n",
       " {'instruction': '다음 가맹점의 업종을 분류하세요.',\n",
       "  'input': '노브랜드버거 신림남부점',\n",
       "  'output': '음식'},\n",
       " {'instruction': '다음 가맹점의 업종을 분류하세요.', 'input': '런드리킹7호점', 'output': '생활용품'},\n",
       " {'instruction': '다음 가맹점의 업종을 분류하세요.', 'input': '우먼센스', 'output': '쇼핑'},\n",
       " {'instruction': '다음 가맹점의 업종을 분류하세요.', 'input': '서초제일마디의원', 'output': '의료'},\n",
       " {'instruction': '다음 가맹점의 업종을 분류하세요.', 'input': '청담', 'output': '음식'},\n",
       " {'instruction': '다음 가맹점의 업종을 분류하세요.', 'input': '함포해장 서초점', 'output': '음식'},\n",
       " {'instruction': '다음 가맹점의 업종을 분류하세요.', 'input': '주식회사 서울밥집', 'output': '음식'},\n",
       " {'instruction': '다음 가맹점의 업종을 분류하세요.', 'input': '빈브라더스 합정점', 'output': '카페'},\n",
       " {'instruction': '다음 가맹점의 업종을 분류하세요.', 'input': '농민순대', 'output': '음식'},\n",
       " {'instruction': '다음 가맹점의 업종을 분류하세요.',\n",
       "  'input': '시카프관광개발주식회사함양(통',\n",
       "  'output': '기타'},\n",
       " {'instruction': '다음 가맹점의 업종을 분류하세요.', 'input': 'GS25 관악녹두점', 'output': '쇼핑'},\n",
       " {'instruction': '다음 가맹점의 업종을 분류하세요.', 'input': '(주)팀플러스', 'output': '기타'},\n",
       " {'instruction': '다음 가맹점의 업종을 분류하세요.', 'input': '채향', 'output': '음식'},\n",
       " {'instruction': '다음 가맹점의 업종을 분류하세요.', 'input': '로또노래연습장', 'output': '오락'},\n",
       " {'instruction': '다음 가맹점의 업종을 분류하세요.', 'input': '부탄츄', 'output': '음식'},\n",
       " {'instruction': '다음 가맹점의 업종을 분류하세요.',\n",
       "  'input': '메저커피(mezer coffee)',\n",
       "  'output': '카페'},\n",
       " {'instruction': '다음 가맹점의 업종을 분류하세요.',\n",
       "  'input': '오마카세 오사이초밥 강남',\n",
       "  'output': '음식'},\n",
       " {'instruction': '다음 가맹점의 업종을 분류하세요.', 'input': '더이퀼리브리엄커피', 'output': '카페'},\n",
       " {'instruction': '다음 가맹점의 업종을 분류하세요.',\n",
       "  'input': '메가엠지씨커피 건대스타점',\n",
       "  'output': '카페'},\n",
       " {'instruction': '다음 가맹점의 업종을 분류하세요.', 'input': '사토이라멘', 'output': '음식'},\n",
       " {'instruction': '다음 가맹점의 업종을 분류하세요.', 'input': '(주)이마트 구로점', 'output': '쇼핑'},\n",
       " {'instruction': '다음 가맹점의 업종을 분류하세요.', 'input': '소문난 청년푸줏간', 'output': '음식'},\n",
       " {'instruction': '다음 가맹점의 업종을 분류하세요.', 'input': '주식회사 신부원 궁', 'output': '음식'},\n",
       " {'instruction': '다음 가맹점의 업종을 분류하세요.',\n",
       "  'input': '롯데시네마 신림 (온라인 티켓)',\n",
       "  'output': '오락'},\n",
       " {'instruction': '다음 가맹점의 업종을 분류하세요.', 'input': 'GS25신림수성점', 'output': '쇼핑'},\n",
       " {'instruction': '다음 가맹점의 업종을 분류하세요.', 'input': '버거운녀석들', 'output': '음식'},\n",
       " {'instruction': '다음 가맹점의 업종을 분류하세요.', 'input': '(주)어비즈', 'output': '기타'},\n",
       " {'instruction': '다음 가맹점의 업종을 분류하세요.',\n",
       "  'input': '서울시설공단(인터넷정기권)',\n",
       "  'output': '공과금'},\n",
       " {'instruction': '다음 가맹점의 업종을 분류하세요.', 'input': 'OF', 'output': '기타'},\n",
       " {'instruction': '다음 가맹점의 업종을 분류하세요.', 'input': '원조숯골냉면본점', 'output': '음식'},\n",
       " {'instruction': '다음 가맹점의 업종을 분류하세요.', 'input': '돈천지', 'output': '음식'},\n",
       " {'instruction': '다음 가맹점의 업종을 분류하세요.', 'input': '하오차이', 'output': '음식'},\n",
       " {'instruction': '다음 가맹점의 업종을 분류하세요.', 'input': '사랑방', 'output': '음식'},\n",
       " {'instruction': '다음 가맹점의 업종을 분류하세요.', 'input': '고향촌', 'output': '음식'},\n",
       " {'instruction': '다음 가맹점의 업종을 분류하세요.', 'input': '팔팔 너구리 해장', 'output': '음식'},\n",
       " {'instruction': '다음 가맹점의 업종을 분류하세요.',\n",
       "  'input': '커피빈코리아 테헤란로비젼타워',\n",
       "  'output': '카페'},\n",
       " {'instruction': '다음 가맹점의 업종을 분류하세요.', 'input': '맛좋은순대국', 'output': '음식'},\n",
       " {'instruction': '다음 가맹점의 업종을 분류하세요.', 'input': '말통커피 남부터미널점', 'output': '카페'},\n",
       " {'instruction': '다음 가맹점의 업종을 분류하세요.', 'input': '유연카레 서초점', 'output': '음식'},\n",
       " {'instruction': '다음 가맹점의 업종을 분류하세요.', 'input': 'Amazon_AWS', 'output': '디지털'},\n",
       " {'instruction': '다음 가맹점의 업종을 분류하세요.', 'input': '(주)공유어장', 'output': '기타'},\n",
       " {'instruction': '다음 가맹점의 업종을 분류하세요.',\n",
       "  'input': '세븐스애비뉴 (7th Avenue)',\n",
       "  'output': '음식'},\n",
       " {'instruction': '다음 가맹점의 업종을 분류하세요.', 'input': '주식회사 유피소프트', 'output': '디지털'},\n",
       " {'instruction': '다음 가맹점의 업종을 분류하세요.',\n",
       "  'input': '아칸&플렉스 대전로드점',\n",
       "  'output': '오락'},\n",
       " {'instruction': '다음 가맹점의 업종을 분류하세요.', 'input': '티맵모빌리티', 'output': '교통'},\n",
       " {'instruction': '다음 가맹점의 업종을 분류하세요.',\n",
       "  'input': '지에스25(GS25) 서초모나코점',\n",
       "  'output': '쇼핑'},\n",
       " {'instruction': '다음 가맹점의 업종을 분류하세요.', 'input': '(주)핌아시아', 'output': '기타'},\n",
       " {'instruction': '다음 가맹점의 업종을 분류하세요.',\n",
       "  'input': '런드리킹셀프빨래방 신대방점',\n",
       "  'output': '생활용품'},\n",
       " {'instruction': '다음 가맹점의 업종을 분류하세요.',\n",
       "  'input': '에이스아메리카화재해상보험',\n",
       "  'output': '보험'},\n",
       " {'instruction': '다음 가맹점의 업종을 분류하세요.', 'input': '쿠팡(쿠페이)', 'output': '쇼핑'},\n",
       " {'instruction': '다음 가맹점의 업종을 분류하세요.',\n",
       "  'input': '제주은희네해장국 예술의전당점',\n",
       "  'output': '음식'},\n",
       " {'instruction': '다음 가맹점의 업종을 분류하세요.', 'input': '서울도시가스(주)', 'output': '공과금'},\n",
       " {'instruction': '다음 가맹점의 업종을 분류하세요.',\n",
       "  'input': '크린토피아 관악신사점',\n",
       "  'output': '생활용품'},\n",
       " {'instruction': '다음 가맹점의 업종을 분류하세요.',\n",
       "  'input': '매머드익스프레스 남부터미널점',\n",
       "  'output': '음식'},\n",
       " {'instruction': '다음 가맹점의 업종을 분류하세요.', 'input': 'AXA손해보험', 'output': '보험'},\n",
       " {'instruction': '다음 가맹점의 업종을 분류하세요.',\n",
       "  'input': '호파스타생면파스타건대본점(HO',\n",
       "  'output': '음식'},\n",
       " {'instruction': '다음 가맹점의 업종을 분류하세요.', 'input': '나카노라멘', 'output': '음식'},\n",
       " {'instruction': '다음 가맹점의 업종을 분류하세요.',\n",
       "  'input': '주식회사 엠플레이그라운드 건대',\n",
       "  'output': '오락'},\n",
       " {'instruction': '다음 가맹점의 업종을 분류하세요.', 'input': '천지인주유소', 'output': '교통'},\n",
       " {'instruction': '다음 가맹점의 업종을 분류하세요.',\n",
       "  'input': '(주)코리아세븐 신림고시촌점',\n",
       "  'output': '쇼핑'},\n",
       " {'instruction': '다음 가맹점의 업종을 분류하세요.', 'input': '봉산옥', 'output': '음식'},\n",
       " {'instruction': '다음 가맹점의 업종을 분류하세요.', 'input': '카페동네 신림', 'output': '카페'},\n",
       " {'instruction': '다음 가맹점의 업종을 분류하세요.',\n",
       "  'input': '전국고속버스운송사업조합',\n",
       "  'output': '교통'},\n",
       " {'instruction': '다음 가맹점의 업종을 분류하세요.', 'input': '밥심이', 'output': '음식'},\n",
       " {'instruction': '다음 가맹점의 업종을 분류하세요.',\n",
       "  'input': '(주)아트박스 신림포도몰점',\n",
       "  'output': '쇼핑'},\n",
       " {'instruction': '다음 가맹점의 업종을 분류하세요.', 'input': '고품격 커피공장', 'output': '카페'},\n",
       " {'instruction': '다음 가맹점의 업종을 분류하세요.', 'input': '나오리장작구이 서초점', 'output': '음식'},\n",
       " {'instruction': '다음 가맹점의 업종을 분류하세요.',\n",
       "  'input': '라콜롬브코리아 주식회사',\n",
       "  'output': '카페'},\n",
       " {'instruction': '다음 가맹점의 업종을 분류하세요.', 'input': '써브웨이 건대입구점', 'output': '음식'},\n",
       " {'instruction': '다음 가맹점의 업종을 분류하세요.', 'input': '진로할인마트', 'output': '쇼핑'},\n",
       " {'instruction': '다음 가맹점의 업종을 분류하세요.', 'input': '와이즐리', 'output': '생활용품'},\n",
       " {'instruction': '다음 가맹점의 업종을 분류하세요.', 'input': '옴므', 'output': '쇼핑'},\n",
       " {'instruction': '다음 가맹점의 업종을 분류하세요.', 'input': '카츠공방', 'output': '음식'},\n",
       " {'instruction': '다음 가맹점의 업종을 분류하세요.', 'input': '영길리', 'output': '음식'},\n",
       " {'instruction': '다음 가맹점의 업종을 분류하세요.', 'input': 'Apple', 'output': '디지털'},\n",
       " {'instruction': '다음 가맹점의 업종을 분류하세요.', 'input': '칼레오커피', 'output': '카페'},\n",
       " {'instruction': '다음 가맹점의 업종을 분류하세요.', 'input': '진맥', 'output': '음식'},\n",
       " {'instruction': '다음 가맹점의 업종을 분류하세요.', 'input': '서초칼국수 닭한마리', 'output': '음식'},\n",
       " {'instruction': '다음 가맹점의 업종을 분류하세요.',\n",
       "  'input': '아라쭈꾸미 남부터미널점',\n",
       "  'output': '음식'},\n",
       " {'instruction': '다음 가맹점의 업종을 분류하세요.', 'input': '심마니', 'output': '음식'},\n",
       " {'instruction': '다음 가맹점의 업종을 분류하세요.',\n",
       "  'input': 'LG U+통신요금 자동이체',\n",
       "  'output': '통신'},\n",
       " {'instruction': '다음 가맹점의 업종을 분류하세요.', 'input': '김가네김밥 건대점', 'output': '음식'},\n",
       " {'instruction': '다음 가맹점의 업종을 분류하세요.', 'input': '씨유 관악건영점', 'output': '생활용품'},\n",
       " {'instruction': '다음 가맹점의 업종을 분류하세요.',\n",
       "  'input': '매머드커피익스프레스 건대스타',\n",
       "  'output': '카페'},\n",
       " {'instruction': '다음 가맹점의 업종을 분류하세요.', 'input': '(주)카카오', 'output': '디지털'},\n",
       " {'instruction': '다음 가맹점의 업종을 분류하세요.', 'input': '티머니 법인택시', 'output': '교통'},\n",
       " {'instruction': '다음 가맹점의 업종을 분류하세요.',\n",
       "  'input': '컴포즈커피 테헤란아이파크점',\n",
       "  'output': '카페'},\n",
       " {'instruction': '다음 가맹점의 업종을 분류하세요.', 'input': '심가네', 'output': '음식'},\n",
       " {'instruction': '다음 가맹점의 업종을 분류하세요.',\n",
       "  'input': '한국도로교통공단 강남운전면허',\n",
       "  'output': '교통'},\n",
       " {'instruction': '다음 가맹점의 업종을 분류하세요.', 'input': '에프이지', 'output': '기타'},\n",
       " {'instruction': '다음 가맹점의 업종을 분류하세요.', 'input': '네이버페이', 'output': '디지털'},\n",
       " {'instruction': '다음 가맹점의 업종을 분류하세요.', 'input': '더벤티 신림역점', 'output': '카페'},\n",
       " {'instruction': '다음 가맹점의 업종을 분류하세요.',\n",
       "  'input': '세븐일레븐 대전가양행복점',\n",
       "  'output': '쇼핑'},\n",
       " {'instruction': '다음 가맹점의 업종을 분류하세요.', 'input': '백암슈퍼', 'output': '쇼핑'},\n",
       " {'instruction': '다음 가맹점의 업종을 분류하세요.', 'input': '씨유 신림동희점', 'output': '음식'},\n",
       " {'instruction': '다음 가맹점의 업종을 분류하세요.', 'input': '관악구청', 'output': '기타'},\n",
       " {'instruction': '다음 가맹점의 업종을 분류하세요.', 'input': '조이(JOY)', 'output': '오락'},\n",
       " {'instruction': '다음 가맹점의 업종을 분류하세요.',\n",
       "  'input': '한국맥도날드(유)선릉점',\n",
       "  'output': '음식'},\n",
       " {'instruction': '다음 가맹점의 업종을 분류하세요.', 'input': '삼대나주곰탕', 'output': '음식'},\n",
       " {'instruction': '다음 가맹점의 업종을 분류하세요.',\n",
       "  'input': '사운즈커피 프리미어 강남',\n",
       "  'output': '카페'},\n",
       " {'instruction': '다음 가맹점의 업종을 분류하세요.', 'input': '릴 버거', 'output': '음식'},\n",
       " {'instruction': '다음 가맹점의 업종을 분류하세요.',\n",
       "  'input': '(주) 코리아세븐 신사시장점',\n",
       "  'output': '쇼핑'},\n",
       " {'instruction': '다음 가맹점의 업종을 분류하세요.', 'input': '제주상회', 'output': '쇼핑'},\n",
       " {'instruction': '다음 가맹점의 업종을 분류하세요.', 'input': '평안도식당 신림점', 'output': '음식'},\n",
       " {'instruction': '다음 가맹점의 업종을 분류하세요.', 'input': '홈플러스', 'output': '쇼핑'},\n",
       " {'instruction': '다음 가맹점의 업종을 분류하세요.', 'input': '이디야', 'output': '카페'},\n",
       " {'instruction': '다음 가맹점의 업종을 분류하세요.', 'input': '여기어때', 'output': '오락'},\n",
       " {'instruction': '다음 가맹점의 업종을 분류하세요.', 'input': '(주)이디야', 'output': '카페'},\n",
       " {'instruction': '다음 가맹점의 업종을 분류하세요.', 'input': '고기반장', 'output': '음식'},\n",
       " {'instruction': '다음 가맹점의 업종을 분류하세요.', 'input': '진흥마트', 'output': '쇼핑'},\n",
       " {'instruction': '다음 가맹점의 업종을 분류하세요.', 'input': '동래정 선릉직영점', 'output': '음식'},\n",
       " {'instruction': '다음 가맹점의 업종을 분류하세요.',\n",
       "  'input': '주식회사마스리얼티(고품격커피',\n",
       "  'output': '카페'},\n",
       " {'instruction': '다음 가맹점의 업종을 분류하세요.', 'input': '적온', 'output': '음식'},\n",
       " {'instruction': '다음 가맹점의 업종을 분류하세요.', 'input': '건국대학교', 'output': '기타'},\n",
       " {'instruction': '다음 가맹점의 업종을 분류하세요.', 'input': '시골집', 'output': '음식'},\n",
       " {'instruction': '다음 가맹점의 업종을 분류하세요.', 'input': '엄마손반찬', 'output': '음식'},\n",
       " {'instruction': '다음 가맹점의 업종을 분류하세요.', 'input': '시안사진관 건대점', 'output': '기타'},\n",
       " {'instruction': '다음 가맹점의 업종을 분류하세요.',\n",
       "  'input': 'OPENAI *CHATGPT SUBSCR',\n",
       "  'output': '디지털'},\n",
       " {'instruction': '다음 가맹점의 업종을 분류하세요.', 'input': '밀마을칼국수', 'output': '음식'},\n",
       " {'instruction': '다음 가맹점의 업종을 분류하세요.', 'input': '초라멘', 'output': '음식'},\n",
       " {'instruction': '다음 가맹점의 업종을 분류하세요.',\n",
       "  'input': '(주)유썸 퀴즈노스 서울대벤처타',\n",
       "  'output': '음식'},\n",
       " {'instruction': '다음 가맹점의 업종을 분류하세요.', 'input': '곱창의전당 서초본점', 'output': '음식'},\n",
       " {'instruction': '다음 가맹점의 업종을 분류하세요.', 'input': '카페타임', 'output': '카페'},\n",
       " {'instruction': '다음 가맹점의 업종을 분류하세요.',\n",
       "  'input': '한국맥도날드(유) 서초GS DT점',\n",
       "  'output': '음식'},\n",
       " {'instruction': '다음 가맹점의 업종을 분류하세요.',\n",
       "  'input': 'CU 건대상허도서관점',\n",
       "  'output': '생활용품'},\n",
       " {'instruction': '다음 가맹점의 업종을 분류하세요.', 'input': '우성식당', 'output': '음식'},\n",
       " {'instruction': '다음 가맹점의 업종을 분류하세요.', 'input': '김치 도가', 'output': '음식'},\n",
       " {'instruction': '다음 가맹점의 업종을 분류하세요.', 'input': '하루', 'output': '음식'},\n",
       " {'instruction': '다음 가맹점의 업종을 분류하세요.', 'input': '쿠팡', 'output': '쇼핑'},\n",
       " {'instruction': '다음 가맹점의 업종을 분류하세요.', 'input': '버거킹 건대입구역점', 'output': '음식'},\n",
       " {'instruction': '다음 가맹점의 업종을 분류하세요.', 'input': '이디야 예술의전당점', 'output': '카페'},\n",
       " {'instruction': '다음 가맹점의 업종을 분류하세요.', 'input': '써브웨이건대입구', 'output': '음식'},\n",
       " {'instruction': '다음 가맹점의 업종을 분류하세요.',\n",
       "  'input': '투썸플레이스 신촌연세로점',\n",
       "  'output': '카페'},\n",
       " {'instruction': '다음 가맹점의 업종을 분류하세요.', 'input': '(주)비바리퍼블리카', 'output': '디지털'},\n",
       " {'instruction': '다음 가맹점의 업종을 분류하세요.', 'input': '럭키슈퍼', 'output': '쇼핑'},\n",
       " {'instruction': '다음 가맹점의 업종을 분류하세요.', 'input': '커피브라더 건대점', 'output': '카페'},\n",
       " {'instruction': '다음 가맹점의 업종을 분류하세요.', 'input': '신사동인동 교대점', 'output': '음식'},\n",
       " {'instruction': '다음 가맹점의 업종을 분류하세요.', 'input': '(주)에프이지', 'output': '기타'},\n",
       " {'instruction': '다음 가맹점의 업종을 분류하세요.',\n",
       "  'input': '씨제이올리브영(주) 신대방역점',\n",
       "  'output': '쇼핑'},\n",
       " {'instruction': '다음 가맹점의 업종을 분류하세요.', 'input': '팀스파르타 주식회사', 'output': '디지털'},\n",
       " {'instruction': '다음 가맹점의 업종을 분류하세요.', 'input': '멋진동전노래연습장', 'output': '오락'},\n",
       " {'instruction': '다음 가맹점의 업종을 분류하세요.',\n",
       "  'input': '육전국밥 서울대입구역점',\n",
       "  'output': '음식'},\n",
       " {'instruction': '다음 가맹점의 업종을 분류하세요.', 'input': 'OPENAI', 'output': '디지털'},\n",
       " {'instruction': '다음 가맹점의 업종을 분류하세요.', 'input': '허밍베어커피앤디저트', 'output': '카페'},\n",
       " {'instruction': '다음 가맹점의 업종을 분류하세요.',\n",
       "  'input': '테이스테이 (Teistay)',\n",
       "  'output': '카페'},\n",
       " {'instruction': '다음 가맹점의 업종을 분류하세요.', 'input': '순대실록남부터미널점', 'output': '음식'},\n",
       " {'instruction': '다음 가맹점의 업종을 분류하세요.',\n",
       "  'input': '문경축산농협 약돌축산물센터',\n",
       "  'output': '음식'},\n",
       " {'instruction': '다음 가맹점의 업종을 분류하세요.',\n",
       "  'input': '넷플릭스서비시스코리아 유한회',\n",
       "  'output': '디지털'},\n",
       " {'instruction': '다음 가맹점의 업종을 분류하세요.',\n",
       "  'input': '씨알지(c.r.g)-신림점',\n",
       "  'output': '음식'},\n",
       " {'instruction': '다음 가맹점의 업종을 분류하세요.',\n",
       "  'input': '공우이엔씨주식회사(슈퍼빌휘트',\n",
       "  'output': '기타'},\n",
       " {'instruction': '다음 가맹점의 업종을 분류하세요.', 'input': '(주)두잇', 'output': '기타'},\n",
       " {'instruction': '다음 가맹점의 업종을 분류하세요.',\n",
       "  'input': '서창산업(주) 구리휴게소',\n",
       "  'output': '음식'},\n",
       " {'instruction': '다음 가맹점의 업종을 분류하세요.', 'input': 'SR', 'output': '교통'},\n",
       " {'instruction': '다음 가맹점의 업종을 분류하세요.', 'input': '오월당', 'output': '카페'},\n",
       " {'instruction': '다음 가맹점의 업종을 분류하세요.',\n",
       "  'input': '주식회사 리베르 관악 1지점',\n",
       "  'output': '기타'},\n",
       " {'instruction': '다음 가맹점의 업종을 분류하세요.', 'input': '싸다김밥(서초역점)', 'output': '음식'},\n",
       " {'instruction': '다음 가맹점의 업종을 분류하세요.', 'input': '홍루몽', 'output': '음식'},\n",
       " {'instruction': '다음 가맹점의 업종을 분류하세요.', 'input': '도시맥주 강남역점', 'output': '음식'},\n",
       " {'instruction': '다음 가맹점의 업종을 분류하세요.', 'input': '멘쇼', 'output': '음식'},\n",
       " {'instruction': '다음 가맹점의 업종을 분류하세요.', 'input': '감초식당', 'output': '음식'},\n",
       " {'instruction': '다음 가맹점의 업종을 분류하세요.',\n",
       "  'input': '(주)코리아세븐 서초프라자점',\n",
       "  'output': '쇼핑'},\n",
       " {'instruction': '다음 가맹점의 업종을 분류하세요.',\n",
       "  'input': '씨유(CU) 관악신사점',\n",
       "  'output': '쇼핑'},\n",
       " {'instruction': '다음 가맹점의 업종을 분류하세요.', 'input': '송황 칼국수', 'output': '음식'},\n",
       " {'instruction': '다음 가맹점의 업종을 분류하세요.', 'input': '비디버거 강남', 'output': '음식'},\n",
       " {'instruction': '다음 가맹점의 업종을 분류하세요.', 'input': '명동칼국수', 'output': '음식'},\n",
       " {'instruction': '다음 가맹점의 업종을 분류하세요.',\n",
       "  'input': '(주)이랜드월드패션 강남2',\n",
       "  'output': '쇼핑'},\n",
       " {'instruction': '다음 가맹점의 업종을 분류하세요.', 'input': '(주)지오다노 강남', 'output': '쇼핑'},\n",
       " {'instruction': '다음 가맹점의 업종을 분류하세요.', 'input': '네이버플러스 멤버십', 'output': '디지털'},\n",
       " {'instruction': '다음 가맹점의 업종을 분류하세요.',\n",
       "  'input': '주식회사 에스씨케이컴퍼니',\n",
       "  'output': '기타'},\n",
       " {'instruction': '다음 가맹점의 업종을 분류하세요.', 'input': '아우룸', 'output': '기타'},\n",
       " {'instruction': '다음 가맹점의 업종을 분류하세요.', 'input': '관악구시설관리공단', 'output': '기타'},\n",
       " {'instruction': '다음 가맹점의 업종을 분류하세요.',\n",
       "  'input': '문경축산농협 약돌한우프라자',\n",
       "  'output': '음식'},\n",
       " {'instruction': '다음 가맹점의 업종을 분류하세요.', 'input': 'GS25 와현해변점', 'output': '쇼핑'},\n",
       " {'instruction': '다음 가맹점의 업종을 분류하세요.',\n",
       "  'input': '롯데시네마 신림 (티켓 외)',\n",
       "  'output': '오락'},\n",
       " {'instruction': '다음 가맹점의 업종을 분류하세요.', 'input': 'CU 서초한빛점', 'output': '쇼핑'},\n",
       " {'instruction': '다음 가맹점의 업종을 분류하세요.', 'input': '긴자료코 서초점', 'output': '음식'},\n",
       " {'instruction': '다음 가맹점의 업종을 분류하세요.',\n",
       "  'input': 'GS25한화볼파크1루점',\n",
       "  'output': '쇼핑'},\n",
       " {'instruction': '다음 가맹점의 업종을 분류하세요.',\n",
       "  'input': '(주)코리아세븐 서울대벤처타운',\n",
       "  'output': '쇼핑'},\n",
       " {'instruction': '다음 가맹점의 업종을 분류하세요.', 'input': '핵밥 건대점', 'output': '음식'},\n",
       " {'instruction': '다음 가맹점의 업종을 분류하세요.', 'input': '지세사랑약국', 'output': '의료'},\n",
       " {'instruction': '다음 가맹점의 업종을 분류하세요.', 'input': '우아한형제들', 'output': '음식'},\n",
       " {'instruction': '다음 가맹점의 업종을 분류하세요.', 'input': '게박사', 'output': '음식'},\n",
       " {'instruction': '다음 가맹점의 업종을 분류하세요.', 'input': '빠사삭', 'output': '음식'},\n",
       " {'instruction': '다음 가맹점의 업종을 분류하세요.', 'input': '씨유서초대로점', 'output': '쇼핑'},\n",
       " {'instruction': '다음 가맹점의 업종을 분류하세요.',\n",
       "  'input': '한국맥도날드(유) 서울교대점',\n",
       "  'output': '음식'},\n",
       " {'instruction': '다음 가맹점의 업종을 분류하세요.',\n",
       "  'input': '할리스커피 난곡사거리점',\n",
       "  'output': '카페'},\n",
       " {'instruction': '다음 가맹점의 업종을 분류하세요.',\n",
       "  'input': '나오리주물럭 남부터미널점',\n",
       "  'output': '음식'},\n",
       " {'instruction': '다음 가맹점의 업종을 분류하세요.', 'input': '남도식당', 'output': '음식'},\n",
       " {'instruction': '다음 가맹점의 업종을 분류하세요.',\n",
       "  'input': '맘스터치 롯데건대스타시티점',\n",
       "  'output': '음식'},\n",
       " {'instruction': '다음 가맹점의 업종을 분류하세요.', 'input': '호남집', 'output': '음식'},\n",
       " {'instruction': '다음 가맹점의 업종을 분류하세요.', 'input': '파파도나스', 'output': '음식'},\n",
       " {'instruction': '다음 가맹점의 업종을 분류하세요.', 'input': '탐앤탐스 광진화양점', 'output': '카페'},\n",
       " {'instruction': '다음 가맹점의 업종을 분류하세요.', 'input': '계경순대국(신대방점)', 'output': '음식'},\n",
       " {'instruction': '다음 가맹점의 업종을 분류하세요.',\n",
       "  'input': '(주)신세계프라퍼티 코엑스몰',\n",
       "  'output': '쇼핑'},\n",
       " {'instruction': '다음 가맹점의 업종을 분류하세요.', 'input': '벨렘351 건대점', 'output': '음식'},\n",
       " {'instruction': '다음 가맹점의 업종을 분류하세요.', 'input': '주식회사 씨더블유창원', 'output': '기타'},\n",
       " {'instruction': '다음 가맹점의 업종을 분류하세요.', 'input': '정자네', 'output': '음식'},\n",
       " {'instruction': '다음 가맹점의 업종을 분류하세요.', 'input': '포마토김밥', 'output': '음식'}]"
      ]
     },
     "execution_count": 18,
     "metadata": {},
     "output_type": "execute_result"
    }
   ],
   "source": [
    "corpus"
   ]
  },
  {
   "cell_type": "code",
   "execution_count": 19,
   "id": "8777641b-d118-423a-928c-4180c7ac6b09",
   "metadata": {},
   "outputs": [],
   "source": [
    "import random\n",
    "\n",
    "# shuffle한 뒤 분할\n",
    "random.shuffle(corpus)\n",
    "split_idx = int(len(corpus) * 0.8)\n",
    "train_data = corpus[:split_idx]\n",
    "validation_data = corpus[split_idx:]"
   ]
  },
  {
   "cell_type": "code",
   "execution_count": 20,
   "id": "614cfdbf-a1be-44cd-8a98-60745ee9d7f1",
   "metadata": {},
   "outputs": [
    {
     "data": {
      "text/plain": [
       "[{'instruction': '다음 가맹점의 업종을 분류하세요.', 'input': '하오차이', 'output': '음식'},\n",
       " {'instruction': '다음 가맹점의 업종을 분류하세요.',\n",
       "  'input': '컴포즈커피 테헤란아이파크점',\n",
       "  'output': '카페'},\n",
       " {'instruction': '다음 가맹점의 업종을 분류하세요.', 'input': '나카노라멘', 'output': '음식'},\n",
       " {'instruction': '다음 가맹점의 업종을 분류하세요.', 'input': '더벤티 신림역점', 'output': '카페'},\n",
       " {'instruction': '다음 가맹점의 업종을 분류하세요.',\n",
       "  'input': '사운즈커피 프리미어 강남',\n",
       "  'output': '카페'},\n",
       " {'instruction': '다음 가맹점의 업종을 분류하세요.', 'input': '서초칼국수 닭한마리', 'output': '음식'},\n",
       " {'instruction': '다음 가맹점의 업종을 분류하세요.', 'input': '감초식당', 'output': '음식'},\n",
       " {'instruction': '다음 가맹점의 업종을 분류하세요.',\n",
       "  'input': 'BITE 2 HEAVEN(바이투헤븐)',\n",
       "  'output': '음식'},\n",
       " {'instruction': '다음 가맹점의 업종을 분류하세요.', 'input': '청담', 'output': '음식'},\n",
       " {'instruction': '다음 가맹점의 업종을 분류하세요.', 'input': '조이(JOY)', 'output': '오락'},\n",
       " {'instruction': '다음 가맹점의 업종을 분류하세요.', 'input': '소문난 청년푸줏간', 'output': '음식'},\n",
       " {'instruction': '다음 가맹점의 업종을 분류하세요.', 'input': 'CU 서초한빛점', 'output': '쇼핑'},\n",
       " {'instruction': '다음 가맹점의 업종을 분류하세요.', 'input': '카페동네 신림', 'output': '카페'},\n",
       " {'instruction': '다음 가맹점의 업종을 분류하세요.', 'input': 'Amazon_AWS', 'output': '디지털'},\n",
       " {'instruction': '다음 가맹점의 업종을 분류하세요.', 'input': '런드리킹7호점', 'output': '생활용품'},\n",
       " {'instruction': '다음 가맹점의 업종을 분류하세요.', 'input': '다와 마트', 'output': '쇼핑'},\n",
       " {'instruction': '다음 가맹점의 업종을 분류하세요.', 'input': '와이즐리', 'output': '생활용품'},\n",
       " {'instruction': '다음 가맹점의 업종을 분류하세요.', 'input': '(주)핌아시아', 'output': '기타'},\n",
       " {'instruction': '다음 가맹점의 업종을 분류하세요.',\n",
       "  'input': '씨제이올리브영(주) 신대방역점',\n",
       "  'output': '쇼핑'},\n",
       " {'instruction': '다음 가맹점의 업종을 분류하세요.', 'input': '더이퀼리브리엄커피', 'output': '카페'},\n",
       " {'instruction': '다음 가맹점의 업종을 분류하세요.', 'input': '릴 버거', 'output': '음식'},\n",
       " {'instruction': '다음 가맹점의 업종을 분류하세요.',\n",
       "  'input': '테이스테이 (Teistay)',\n",
       "  'output': '카페'},\n",
       " {'instruction': '다음 가맹점의 업종을 분류하세요.', 'input': '원족발 순대국', 'output': '음식'},\n",
       " {'instruction': '다음 가맹점의 업종을 분류하세요.', 'input': '24시자양감자탕', 'output': '음식'},\n",
       " {'instruction': '다음 가맹점의 업종을 분류하세요.',\n",
       "  'input': '주식회사 엠플레이그라운드 건대',\n",
       "  'output': '오락'},\n",
       " {'instruction': '다음 가맹점의 업종을 분류하세요.', 'input': '에프이지', 'output': '기타'},\n",
       " {'instruction': '다음 가맹점의 업종을 분류하세요.',\n",
       "  'input': '런드리킹셀프빨래방 신대방점',\n",
       "  'output': '생활용품'},\n",
       " {'instruction': '다음 가맹점의 업종을 분류하세요.', 'input': '하루', 'output': '음식'},\n",
       " {'instruction': '다음 가맹점의 업종을 분류하세요.',\n",
       "  'input': '할리스커피 난곡사거리점',\n",
       "  'output': '카페'},\n",
       " {'instruction': '다음 가맹점의 업종을 분류하세요.', 'input': '신사동인동 교대점', 'output': '음식'},\n",
       " {'instruction': '다음 가맹점의 업종을 분류하세요.', 'input': '라이즈커피로스터즈', 'output': '카페'},\n",
       " {'instruction': '다음 가맹점의 업종을 분류하세요.',\n",
       "  'input': '한국도로교통공단 강남운전면허',\n",
       "  'output': '교통'},\n",
       " {'instruction': '다음 가맹점의 업종을 분류하세요.', 'input': '서초백화점약국', 'output': '의료'},\n",
       " {'instruction': '다음 가맹점의 업종을 분류하세요.', 'input': '옴므', 'output': '쇼핑'},\n",
       " {'instruction': '다음 가맹점의 업종을 분류하세요.', 'input': '적온', 'output': '음식'},\n",
       " {'instruction': '다음 가맹점의 업종을 분류하세요.',\n",
       "  'input': '아칸&플렉스 대전로드점',\n",
       "  'output': '오락'},\n",
       " {'instruction': '다음 가맹점의 업종을 분류하세요.',\n",
       "  'input': '문경축산농협 약돌축산물센터',\n",
       "  'output': '음식'},\n",
       " {'instruction': '다음 가맹점의 업종을 분류하세요.', 'input': '이디야 예술의전당점', 'output': '카페'},\n",
       " {'instruction': '다음 가맹점의 업종을 분류하세요.', 'input': '네이버페이', 'output': '디지털'},\n",
       " {'instruction': '다음 가맹점의 업종을 분류하세요.', 'input': '시안사진관 건대점', 'output': '기타'},\n",
       " {'instruction': '다음 가맹점의 업종을 분류하세요.', 'input': '원조숯골냉면본점', 'output': '음식'},\n",
       " {'instruction': '다음 가맹점의 업종을 분류하세요.', 'input': '럭키슈퍼', 'output': '쇼핑'},\n",
       " {'instruction': '다음 가맹점의 업종을 분류하세요.', 'input': 'Apple', 'output': '디지털'},\n",
       " {'instruction': '다음 가맹점의 업종을 분류하세요.',\n",
       "  'input': '(주)코리아세븐 서초프라자점',\n",
       "  'output': '쇼핑'},\n",
       " {'instruction': '다음 가맹점의 업종을 분류하세요.',\n",
       "  'input': '(주) 코리아세븐 신사시장점',\n",
       "  'output': '쇼핑'},\n",
       " {'instruction': '다음 가맹점의 업종을 분류하세요.',\n",
       "  'input': '주식회사 리베르 관악 1지점',\n",
       "  'output': '기타'},\n",
       " {'instruction': '다음 가맹점의 업종을 분류하세요.',\n",
       "  'input': '롯데시네마 신림 (티켓 외)',\n",
       "  'output': '오락'},\n",
       " {'instruction': '다음 가맹점의 업종을 분류하세요.', 'input': '서울옥', 'output': '음식'},\n",
       " {'instruction': '다음 가맹점의 업종을 분류하세요.', 'input': '우먼센스', 'output': '쇼핑'},\n",
       " {'instruction': '다음 가맹점의 업종을 분류하세요.', 'input': 'GS25신림수성점', 'output': '쇼핑'},\n",
       " {'instruction': '다음 가맹점의 업종을 분류하세요.',\n",
       "  'input': '문경축산농협 약돌한우프라자',\n",
       "  'output': '음식'},\n",
       " {'instruction': '다음 가맹점의 업종을 분류하세요.', 'input': '티머니 개인택시', 'output': '교통'},\n",
       " {'instruction': '다음 가맹점의 업종을 분류하세요.',\n",
       "  'input': '(주)유썸 퀴즈노스 서울대벤처타',\n",
       "  'output': '음식'},\n",
       " {'instruction': '다음 가맹점의 업종을 분류하세요.',\n",
       "  'input': '맘스터치 롯데건대스타시티점',\n",
       "  'output': '음식'},\n",
       " {'instruction': '다음 가맹점의 업종을 분류하세요.', 'input': '고벤트 주식회사', 'output': '기타'},\n",
       " {'instruction': '다음 가맹점의 업종을 분류하세요.', 'input': '서울도시가스(주)', 'output': '공과금'},\n",
       " {'instruction': '다음 가맹점의 업종을 분류하세요.', 'input': '주식회사 씨더블유창원', 'output': '기타'},\n",
       " {'instruction': '다음 가맹점의 업종을 분류하세요.', 'input': 'SR', 'output': '교통'},\n",
       " {'instruction': '다음 가맹점의 업종을 분류하세요.', 'input': '엄마손반찬', 'output': '음식'},\n",
       " {'instruction': '다음 가맹점의 업종을 분류하세요.',\n",
       "  'input': '씨알지(c.r.g)-신림점',\n",
       "  'output': '음식'},\n",
       " {'instruction': '다음 가맹점의 업종을 분류하세요.', 'input': '버거운녀석들', 'output': '음식'},\n",
       " {'instruction': '다음 가맹점의 업종을 분류하세요.', 'input': '제오헤어(신림점)', 'output': '기타'},\n",
       " {'instruction': '다음 가맹점의 업종을 분류하세요.',\n",
       "  'input': '서창산업(주) 구리휴게소',\n",
       "  'output': '음식'},\n",
       " {'instruction': '다음 가맹점의 업종을 분류하세요.', 'input': '나오리장작구이 서초점', 'output': '음식'},\n",
       " {'instruction': '다음 가맹점의 업종을 분류하세요.', 'input': '멋진동전노래연습장', 'output': '오락'},\n",
       " {'instruction': '다음 가맹점의 업종을 분류하세요.', 'input': '초라멘', 'output': '음식'},\n",
       " {'instruction': '다음 가맹점의 업종을 분류하세요.', 'input': '고흥순대국', 'output': '음식'},\n",
       " {'instruction': '다음 가맹점의 업종을 분류하세요.', 'input': '게박사', 'output': '음식'},\n",
       " {'instruction': '다음 가맹점의 업종을 분류하세요.',\n",
       "  'input': '시카프관광개발주식회사함양(통',\n",
       "  'output': '기타'},\n",
       " {'instruction': '다음 가맹점의 업종을 분류하세요.',\n",
       "  'input': '(주)아트박스 건대스타시티점',\n",
       "  'output': '쇼핑'},\n",
       " {'instruction': '다음 가맹점의 업종을 분류하세요.', 'input': '길동우동 건대점', 'output': '음식'},\n",
       " {'instruction': '다음 가맹점의 업종을 분류하세요.',\n",
       "  'input': '이마트24 센트럴키오스크점',\n",
       "  'output': '쇼핑'},\n",
       " {'instruction': '다음 가맹점의 업종을 분류하세요.',\n",
       "  'input': '커피빈코리아 테헤란로비젼타워',\n",
       "  'output': '카페'},\n",
       " {'instruction': '다음 가맹점의 업종을 분류하세요.', 'input': '티맵모빌리티', 'output': '교통'},\n",
       " {'instruction': '다음 가맹점의 업종을 분류하세요.', 'input': '우청옥', 'output': '음식'},\n",
       " {'instruction': '다음 가맹점의 업종을 분류하세요.',\n",
       "  'input': '세븐일레븐 M신대방역점',\n",
       "  'output': '쇼핑'},\n",
       " {'instruction': '다음 가맹점의 업종을 분류하세요.', 'input': '심마니', 'output': '음식'},\n",
       " {'instruction': '다음 가맹점의 업종을 분류하세요.',\n",
       "  'input': '나오리주물럭 남부터미널점',\n",
       "  'output': '음식'},\n",
       " {'instruction': '다음 가맹점의 업종을 분류하세요.',\n",
       "  'input': '오마카세 오사이초밥 강남',\n",
       "  'output': '음식'},\n",
       " {'instruction': '다음 가맹점의 업종을 분류하세요.',\n",
       "  'input': '엑스엑스커피메이커 건대점',\n",
       "  'output': '카페'},\n",
       " {'instruction': '다음 가맹점의 업종을 분류하세요.',\n",
       "  'input': '메가엠지씨커피 건대스타점',\n",
       "  'output': '카페'},\n",
       " {'instruction': '다음 가맹점의 업종을 분류하세요.', 'input': '서일체육문화센터', 'output': '오락'},\n",
       " {'instruction': '다음 가맹점의 업종을 분류하세요.', 'input': '빠사삭', 'output': '음식'},\n",
       " {'instruction': '다음 가맹점의 업종을 분류하세요.', 'input': '허밍베어커피앤디저트', 'output': '카페'},\n",
       " {'instruction': '다음 가맹점의 업종을 분류하세요.', 'input': '말통커피 남부터미널점', 'output': '카페'},\n",
       " {'instruction': '다음 가맹점의 업종을 분류하세요.', 'input': '주식회사 놀유니버스', 'output': '오락'},\n",
       " {'instruction': '다음 가맹점의 업종을 분류하세요.',\n",
       "  'input': '메가엠지씨커피 신대방역점',\n",
       "  'output': '카페'},\n",
       " {'instruction': '다음 가맹점의 업종을 분류하세요.', 'input': '오월당', 'output': '카페'},\n",
       " {'instruction': '다음 가맹점의 업종을 분류하세요.', 'input': '영길리', 'output': '음식'},\n",
       " {'instruction': '다음 가맹점의 업종을 분류하세요.', 'input': '왓더버거 서초점', 'output': '음식'},\n",
       " {'instruction': '다음 가맹점의 업종을 분류하세요.', 'input': '커피브라더 건대점', 'output': '카페'},\n",
       " {'instruction': '다음 가맹점의 업종을 분류하세요.', 'input': '도시맥주 강남역점', 'output': '음식'},\n",
       " {'instruction': '다음 가맹점의 업종을 분류하세요.',\n",
       "  'input': '움버거앤윙스 어린이대공원역점',\n",
       "  'output': '음식'},\n",
       " {'instruction': '다음 가맹점의 업종을 분류하세요.', 'input': '함포해장 서초점', 'output': '음식'},\n",
       " {'instruction': '다음 가맹점의 업종을 분류하세요.', 'input': '백암슈퍼', 'output': '쇼핑'},\n",
       " {'instruction': '다음 가맹점의 업종을 분류하세요.',\n",
       "  'input': '매머드익스프레스 남부터미널점',\n",
       "  'output': '음식'},\n",
       " {'instruction': '다음 가맹점의 업종을 분류하세요.', 'input': '버거킹 건대입구역점', 'output': '음식'},\n",
       " {'instruction': '다음 가맹점의 업종을 분류하세요.', 'input': '(주)공유어장', 'output': '기타'},\n",
       " {'instruction': '다음 가맹점의 업종을 분류하세요.', 'input': '(주)두잇', 'output': '기타'},\n",
       " {'instruction': '다음 가맹점의 업종을 분류하세요.', 'input': 'OF', 'output': '기타'},\n",
       " {'instruction': '다음 가맹점의 업종을 분류하세요.', 'input': '여기어때', 'output': '오락'},\n",
       " {'instruction': '다음 가맹점의 업종을 분류하세요.', 'input': '건국대학교', 'output': '기타'},\n",
       " {'instruction': '다음 가맹점의 업종을 분류하세요.', 'input': '비디버거 강남', 'output': '음식'},\n",
       " {'instruction': '다음 가맹점의 업종을 분류하세요.', 'input': '빽다방 건대동문회관점', 'output': '카페'},\n",
       " {'instruction': '다음 가맹점의 업종을 분류하세요.', 'input': '칼레오커피', 'output': '카페'},\n",
       " {'instruction': '다음 가맹점의 업종을 분류하세요.', 'input': '곱창의전당 서초본점', 'output': '음식'},\n",
       " {'instruction': '다음 가맹점의 업종을 분류하세요.',\n",
       "  'input': '공우이엔씨주식회사(슈퍼빌휘트',\n",
       "  'output': '기타'},\n",
       " {'instruction': '다음 가맹점의 업종을 분류하세요.', 'input': '빈브라더스 합정점', 'output': '카페'},\n",
       " {'instruction': '다음 가맹점의 업종을 분류하세요.', 'input': '지금연구소 나우카페', 'output': '카페'},\n",
       " {'instruction': '다음 가맹점의 업종을 분류하세요.', 'input': '서초제일마디의원', 'output': '의료'},\n",
       " {'instruction': '다음 가맹점의 업종을 분류하세요.',\n",
       "  'input': '한국맥도날드(유) 서초GS DT점',\n",
       "  'output': '음식'},\n",
       " {'instruction': '다음 가맹점의 업종을 분류하세요.', 'input': '호남집', 'output': '음식'},\n",
       " {'instruction': '다음 가맹점의 업종을 분류하세요.', 'input': '씨유서초대로점', 'output': '쇼핑'},\n",
       " {'instruction': '다음 가맹점의 업종을 분류하세요.', 'input': '(주)이마트 구로점', 'output': '쇼핑'},\n",
       " {'instruction': '다음 가맹점의 업종을 분류하세요.',\n",
       "  'input': '(주)아트박스 신림포도몰점',\n",
       "  'output': '쇼핑'},\n",
       " {'instruction': '다음 가맹점의 업종을 분류하세요.',\n",
       "  'input': 'LG U+통신요금 자동이체',\n",
       "  'output': '통신'},\n",
       " {'instruction': '다음 가맹점의 업종을 분류하세요.', 'input': '네이버플러스 멤버십', 'output': '디지털'},\n",
       " {'instruction': '다음 가맹점의 업종을 분류하세요.',\n",
       "  'input': '주식회사마스리얼티(고품격커피',\n",
       "  'output': '카페'},\n",
       " {'instruction': '다음 가맹점의 업종을 분류하세요.', 'input': '티머니 법인택시', 'output': '교통'},\n",
       " {'instruction': '다음 가맹점의 업종을 분류하세요.', 'input': '쇼군', 'output': '음식'},\n",
       " {'instruction': '다음 가맹점의 업종을 분류하세요.', 'input': '파덕 오리바베큐', 'output': '음식'},\n",
       " {'instruction': '다음 가맹점의 업종을 분류하세요.', 'input': '아우룸', 'output': '기타'},\n",
       " {'instruction': '다음 가맹점의 업종을 분류하세요.', 'input': '(주)카카오', 'output': '디지털'},\n",
       " {'instruction': '다음 가맹점의 업종을 분류하세요.', 'input': '관악구시설관리공단', 'output': '기타'},\n",
       " {'instruction': '다음 가맹점의 업종을 분류하세요.', 'input': '김가네김밥 건대점', 'output': '음식'},\n",
       " {'instruction': '다음 가맹점의 업종을 분류하세요.', 'input': '맘스터치 대학동점', 'output': '음식'},\n",
       " {'instruction': '다음 가맹점의 업종을 분류하세요.',\n",
       "  'input': '롯데슈퍼 서초국제전자센터점',\n",
       "  'output': '쇼핑'},\n",
       " {'instruction': '다음 가맹점의 업종을 분류하세요.', 'input': '쿠팡이츠', 'output': '음식'},\n",
       " {'instruction': '다음 가맹점의 업종을 분류하세요.', 'input': '진흥마트', 'output': '쇼핑'},\n",
       " {'instruction': '다음 가맹점의 업종을 분류하세요.', 'input': '시골집', 'output': '음식'},\n",
       " {'instruction': '다음 가맹점의 업종을 분류하세요.', 'input': '팔팔 너구리 해장', 'output': '음식'},\n",
       " {'instruction': '다음 가맹점의 업종을 분류하세요.', 'input': '(주)이디야', 'output': '카페'},\n",
       " {'instruction': '다음 가맹점의 업종을 분류하세요.',\n",
       "  'input': 'OPENAI *CHATGPT SUBSCR',\n",
       "  'output': '디지털'},\n",
       " {'instruction': '다음 가맹점의 업종을 분류하세요.',\n",
       "  'input': '세븐스애비뉴 (7th Avenue)',\n",
       "  'output': '음식'},\n",
       " {'instruction': '다음 가맹점의 업종을 분류하세요.', 'input': '핵밥 건대점', 'output': '음식'},\n",
       " {'instruction': '다음 가맹점의 업종을 분류하세요.', 'input': '(주)비바리퍼블리카', 'output': '디지털'},\n",
       " {'instruction': '다음 가맹점의 업종을 분류하세요.',\n",
       "  'input': '(주)코리아세븐 서울대벤처타운',\n",
       "  'output': '쇼핑'},\n",
       " {'instruction': '다음 가맹점의 업종을 분류하세요.', 'input': '이디야 신대방역점', 'output': '카페'},\n",
       " {'instruction': '다음 가맹점의 업종을 분류하세요.', 'input': 'AXA손해보험', 'output': '보험'},\n",
       " {'instruction': '다음 가맹점의 업종을 분류하세요.',\n",
       "  'input': '라콜롬브코리아 주식회사',\n",
       "  'output': '카페'},\n",
       " {'instruction': '다음 가맹점의 업종을 분류하세요.',\n",
       "  'input': 'GS25한화볼파크1루점',\n",
       "  'output': '쇼핑'},\n",
       " {'instruction': '다음 가맹점의 업종을 분류하세요.', 'input': '써브웨이 건대입구점', 'output': '음식'},\n",
       " {'instruction': '다음 가맹점의 업종을 분류하세요.',\n",
       "  'input': '현대푸드(또봉이통닭&별난만두)',\n",
       "  'output': '음식'},\n",
       " {'instruction': '다음 가맹점의 업종을 분류하세요.',\n",
       "  'input': '투썸플레이스 신촌연세로점',\n",
       "  'output': '카페'},\n",
       " {'instruction': '다음 가맹점의 업종을 분류하세요.',\n",
       "  'input': '에이스아메리카화재해상보험',\n",
       "  'output': '보험'},\n",
       " {'instruction': '다음 가맹점의 업종을 분류하세요.',\n",
       "  'input': '제주은희네해장국 예술의전당점',\n",
       "  'output': '음식'},\n",
       " {'instruction': '다음 가맹점의 업종을 분류하세요.', 'input': '홈플러스', 'output': '쇼핑'},\n",
       " {'instruction': '다음 가맹점의 업종을 분류하세요.', 'input': '명동칼국수', 'output': '음식'},\n",
       " {'instruction': '다음 가맹점의 업종을 분류하세요.', 'input': '남도식당', 'output': '음식'},\n",
       " {'instruction': '다음 가맹점의 업종을 분류하세요.', 'input': '진로할인마트', 'output': '쇼핑'},\n",
       " {'instruction': '다음 가맹점의 업종을 분류하세요.',\n",
       "  'input': '넷플릭스서비시스코리아 유한회',\n",
       "  'output': '디지털'},\n",
       " {'instruction': '다음 가맹점의 업종을 분류하세요.', 'input': '유연카레 서초점', 'output': '음식'},\n",
       " {'instruction': '다음 가맹점의 업종을 분류하세요.', 'input': '이디야', 'output': '카페'},\n",
       " {'instruction': '다음 가맹점의 업종을 분류하세요.', 'input': '테이큰커피', 'output': '카페'},\n",
       " {'instruction': '다음 가맹점의 업종을 분류하세요.', 'input': '건대365약국', 'output': '의료'},\n",
       " {'instruction': '다음 가맹점의 업종을 분류하세요.',\n",
       "  'input': '에이스손해보험 다이렉트',\n",
       "  'output': '보험'},\n",
       " {'instruction': '다음 가맹점의 업종을 분류하세요.',\n",
       "  'input': '메저커피(mezer coffee)',\n",
       "  'output': '카페'},\n",
       " {'instruction': '다음 가맹점의 업종을 분류하세요.', 'input': '진맥', 'output': '음식'},\n",
       " {'instruction': '다음 가맹점의 업종을 분류하세요.',\n",
       "  'input': '서울시설공단(인터넷정기권)',\n",
       "  'output': '공과금'},\n",
       " {'instruction': '다음 가맹점의 업종을 분류하세요.',\n",
       "  'input': '한국맥도날드(유)선릉점',\n",
       "  'output': '음식'},\n",
       " {'instruction': '다음 가맹점의 업종을 분류하세요.', 'input': '농민순대', 'output': '음식'},\n",
       " {'instruction': '다음 가맹점의 업종을 분류하세요.', 'input': '홍등', 'output': '음식'},\n",
       " {'instruction': '다음 가맹점의 업종을 분류하세요.', 'input': 'GS25 와현해변점', 'output': '쇼핑'},\n",
       " {'instruction': '다음 가맹점의 업종을 분류하세요.',\n",
       "  'input': '대보건설(주) 구리(일산방향)주',\n",
       "  'output': '기타'},\n",
       " {'instruction': '다음 가맹점의 업종을 분류하세요.', 'input': '긴자료코 서초점', 'output': '음식'},\n",
       " {'instruction': '다음 가맹점의 업종을 분류하세요.', 'input': '씨유 관악건영점', 'output': '생활용품'},\n",
       " {'instruction': '다음 가맹점의 업종을 분류하세요.', 'input': '지세사랑약국', 'output': '의료'},\n",
       " {'instruction': '다음 가맹점의 업종을 분류하세요.', 'input': '카페타임', 'output': '카페'},\n",
       " {'instruction': '다음 가맹점의 업종을 분류하세요.', 'input': '주식회사 신부원 궁', 'output': '음식'},\n",
       " {'instruction': '다음 가맹점의 업종을 분류하세요.', 'input': 'OPENAI', 'output': '디지털'},\n",
       " {'instruction': '다음 가맹점의 업종을 분류하세요.', 'input': '제주상회', 'output': '쇼핑'},\n",
       " {'instruction': '다음 가맹점의 업종을 분류하세요.',\n",
       "  'input': '노브랜드버거 신림남부점',\n",
       "  'output': '음식'},\n",
       " {'instruction': '다음 가맹점의 업종을 분류하세요.', 'input': '팀스파르타 주식회사', 'output': '디지털'},\n",
       " {'instruction': '다음 가맹점의 업종을 분류하세요.',\n",
       "  'input': '주식회사 비케이알 버거킹신림역',\n",
       "  'output': '음식'},\n",
       " {'instruction': '다음 가맹점의 업종을 분류하세요.', 'input': '홈플러스금천점', 'output': '쇼핑'},\n",
       " {'instruction': '다음 가맹점의 업종을 분류하세요.', 'input': '주식회사 아성다이소', 'output': '쇼핑'},\n",
       " {'instruction': '다음 가맹점의 업종을 분류하세요.',\n",
       "  'input': '(주)써브웨이 신림본점',\n",
       "  'output': '음식'},\n",
       " {'instruction': '다음 가맹점의 업종을 분류하세요.',\n",
       "  'input': '아라쭈꾸미 남부터미널점',\n",
       "  'output': '음식'},\n",
       " {'instruction': '다음 가맹점의 업종을 분류하세요.', 'input': '서울베스트의료의원', 'output': '의료'},\n",
       " {'instruction': '다음 가맹점의 업종을 분류하세요.', 'input': '송황 칼국수', 'output': '음식'},\n",
       " {'instruction': '다음 가맹점의 업종을 분류하세요.',\n",
       "  'input': '매머드커피익스프레스 건대스타',\n",
       "  'output': '카페'},\n",
       " {'instruction': '다음 가맹점의 업종을 분류하세요.', 'input': '부리또삐아', 'output': '음식'},\n",
       " {'instruction': '다음 가맹점의 업종을 분류하세요.', 'input': '김치 도가', 'output': '음식'},\n",
       " {'instruction': '다음 가맹점의 업종을 분류하세요.', 'input': '영커피 강남해커스점', 'output': '카페'},\n",
       " {'instruction': '다음 가맹점의 업종을 분류하세요.', 'input': '이케아코리아 유한회사', 'output': '쇼핑'},\n",
       " {'instruction': '다음 가맹점의 업종을 분류하세요.', 'input': '한설원', 'output': '음식'},\n",
       " {'instruction': '다음 가맹점의 업종을 분류하세요.', 'input': '주식회사 편한커피', 'output': '카페'},\n",
       " {'instruction': '다음 가맹점의 업종을 분류하세요.', 'input': '밥심이', 'output': '음식'},\n",
       " {'instruction': '다음 가맹점의 업종을 분류하세요.', 'input': '포마토김밥', 'output': '음식'},\n",
       " {'instruction': '다음 가맹점의 업종을 분류하세요.', 'input': '(주)갈라인터내셔널', 'output': '기타'},\n",
       " {'instruction': '다음 가맹점의 업종을 분류하세요.',\n",
       "  'input': '롯데시네마 신림 (온라인 티켓)',\n",
       "  'output': '오락'},\n",
       " {'instruction': '다음 가맹점의 업종을 분류하세요.', 'input': '돈천지', 'output': '음식'},\n",
       " {'instruction': '다음 가맹점의 업종을 분류하세요.', 'input': '제니스약국', 'output': '의료'},\n",
       " {'instruction': '다음 가맹점의 업종을 분류하세요.', 'input': '써브웨이건대입구', 'output': '음식'},\n",
       " {'instruction': '다음 가맹점의 업종을 분류하세요.', 'input': '서울붕어베이커리', 'output': '음식'},\n",
       " {'instruction': '다음 가맹점의 업종을 분류하세요.', 'input': '사토이라멘', 'output': '음식'},\n",
       " {'instruction': '다음 가맹점의 업종을 분류하세요.', 'input': '(주)팀플러스', 'output': '기타'},\n",
       " {'instruction': '다음 가맹점의 업종을 분류하세요.', 'input': '(주)에프이지', 'output': '기타'},\n",
       " {'instruction': '다음 가맹점의 업종을 분류하세요.', 'input': '부탄츄', 'output': '음식'},\n",
       " {'instruction': '다음 가맹점의 업종을 분류하세요.', 'input': '탐앤탐스 광진화양점', 'output': '카페'},\n",
       " {'instruction': '다음 가맹점의 업종을 분류하세요.',\n",
       "  'input': '(주)신세계프라퍼티 코엑스몰',\n",
       "  'output': '쇼핑'},\n",
       " {'instruction': '다음 가맹점의 업종을 분류하세요.', 'input': '로또노래연습장', 'output': '오락'},\n",
       " {'instruction': '다음 가맹점의 업종을 분류하세요.', 'input': '천지인주유소', 'output': '교통'},\n",
       " {'instruction': '다음 가맹점의 업종을 분류하세요.', 'input': '파파도나스', 'output': '음식'},\n",
       " {'instruction': '다음 가맹점의 업종을 분류하세요.', 'input': '구시아푸드마켓', 'output': '쇼핑'},\n",
       " {'instruction': '다음 가맹점의 업종을 분류하세요.', 'input': '주식회사 서울밥집', 'output': '음식'},\n",
       " {'instruction': '다음 가맹점의 업종을 분류하세요.', 'input': '수리치킨', 'output': '음식'},\n",
       " {'instruction': '다음 가맹점의 업종을 분류하세요.', 'input': '주식회사 한빛', 'output': '기타'},\n",
       " {'instruction': '다음 가맹점의 업종을 분류하세요.', 'input': '고향촌', 'output': '음식'},\n",
       " {'instruction': '다음 가맹점의 업종을 분류하세요.', 'input': '우아한형제들', 'output': '음식'},\n",
       " {'instruction': '다음 가맹점의 업종을 분류하세요.', 'input': '밀마을칼국수', 'output': '음식'}]"
      ]
     },
     "execution_count": 20,
     "metadata": {},
     "output_type": "execute_result"
    }
   ],
   "source": [
    "train_data"
   ]
  },
  {
   "cell_type": "code",
   "execution_count": 21,
   "id": "32378cba-7164-4f2c-b302-3a463a1910b2",
   "metadata": {},
   "outputs": [
    {
     "data": {
      "text/plain": [
       "[{'instruction': '다음 가맹점의 업종을 분류하세요.',\n",
       "  'input': '나이스인프라 주식회사',\n",
       "  'output': '디지털'},\n",
       " {'instruction': '다음 가맹점의 업종을 분류하세요.', 'input': '고기반장', 'output': '음식'},\n",
       " {'instruction': '다음 가맹점의 업종을 분류하세요.',\n",
       "  'input': '지에스25(GS25) 서초모나코점',\n",
       "  'output': '쇼핑'},\n",
       " {'instruction': '다음 가맹점의 업종을 분류하세요.',\n",
       "  'input': '씨유(CU) 관악신사점',\n",
       "  'output': '쇼핑'},\n",
       " {'instruction': '다음 가맹점의 업종을 분류하세요.', 'input': '포크포크', 'output': '음식'},\n",
       " {'instruction': '다음 가맹점의 업종을 분류하세요.', 'input': '채향', 'output': '음식'},\n",
       " {'instruction': '다음 가맹점의 업종을 분류하세요.',\n",
       "  'input': '세븐일레븐 대전가양행복점',\n",
       "  'output': '쇼핑'},\n",
       " {'instruction': '다음 가맹점의 업종을 분류하세요.', 'input': '백패커', 'output': '쇼핑'},\n",
       " {'instruction': '다음 가맹점의 업종을 분류하세요.',\n",
       "  'input': '주식회사 에스씨케이컴퍼니',\n",
       "  'output': '기타'},\n",
       " {'instruction': '다음 가맹점의 업종을 분류하세요.',\n",
       "  'input': '세븐스타 코인노래연습장',\n",
       "  'output': '오락'},\n",
       " {'instruction': '다음 가맹점의 업종을 분류하세요.', 'input': '순대실록남부터미널점', 'output': '음식'},\n",
       " {'instruction': '다음 가맹점의 업종을 분류하세요.',\n",
       "  'input': 'CU 건대상허도서관점',\n",
       "  'output': '생활용품'},\n",
       " {'instruction': '다음 가맹점의 업종을 분류하세요.', 'input': '주식회사 유피소프트', 'output': '디지털'},\n",
       " {'instruction': '다음 가맹점의 업종을 분류하세요.', 'input': '고품격 커피공장', 'output': '카페'},\n",
       " {'instruction': '다음 가맹점의 업종을 분류하세요.',\n",
       "  'input': '호파스타생면파스타건대본점(HO',\n",
       "  'output': '음식'},\n",
       " {'instruction': '다음 가맹점의 업종을 분류하세요.', 'input': '( 주)버거요강남본점', 'output': '음식'},\n",
       " {'instruction': '다음 가맹점의 업종을 분류하세요.', 'input': '우성식당', 'output': '음식'},\n",
       " {'instruction': '다음 가맹점의 업종을 분류하세요.',\n",
       "  'input': '지에스GS25 서초한신점',\n",
       "  'output': '쇼핑'},\n",
       " {'instruction': '다음 가맹점의 업종을 분류하세요.', 'input': '주식회사 함흥면옥', 'output': '음식'},\n",
       " {'instruction': '다음 가맹점의 업종을 분류하세요.', 'input': '(주)지오다노 강남', 'output': '쇼핑'},\n",
       " {'instruction': '다음 가맹점의 업종을 분류하세요.', 'input': '싸다김밥(서초역점)', 'output': '음식'},\n",
       " {'instruction': '다음 가맹점의 업종을 분류하세요.', 'input': '시옌', 'output': '음식'},\n",
       " {'instruction': '다음 가맹점의 업종을 분류하세요.',\n",
       "  'input': '육전국밥 서울대입구역점',\n",
       "  'output': '음식'},\n",
       " {'instruction': '다음 가맹점의 업종을 분류하세요.',\n",
       "  'input': '한국맥도날드(유) 서울교대점',\n",
       "  'output': '음식'},\n",
       " {'instruction': '다음 가맹점의 업종을 분류하세요.',\n",
       "  'input': '전국고속버스운송사업조합',\n",
       "  'output': '교통'},\n",
       " {'instruction': '다음 가맹점의 업종을 분류하세요.',\n",
       "  'input': '(주)코리아세븐 신림고시촌점',\n",
       "  'output': '쇼핑'},\n",
       " {'instruction': '다음 가맹점의 업종을 분류하세요.', 'input': '씨유 신림동희점', 'output': '음식'},\n",
       " {'instruction': '다음 가맹점의 업종을 분류하세요.', 'input': '벨렘351 건대점', 'output': '음식'},\n",
       " {'instruction': '다음 가맹점의 업종을 분류하세요.', 'input': '현이네 고기국수', 'output': '음식'},\n",
       " {'instruction': '다음 가맹점의 업종을 분류하세요.', 'input': '사랑방', 'output': '음식'},\n",
       " {'instruction': '다음 가맹점의 업종을 분류하세요.', 'input': '린스시', 'output': '음식'},\n",
       " {'instruction': '다음 가맹점의 업종을 분류하세요.', 'input': '맛좋은순대국', 'output': '음식'},\n",
       " {'instruction': '다음 가맹점의 업종을 분류하세요.', 'input': '(주)어비즈', 'output': '기타'},\n",
       " {'instruction': '다음 가맹점의 업종을 분류하세요.', 'input': '동래정 선릉직영점', 'output': '음식'},\n",
       " {'instruction': '다음 가맹점의 업종을 분류하세요.', 'input': '카츠공방', 'output': '음식'},\n",
       " {'instruction': '다음 가맹점의 업종을 분류하세요.', 'input': '관악구청', 'output': '기타'},\n",
       " {'instruction': '다음 가맹점의 업종을 분류하세요.', 'input': '쿠팡', 'output': '쇼핑'},\n",
       " {'instruction': '다음 가맹점의 업종을 분류하세요.',\n",
       "  'input': '(주)이랜드월드패션 강남2',\n",
       "  'output': '쇼핑'},\n",
       " {'instruction': '다음 가맹점의 업종을 분류하세요.', 'input': '평안도식당 신림점', 'output': '음식'},\n",
       " {'instruction': '다음 가맹점의 업종을 분류하세요.', 'input': '쿠팡(쿠페이)', 'output': '쇼핑'},\n",
       " {'instruction': '다음 가맹점의 업종을 분류하세요.', 'input': '정자네', 'output': '음식'},\n",
       " {'instruction': '다음 가맹점의 업종을 분류하세요.', 'input': '한송', 'output': '음식'},\n",
       " {'instruction': '다음 가맹점의 업종을 분류하세요.', 'input': 'GS25 관악녹두점', 'output': '쇼핑'},\n",
       " {'instruction': '다음 가맹점의 업종을 분류하세요.', 'input': '삼대나주곰탕', 'output': '음식'},\n",
       " {'instruction': '다음 가맹점의 업종을 분류하세요.', 'input': '홍루몽', 'output': '음식'},\n",
       " {'instruction': '다음 가맹점의 업종을 분류하세요.', 'input': '봉산옥', 'output': '음식'},\n",
       " {'instruction': '다음 가맹점의 업종을 분류하세요.', 'input': '페이플', 'output': '디지털'},\n",
       " {'instruction': '다음 가맹점의 업종을 분류하세요.', 'input': '노다메', 'output': '음식'},\n",
       " {'instruction': '다음 가맹점의 업종을 분류하세요.', 'input': '심가네', 'output': '음식'},\n",
       " {'instruction': '다음 가맹점의 업종을 분류하세요.', 'input': '계경순대국(신대방점)', 'output': '음식'},\n",
       " {'instruction': '다음 가맹점의 업종을 분류하세요.', 'input': '멘쇼', 'output': '음식'},\n",
       " {'instruction': '다음 가맹점의 업종을 분류하세요.',\n",
       "  'input': '(주)케이에프씨코리아 KFC강남역',\n",
       "  'output': '음식'},\n",
       " {'instruction': '다음 가맹점의 업종을 분류하세요.',\n",
       "  'input': '크린토피아 관악신사점',\n",
       "  'output': '생활용품'}]"
      ]
     },
     "execution_count": 21,
     "metadata": {},
     "output_type": "execute_result"
    }
   ],
   "source": [
    "validation_data"
   ]
  },
  {
   "cell_type": "code",
   "execution_count": 22,
   "id": "d88936c8-4cd0-441b-b363-4cd01edf573c",
   "metadata": {},
   "outputs": [],
   "source": [
    "from datasets import Dataset, DatasetDict\n",
    "\n",
    "# 데이터셋 변환\n",
    "train_dataset = Dataset.from_list(train_data)\n",
    "val_dataset = Dataset.from_list(validation_data)\n",
    "\n",
    "raw_datasets = DatasetDict({\n",
    "    \"train\": train_dataset,\n",
    "    \"validation\": val_dataset\n",
    "})"
   ]
  },
  {
   "cell_type": "code",
   "execution_count": 23,
   "id": "a038ef3e-cabf-4fd5-a64f-4ed7ec82e507",
   "metadata": {},
   "outputs": [
    {
     "data": {
      "application/vnd.jupyter.widget-view+json": {
       "model_id": "a2a84a9e0dc94f968768a2e8c52b1219",
       "version_major": 2,
       "version_minor": 0
      },
      "text/plain": [
       "Map:   0%|          | 0/211 [00:00<?, ? examples/s]"
      ]
     },
     "metadata": {},
     "output_type": "display_data"
    },
    {
     "data": {
      "application/vnd.jupyter.widget-view+json": {
       "model_id": "105cf70e7a9d44f3894a814d1283c607",
       "version_major": 2,
       "version_minor": 0
      },
      "text/plain": [
       "Map:   0%|          | 0/53 [00:00<?, ? examples/s]"
      ]
     },
     "metadata": {},
     "output_type": "display_data"
    }
   ],
   "source": [
    "# 데이터 전처리\n",
    "def preprocess_function(example):\n",
    "    return {\n",
    "        \"text\": f\"[INSTRUCTION] {example['instruction']}\\n[INPUT] {example['input']}\\n[OUTPUT] {example['output']}\"\n",
    "    }\n",
    "\n",
    "raw_datasets = raw_datasets.map(preprocess_function)"
   ]
  },
  {
   "cell_type": "code",
   "execution_count": 24,
   "id": "55924d08-3b97-448e-8032-242515e354ff",
   "metadata": {},
   "outputs": [],
   "source": [
    "tokenizer = AutoTokenizer.from_pretrained(\"meta-llama/Llama-3.2-1B\")\n",
    "tokenizer.pad_token = tokenizer.eos_token\n",
    "model = AutoModelForCausalLM.from_pretrained(\"meta-llama/Llama-3.2-1B\")"
   ]
  },
  {
   "cell_type": "code",
   "execution_count": 25,
   "id": "3926d6a9-6d10-4e66-a8c4-22dfe2cf854f",
   "metadata": {},
   "outputs": [],
   "source": [
    "# 데이터 포맷 변환 함수\n",
    "def format_llama_prompt(example):\n",
    "    prompt = f\"### 질문: {example['instruction']}\\n### 답변: {example['output']}\"\n",
    "    return {\"text\": prompt}\n",
    "\n",
    "# 토크나이징 함수\n",
    "def tokenize_function(examples):\n",
    "    tokenized = tokenizer(\n",
    "        examples[\"text\"],\n",
    "        padding=\"max_length\",\n",
    "        truncation=True,\n",
    "        max_length=80\n",
    "        # max_length=128\n",
    "    )\n",
    "    tokenized[\"labels\"] = [\n",
    "        [(label if label != tokenizer.pad_token_id else -100) for label in input_ids]\n",
    "        for input_ids in tokenized[\"input_ids\"]\n",
    "    ]\n",
    "    return tokenized"
   ]
  },
  {
   "cell_type": "code",
   "execution_count": 26,
   "id": "22ff55b7-e4d0-4f9f-a9ad-7920fa1eb1fc",
   "metadata": {},
   "outputs": [],
   "source": [
    "from sklearn.metrics import accuracy_score\n",
    "\n",
    "def compute_metrics(eval_preds):\n",
    "    predictions, labels = eval_preds\n",
    "\n",
    "    if isinstance(predictions, tuple):\n",
    "        predictions = predictions[0]\n",
    "\n",
    "    preds = predictions.argmax(axis=-1) if predictions.ndim == 3 else predictions\n",
    "    preds = preds.tolist()\n",
    "    labels = labels.tolist()\n",
    "\n",
    "    # -100 제거\n",
    "    labels = [[token for token in label if token != -100] for label in labels]\n",
    "\n",
    "    # 디코딩\n",
    "    decoded_preds = tokenizer.batch_decode(preds, skip_special_tokens=True)\n",
    "    decoded_labels = tokenizer.batch_decode(labels, skip_special_tokens=True)\n",
    "\n",
    "    decoded_preds = [p.strip() for p in decoded_preds]\n",
    "    decoded_labels = [l.strip() for l in decoded_labels]\n",
    "\n",
    "    # 부분 일치 평가 (예: 쇼핑 vs 쇼핑입니다)\n",
    "    correct = sum(\n",
    "        any(label in pred for label in label_list) and true in pred\n",
    "        for pred, true in zip(decoded_preds, decoded_labels)\n",
    "    )\n",
    "    total = len(decoded_labels)\n",
    "\n",
    "    print(\"decoded_preds\", decoded_preds)\n",
    "    print(\"decoded_labels\", decoded_labels)\n",
    "\n",
    "    return {\n",
    "        \"accuracy\": correct / total if total > 0 else 0.0\n",
    "    }"
   ]
  },
  {
   "cell_type": "code",
   "execution_count": 27,
   "id": "d9624b63-7a14-44be-9e71-7c281aef657d",
   "metadata": {},
   "outputs": [
    {
     "data": {
      "application/vnd.jupyter.widget-view+json": {
       "model_id": "028d2eb7647d4ee7ae39a239092de8cf",
       "version_major": 2,
       "version_minor": 0
      },
      "text/plain": [
       "Map:   0%|          | 0/211 [00:00<?, ? examples/s]"
      ]
     },
     "metadata": {},
     "output_type": "display_data"
    },
    {
     "data": {
      "application/vnd.jupyter.widget-view+json": {
       "model_id": "672fb9fa89ca4147beafbefafacdcae7",
       "version_major": 2,
       "version_minor": 0
      },
      "text/plain": [
       "Map:   0%|          | 0/53 [00:00<?, ? examples/s]"
      ]
     },
     "metadata": {},
     "output_type": "display_data"
    }
   ],
   "source": [
    "tokenized_datasets = raw_datasets.map(\n",
    "    tokenize_function,\n",
    "    batched=True,\n",
    "    remove_columns=raw_datasets[\"train\"].column_names\n",
    ")"
   ]
  },
  {
   "cell_type": "code",
   "execution_count": 28,
   "id": "1831197a-a70e-4858-b9c4-a6c5771a9d43",
   "metadata": {},
   "outputs": [
    {
     "data": {
      "text/html": [
       "Finishing previous runs because reinit is set to 'default'."
      ],
      "text/plain": [
       "<IPython.core.display.HTML object>"
      ]
     },
     "metadata": {},
     "output_type": "display_data"
    },
    {
     "data": {
      "text/html": [],
      "text/plain": [
       "<IPython.core.display.HTML object>"
      ]
     },
     "metadata": {},
     "output_type": "display_data"
    },
    {
     "data": {
      "text/html": [
       " View run <strong style=\"color:#cdcd00\">sft</strong> at: <a href='https://wandb.ai/hongppa324-bizbee/CardList/runs/cz3ksvcr' target=\"_blank\">https://wandb.ai/hongppa324-bizbee/CardList/runs/cz3ksvcr</a><br> View project at: <a href='https://wandb.ai/hongppa324-bizbee/CardList' target=\"_blank\">https://wandb.ai/hongppa324-bizbee/CardList</a><br>Synced 5 W&B file(s), 0 media file(s), 0 artifact file(s) and 0 other file(s)"
      ],
      "text/plain": [
       "<IPython.core.display.HTML object>"
      ]
     },
     "metadata": {},
     "output_type": "display_data"
    },
    {
     "data": {
      "text/html": [
       "Find logs at: <code>./wandb/run-20250522_213601-cz3ksvcr/logs</code>"
      ],
      "text/plain": [
       "<IPython.core.display.HTML object>"
      ]
     },
     "metadata": {},
     "output_type": "display_data"
    },
    {
     "data": {
      "text/html": [
       "Tracking run with wandb version 0.19.11"
      ],
      "text/plain": [
       "<IPython.core.display.HTML object>"
      ]
     },
     "metadata": {},
     "output_type": "display_data"
    },
    {
     "data": {
      "text/html": [
       "Run data is saved locally in <code>/Users/seungchanhong/hhplus_week7/wandb/run-20250522_215100-o5n50e1p</code>"
      ],
      "text/plain": [
       "<IPython.core.display.HTML object>"
      ]
     },
     "metadata": {},
     "output_type": "display_data"
    },
    {
     "data": {
      "text/html": [
       "Syncing run <strong><a href='https://wandb.ai/hongppa324-bizbee/CardList/runs/o5n50e1p' target=\"_blank\">major-morning-36</a></strong> to <a href='https://wandb.ai/hongppa324-bizbee/CardList' target=\"_blank\">Weights & Biases</a> (<a href='https://wandb.me/developer-guide' target=\"_blank\">docs</a>)<br>"
      ],
      "text/plain": [
       "<IPython.core.display.HTML object>"
      ]
     },
     "metadata": {},
     "output_type": "display_data"
    },
    {
     "data": {
      "text/html": [
       " View project at <a href='https://wandb.ai/hongppa324-bizbee/CardList' target=\"_blank\">https://wandb.ai/hongppa324-bizbee/CardList</a>"
      ],
      "text/plain": [
       "<IPython.core.display.HTML object>"
      ]
     },
     "metadata": {},
     "output_type": "display_data"
    },
    {
     "data": {
      "text/html": [
       " View run at <a href='https://wandb.ai/hongppa324-bizbee/CardList/runs/o5n50e1p' target=\"_blank\">https://wandb.ai/hongppa324-bizbee/CardList/runs/o5n50e1p</a>"
      ],
      "text/plain": [
       "<IPython.core.display.HTML object>"
      ]
     },
     "metadata": {},
     "output_type": "display_data"
    }
   ],
   "source": [
    "import wandb\n",
    "\n",
    "wandb.init(project=\"CardList\")\n",
    "wandb.run.name = \"sft\""
   ]
  },
  {
   "cell_type": "code",
   "execution_count": 29,
   "id": "9b07a072-4246-4e15-b5d0-7cd0bdd58f6a",
   "metadata": {},
   "outputs": [],
   "source": [
    "from transformers import TrainingArguments, Trainer, default_data_collator\n",
    "\n",
    "training_args = TrainingArguments(\n",
    "    output_dir=\"./results\",\n",
    "    per_device_train_batch_size=1,\n",
    "    per_device_eval_batch_size=1,\n",
    "    num_train_epochs=3,\n",
    "    eval_strategy=\"epoch\",\n",
    "    save_strategy=\"epoch\",\n",
    "    logging_dir=\"./logs\",\n",
    "    logging_steps=10,\n",
    "    report_to=\"wandb\",\n",
    "    run_name=\"llama-finetune-1b\",\n",
    "    gradient_checkpointing=True,\n",
    "    use_cpu=True\n",
    ")"
   ]
  },
  {
   "cell_type": "code",
   "execution_count": 31,
   "id": "a7c2fa29-e1f8-4d8c-b2d2-5666ac701b92",
   "metadata": {},
   "outputs": [
    {
     "data": {
      "text/plain": [
       "device(type='cpu')"
      ]
     },
     "execution_count": 31,
     "metadata": {},
     "output_type": "execute_result"
    }
   ],
   "source": [
    "device"
   ]
  },
  {
   "cell_type": "code",
   "execution_count": 32,
   "id": "431f9e4e-94a0-4a2d-bb52-cc24d0832458",
   "metadata": {},
   "outputs": [
    {
     "name": "stderr",
     "output_type": "stream",
     "text": [
      "/var/folders/yz/dp_hy1vd5jj8pzrlts8w9z4m0000gn/T/ipykernel_34885/1686238893.py:1: FutureWarning: `tokenizer` is deprecated and will be removed in version 5.0.0 for `Trainer.__init__`. Use `processing_class` instead.\n",
      "  trainer = Trainer(\n",
      "`use_cache=True` is incompatible with gradient checkpointing. Setting `use_cache=False`.\n"
     ]
    },
    {
     "data": {
      "text/html": [
       "\n",
       "    <div>\n",
       "      \n",
       "      <progress value='633' max='633' style='width:300px; height:20px; vertical-align: middle;'></progress>\n",
       "      [633/633 3:06:01, Epoch 3/3]\n",
       "    </div>\n",
       "    <table border=\"1\" class=\"dataframe\">\n",
       "  <thead>\n",
       " <tr style=\"text-align: left;\">\n",
       "      <th>Epoch</th>\n",
       "      <th>Training Loss</th>\n",
       "      <th>Validation Loss</th>\n",
       "      <th>Accuracy</th>\n",
       "    </tr>\n",
       "  </thead>\n",
       "  <tbody>\n",
       "    <tr>\n",
       "      <td>1</td>\n",
       "      <td>1.611900</td>\n",
       "      <td>1.278851</td>\n",
       "      <td>0.000000</td>\n",
       "    </tr>\n",
       "    <tr>\n",
       "      <td>2</td>\n",
       "      <td>0.913900</td>\n",
       "      <td>1.365949</td>\n",
       "      <td>0.000000</td>\n",
       "    </tr>\n",
       "    <tr>\n",
       "      <td>3</td>\n",
       "      <td>0.523500</td>\n",
       "      <td>1.449974</td>\n",
       "      <td>0.000000</td>\n",
       "    </tr>\n",
       "  </tbody>\n",
       "</table><p>"
      ],
      "text/plain": [
       "<IPython.core.display.HTML object>"
      ]
     },
     "metadata": {},
     "output_type": "display_data"
    },
    {
     "name": "stdout",
     "output_type": "stream",
     "text": [
      "decoded_preds ['[INSTRUCTION] 다음 가맹점의 업종을 분류하세요.\\n[INPUT] 서울�\\n\\n대라멘식회사\\n[OUTPUT] 음지털\\n���������������������������������������������', '[INSTRUCTION] 다음 가맹점의 업종을 분류하세요.\\n[INPUT] 서울대\\n대\\n[OUTPUT] 음식회사���������������������������������������������������', '[INSTRUCTION] 다음 가맹점의 업종을 분류하세요.\\n[INPUT] 서울세이\\n\\n)\\n)\\n)\\n약초점점\\n리아\\n[OUTPUT] 쇼핑점�����������������������������������������', '[INSTRUCTION] 다음 가맹점의 업종을 분류하세요.\\n[INPUT] 서울\\n\\n)\\n)\\n세악\\n대점\\n[OUTPUT] 음핑점대��������������������������������������������', '[INSTRUCTION] 다음 가맹점의 업종을 분류하세요.\\n[INPUT] 서울마\\n라\\n[OUTPUT] 음식회사���������������������������������������������������', '[INSTRUCTION] 다음 가맹점의 업종을 분류하세요.\\n[INPUT] 서울이\\n[OUTPUT] 음식회사�����������������������������������������������������', '[INSTRUCTION] 다음 가맹점의 업종을 분류하세요.\\n[INPUT] 서울븐\\n\\n\\n�\\n대\\n점점국\\n[OUTPUT] 음핑점대�����������������������������������������', '[INSTRUCTION] 다음 가맹점의 업종을 분류하세요.\\n[INPUT] 서울대\\n\\n[OUTPUT] 음핑점����������������������������������������������������', '[INSTRUCTION] 다음 가맹점의 업종을 분류하세요.\\n[INPUT] 서울식회사\\n이스�\\n\\n\\n\\n\\n[OUTPUT] 음금����������������������������������������������', '[INSTRUCTION] 다음 가맹점의 업종을 분류하세요.\\n[INPUT] 서울븐\\n\\n리아\\n라연습국\\n[OUTPUT] 음락\\n대대������������������������������������������', '[INSTRUCTION] 다음 가맹점의 업종을 분류하세요.\\n[INPUT] 서울대국점\\n점미널점\\n[OUTPUT] 음식회사����������������������������������������������', '[INSTRUCTION] 다음 가맹점의 업종을 분류하세요.\\n[INPUT] 서울\\n대\\n점\\n점점\\n[OUTPUT] 음용품품����대�������������������������������������대���', '[INSTRUCTION] 다음 가맹점의 업종을 분류하세요.\\n[INPUT] 서울식회사\\n���\\n\\n\\n[OUTPUT] 카지털\\n���������������������������������������������', '[INSTRUCTION] 다음 가맹점의 업종을 분류하세요.\\n[INPUT] 서울��\\n\\n�피\\n대\\n[OUTPUT] 카페\\n���������������������������������������������', '[INSTRUCTION] 다음 가맹점의 업종을 분류하세요.\\n[INPUT] 서울대이\\n대대라\\n대\\n점\\n)\\n)\\n[OUTPUT] 음식회사������������������������������������������', '[INSTRUCTION] 다음 가맹점의 업종을 분류하세요.\\n[INPUT] 서울주식코거\\n금대\\n점\\n[OUTPUT] 음식회사���������������������������������������������', '[INSTRUCTION] 다음 가맹점의 업종을 분류하세요.\\n[INPUT] 서울대\\n회사\\n[OUTPUT] 음식회사���������������������������������������������������', '[INSTRUCTION] 다음 가맹점의 업종을 분류하세요.\\n[INPUT] 서울세이\\n\\n\\n초점설대\\n[OUTPUT] 음핑점���������������������������������������������', '[INSTRUCTION] 다음 가맹점의 업종을 분류하세요.\\n[INPUT] 서울식회사\\n포\\n대\\n[OUTPUT] 음식회사������������������������������������������������', '[INSTRUCTION] 다음 가맹점의 업종을 분류하세요.\\n[INPUT] 서울주)코\\n\\n이라\\n[OUTPUT] 음핑점대����������������������������������������������', '[INSTRUCTION] 다음 가맹점의 업종을 분류하세요.\\n[INPUT] 서울이이\\n�\\n주)\\n점점)\\n[OUTPUT] 음식회사���������������������������������������������', '[INSTRUCTION] 다음 가맹점의 업종을 분류하세요.\\n[INPUT] 서울설��\\n[OUTPUT] 음식회사����������������������������������������������������', '[INSTRUCTION] 다음 가맹점의 업종을 분류하세요.\\n[INPUT] 서울대점\\n�\\n대방구\\n점\\n[OUTPUT] 음식회사��������������������������������������������', '[INSTRUCTION] 다음 가맹점의 업종을 분류하세요.\\n[INPUT] 서울세\\n시드\\n주)\\n대대통방\\n[OUTPUT] 음식회사�������������������������������������������', '[INSTRUCTION] 다음 가맹점의 업종을 분류하세요.\\n[INPUT] 서울\\n대\\n거\\n\\n\\n공점\\n[OUTPUT] 음통공���������������������������������������������', '[INSTRUCTION] 다음 가맹점의 업종을 분류하세요.\\n[INPUT] 서울주)코리아\\n븐\\n대점점\\n\\n\\n[OUTPUT] 쇼핑점대����������������������������������������', '[INSTRUCTION] 다음 가맹점의 업종을 분류하세요.\\n[INPUT] 서울\\n\\n대\\n점\\n\\n[OUTPUT] 음식회사������������������������������������������������', '[INSTRUCTION] 다음 가맹점의 업종을 분류하세요.\\n[INPUT] 서울�컯\\n\\n대\\n\\n[OUTPUT] 음식회사���������대�������������������������������������', '[INSTRUCTION] 다음 가맹점의 업종을 분류하세요.\\n[INPUT] 서울대\\n\\n대\\n\\n\\n[OUTPUT] 음식회사������������������������������������������������', '[INSTRUCTION] 다음 가맹점의 업종을 분류하세요.\\n[INPUT] 서울국역[OUTPUT] 음식회사�����������������������������������������������������', '[INSTRUCTION] 다음 가맹점의 업종을 분류하세요.\\n[INPUT] 서울�\\n\\n\\n[OUTPUT] 음식회사���������������������������������������������������', '[INSTRUCTION] 다음 가맹점의 업종을 분류하세요.\\n[INPUT] 서울\\n\\n대대국\\n[OUTPUT] 음식회사�������������������������������������������������', '[INSTRUCTION] 다음 가맹점의 업종을 분류하세요.\\n[INPUT] 서울주)코\\n\\n\\n[OUTPUT] 음금��������������������������������������������������', '[INSTRUCTION] 다음 가맹점의 업종을 분류하세요.\\n[INPUT] 서울이\\n점대\\n점점\\n[OUTPUT] 음식회사�����������������������������������������������', '[INSTRUCTION] 다음 가맹점의 업종을 분류하세요.\\n[INPUT] 서울페\\n국역[OUTPUT] 음식회사���������������������������������������������������', '[INSTRUCTION] 다음 가맹점의 업종을 분류하세요.\\n[INPUT] 서울악\\n\\n국[OUTPUT] 음금����������������������������������������������������', '[INSTRUCTION] 다음 가맹점의 업종을 분류하세요.\\n[INPUT] 서울����\\n[OUTPUT] 음핑점대�������������������������������������������������', '[INSTRUCTION] 다음 가맹점의 업종을 분류하세요.\\n[INPUT] 서울주)디\\n\\n\\n\\n\\n\\n\\n[OUTPUT] 음핑점���������������������������������������������', '[INSTRUCTION] 다음 가맹점의 업종을 분류하세요.\\n[INPUT] 서울대\\n시회사\\n대점\\n[OUTPUT] 음식회사�����������������������������������������������', '[INSTRUCTION] 다음 가맹점의 업종을 분류하세요.\\n[INPUT] 서울����\\n주��)\\n[OUTPUT] 음핑점대���������������������������������������������', '[INSTRUCTION] 다음 가맹점의 업종을 분류하세요.\\n[INPUT] 서울대\\n\\n[OUTPUT] 음식회사����������������������������������������������������', '[INSTRUCTION] 다음 가맹점의 업종을 분류하세요.\\n[INPUT] 서울설\\n[OUTPUT] 음식회사�����������������������������������������������������', '[INSTRUCTION] 다음 가맹점의 업종을 분류하세요.\\n[INPUT] 서울\\n\\n악\\n�\\n\\n\\n[OUTPUT] 쇼핑점�����������������������������������������������', '[INSTRUCTION] 다음 가맹점의 업종을 분류하세요.\\n[INPUT] 서울\\n방\\n\\n�\\n\\n[OUTPUT] 음식회사������������������������������������������������', '[INSTRUCTION] 다음 가맹점의 업종을 분류하세요.\\n[INPUT] 서울대\\n�\\n[OUTPUT] 음식회사���������������������������������������������������', '[INSTRUCTION] 다음 가맹점의 업종을 분류하세요.\\n[INPUT] 서울대\\n\\n[OUTPUT] 음식회사����������������������������������������������������', '[INSTRUCTION] 다음 가맹점의 업종을 분류하세요.\\n[INPUT] 서울�\\n라[OUTPUT] 음지털\\n���������������������������������������������������', '[INSTRUCTION] 다음 가맹점의 업종을 분류하세요.\\n[INPUT] 서울래이이[OUTPUT] 음식회사����������������������������������������������������', '[INSTRUCTION] 다음 가맹점의 업종을 분류하세요.\\n[INPUT] 서울대\\n\\n[OUTPUT] 음식회사����������������������������������������������������', '[INSTRUCTION] 다음 가맹점의 업종을 분류하세요.\\n[INPUT] 서울대국대국\\n주대방역)\\n[OUTPUT] 음식회사���������������������������������������������', '[INSTRUCTION] 다음 가맹점의 업종을 분류하세요.\\n[INPUT] 서울��\\n[OUTPUT] 음식회사����������������������������������������������������', '[INSTRUCTION] 다음 가맹점의 업종을 분류하세요.\\n[INPUT] 서울주)코\\n이스라\\n리아\\n\\n\\n대점점[OUTPUT] 음식회사�����������������������������������������', '[INSTRUCTION] 다음 가맹점의 업종을 분류하세요.\\n[INPUT] 서울\\n\\n�팼\\n\\n악\\n대점\\n[OUTPUT] 카용품품������������������������������������������']\n",
      "decoded_labels ['[INSTRUCTION] 다음 가맹점의 업종을 분류하세요.\\n[INPUT] 나이스인프라 주식회사\\n[OUTPUT] 디지털', '[INSTRUCTION] 다음 가맹점의 업종을 분류하세요.\\n[INPUT] 고기반장\\n[OUTPUT] 음식', '[INSTRUCTION] 다음 가맹점의 업종을 분류하세요.\\n[INPUT] 지에스25(GS25) 서초모나코점\\n[OUTPUT] 쇼핑', '[INSTRUCTION] 다음 가맹점의 업종을 분류하세요.\\n[INPUT] 씨유(CU) 관악신사점\\n[OUTPUT] 쇼핑', '[INSTRUCTION] 다음 가맹점의 업종을 분류하세요.\\n[INPUT] 포크포크\\n[OUTPUT] 음식', '[INSTRUCTION] 다음 가맹점의 업종을 분류하세요.\\n[INPUT] 채향\\n[OUTPUT] 음식', '[INSTRUCTION] 다음 가맹점의 업종을 분류하세요.\\n[INPUT] 세븐일레븐 대전가양행복점\\n[OUTPUT] 쇼핑', '[INSTRUCTION] 다음 가맹점의 업종을 분류하세요.\\n[INPUT] 백패커\\n[OUTPUT] 쇼핑', '[INSTRUCTION] 다음 가맹점의 업종을 분류하세요.\\n[INPUT] 주식회사 에스씨케이컴퍼니\\n[OUTPUT] 기타', '[INSTRUCTION] 다음 가맹점의 업종을 분류하세요.\\n[INPUT] 세븐스타 코인노래연습장\\n[OUTPUT] 오락', '[INSTRUCTION] 다음 가맹점의 업종을 분류하세요.\\n[INPUT] 순대실록남부터미널점\\n[OUTPUT] 음식', '[INSTRUCTION] 다음 가맹점의 업종을 분류하세요.\\n[INPUT] CU 건대상허도서관점\\n[OUTPUT] 생활용품', '[INSTRUCTION] 다음 가맹점의 업종을 분류하세요.\\n[INPUT] 주식회사 유피소프트\\n[OUTPUT] 디지털', '[INSTRUCTION] 다음 가맹점의 업종을 분류하세요.\\n[INPUT] 고품격 커피공장\\n[OUTPUT] 카페', '[INSTRUCTION] 다음 가맹점의 업종을 분류하세요.\\n[INPUT] 호파스타생면파스타건대본점(HO\\n[OUTPUT] 음식', '[INSTRUCTION] 다음 가맹점의 업종을 분류하세요.\\n[INPUT] ( 주)버거요강남본점\\n[OUTPUT] 음식', '[INSTRUCTION] 다음 가맹점의 업종을 분류하세요.\\n[INPUT] 우성식당\\n[OUTPUT] 음식', '[INSTRUCTION] 다음 가맹점의 업종을 분류하세요.\\n[INPUT] 지에스GS25 서초한신점\\n[OUTPUT] 쇼핑', '[INSTRUCTION] 다음 가맹점의 업종을 분류하세요.\\n[INPUT] 주식회사 함흥면옥\\n[OUTPUT] 음식', '[INSTRUCTION] 다음 가맹점의 업종을 분류하세요.\\n[INPUT] (주)지오다노 강남\\n[OUTPUT] 쇼핑', '[INSTRUCTION] 다음 가맹점의 업종을 분류하세요.\\n[INPUT] 싸다김밥(서초역점)\\n[OUTPUT] 음식', '[INSTRUCTION] 다음 가맹점의 업종을 분류하세요.\\n[INPUT] 시옌\\n[OUTPUT] 음식', '[INSTRUCTION] 다음 가맹점의 업종을 분류하세요.\\n[INPUT] 육전국밥 서울대입구역점\\n[OUTPUT] 음식', '[INSTRUCTION] 다음 가맹점의 업종을 분류하세요.\\n[INPUT] 한국맥도날드(유) 서울교대점\\n[OUTPUT] 음식', '[INSTRUCTION] 다음 가맹점의 업종을 분류하세요.\\n[INPUT] 전국고속버스운송사업조합\\n[OUTPUT] 교통', '[INSTRUCTION] 다음 가맹점의 업종을 분류하세요.\\n[INPUT] (주)코리아세븐 신림고시촌점\\n[OUTPUT] 쇼핑', '[INSTRUCTION] 다음 가맹점의 업종을 분류하세요.\\n[INPUT] 씨유 신림동희점\\n[OUTPUT] 음식', '[INSTRUCTION] 다음 가맹점의 업종을 분류하세요.\\n[INPUT] 벨렘351 건대점\\n[OUTPUT] 음식', '[INSTRUCTION] 다음 가맹점의 업종을 분류하세요.\\n[INPUT] 현이네 고기국수\\n[OUTPUT] 음식', '[INSTRUCTION] 다음 가맹점의 업종을 분류하세요.\\n[INPUT] 사랑방\\n[OUTPUT] 음식', '[INSTRUCTION] 다음 가맹점의 업종을 분류하세요.\\n[INPUT] 린스시\\n[OUTPUT] 음식', '[INSTRUCTION] 다음 가맹점의 업종을 분류하세요.\\n[INPUT] 맛좋은순대국\\n[OUTPUT] 음식', '[INSTRUCTION] 다음 가맹점의 업종을 분류하세요.\\n[INPUT] (주)어비즈\\n[OUTPUT] 기타', '[INSTRUCTION] 다음 가맹점의 업종을 분류하세요.\\n[INPUT] 동래정 선릉직영점\\n[OUTPUT] 음식', '[INSTRUCTION] 다음 가맹점의 업종을 분류하세요.\\n[INPUT] 카츠공방\\n[OUTPUT] 음식', '[INSTRUCTION] 다음 가맹점의 업종을 분류하세요.\\n[INPUT] 관악구청\\n[OUTPUT] 기타', '[INSTRUCTION] 다음 가맹점의 업종을 분류하세요.\\n[INPUT] 쿠팡\\n[OUTPUT] 쇼핑', '[INSTRUCTION] 다음 가맹점의 업종을 분류하세요.\\n[INPUT] (주)이랜드월드패션 강남2\\n[OUTPUT] 쇼핑', '[INSTRUCTION] 다음 가맹점의 업종을 분류하세요.\\n[INPUT] 평안도식당 신림점\\n[OUTPUT] 음식', '[INSTRUCTION] 다음 가맹점의 업종을 분류하세요.\\n[INPUT] 쿠팡(쿠페이)\\n[OUTPUT] 쇼핑', '[INSTRUCTION] 다음 가맹점의 업종을 분류하세요.\\n[INPUT] 정자네\\n[OUTPUT] 음식', '[INSTRUCTION] 다음 가맹점의 업종을 분류하세요.\\n[INPUT] 한송\\n[OUTPUT] 음식', '[INSTRUCTION] 다음 가맹점의 업종을 분류하세요.\\n[INPUT] GS25 관악녹두점\\n[OUTPUT] 쇼핑', '[INSTRUCTION] 다음 가맹점의 업종을 분류하세요.\\n[INPUT] 삼대나주곰탕\\n[OUTPUT] 음식', '[INSTRUCTION] 다음 가맹점의 업종을 분류하세요.\\n[INPUT] 홍루몽\\n[OUTPUT] 음식', '[INSTRUCTION] 다음 가맹점의 업종을 분류하세요.\\n[INPUT] 봉산옥\\n[OUTPUT] 음식', '[INSTRUCTION] 다음 가맹점의 업종을 분류하세요.\\n[INPUT] 페이플\\n[OUTPUT] 디지털', '[INSTRUCTION] 다음 가맹점의 업종을 분류하세요.\\n[INPUT] 노다메\\n[OUTPUT] 음식', '[INSTRUCTION] 다음 가맹점의 업종을 분류하세요.\\n[INPUT] 심가네\\n[OUTPUT] 음식', '[INSTRUCTION] 다음 가맹점의 업종을 분류하세요.\\n[INPUT] 계경순대국(신대방점)\\n[OUTPUT] 음식', '[INSTRUCTION] 다음 가맹점의 업종을 분류하세요.\\n[INPUT] 멘쇼\\n[OUTPUT] 음식', '[INSTRUCTION] 다음 가맹점의 업종을 분류하세요.\\n[INPUT] (주)케이에프씨코리아 KFC강남역\\n[OUTPUT] 음식', '[INSTRUCTION] 다음 가맹점의 업종을 분류하세요.\\n[INPUT] 크린토피아 관악신사점\\n[OUTPUT] 생활용품']\n",
      "decoded_preds ['[INSTRUCTION] 다음 가맹점의 업종을 분류하세요.\\n[INPUT] (�브파터라퍼식회사\\n[OUTPUT] 디지털점���������������지��������지������������������지�', '[INSTRUCTION] 다음 가맹점의 업종을 분류하세요.\\n[INPUT] (벤트코찬\\n[OUTPUT] 음식당���������������������������������������������������', '[INSTRUCTION] 다음 가맹점의 업종을 분류하세요.\\n[INPUT] (세프프신PTPT신신초점빌스리아\\n[OUTPUT] 디핑핑������지지�����������������지���������������', '[INSTRUCTION] 다음 가맹점의 업종을 분류하세요.\\n[INPUT] (알원.r 서코악건림장\\n[OUTPUT] 쇼핑핑���������지�����������������������������������', '[INSTRUCTION] 다음 가맹점의 업종을 분류하세요.\\n[INPUT] (마\\n도점[OUTPUT] 음식당����������지������포���������������������������������', '[INSTRUCTION] 다음 가맹점의 업종을 분류하세요.\\n[INPUT] (브\\n[OUTPUT] 음식당�����������������������������������������������������', '[INSTRUCTION] 다음 가맹점의 업종을 분류하세요.\\n[INPUT] (븐일레븐 서로드네점약약\\n[OUTPUT] 음핑핑��지지������포����������지������������������지�', '[INSTRUCTION] 다음 가맹점의 업종을 분류하세요.\\n[INPUT] (암타리아[OUTPUT] 음핑핑���������지������������������������������������������', '[INSTRUCTION] 다음 가맹점의 업종을 분류하세요.\\n[INPUT] (식회사 한프프�알포즈스[OUTPUT] 디핑����������포포지지�����지����������지지������������지�', '[INSTRUCTION] 다음 가맹점의 업종을 분류하세요.\\n[INPUT] (븐일이리아코래연카장\\n[OUTPUT] 오락타��������������������������������������������', '[INSTRUCTION] 다음 가맹점의 업종을 분류하세요.\\n[INPUT] (대\\n점점부터미널점\\n[OUTPUT] 음식당����������������������������������������������', '[INSTRUCTION] 다음 가맹점의 업종을 분류하세요.\\n[INPUT] ( 서대점보험\\n날점\\n[OUTPUT] 쇼용품격����대지������������������������������������대지��', '[INSTRUCTION] 다음 가맹점의 업종을 분류하세요.\\n[INPUT] (식회사 한���브문점[OUTPUT] 카지털점���������지지����지�������������지���������������', '[INSTRUCTION] 다음 가맹점의 업종을 분류하세요.\\n[INPUT] (��아커피브유점[OUTPUT] 카페타�����지����지포������������지�����지��������������', '[INSTRUCTION] 다음 가맹점의 업종을 분류하세요.\\n[INPUT] (남크타대본크타대점점\\nOY[OUTPUT] 음식당��������������지���������������������������', '[INSTRUCTION] 다음 가맹점의 업종을 분류하세요.\\n[INPUT] (주)코스운금점부점\\n[OUTPUT] 음식당����������지����������������������������������', '[INSTRUCTION] 다음 가맹점의 업종을 분류하세요.\\n[INPUT] (먼타당\\n[OUTPUT] 음식당����������지������������������지������������������지��', '[INSTRUCTION] 다음 가맹점의 업종을 분류하세요.\\n[INPUT] (세프프25신초점설림\\n[OUTPUT] 음핑핑�������지지������������������������������������', '[INSTRUCTION] 다음 가맹점의 업종을 분류하세요.\\n[INPUT] (식회사 한포해본\\n[OUTPUT] 음식당�������포포�������������������������������������포�', '[INSTRUCTION] 다음 가맹점의 업종을 분류하세요.\\n[INPUT] (주)코점차이래해[OUTPUT] 음핑핑�����������������������������������������������', '[INSTRUCTION] 다음 가맹점의 업종을 분류하세요.\\n[INPUT] (마이밥 건유초점점\\n[OUTPUT] 음식당��������지������������������������������������', '[INSTRUCTION] 다음 가맹점의 업종을 분류하세요.\\n[INPUT] (안�아[OUTPUT] 음식당����������������������������������������������������', '[INSTRUCTION] 다음 가맹점의 업종을 분류하세요.\\n[INPUT] (포당\\n� 건대벤구점점\\n[OUTPUT] 음식당�������지������������������������������������', '[INSTRUCTION] 다음 가맹점의 업종을 분류하세요.\\n[INPUT] (맥\\n날드(유) 서대대점\\n[OUTPUT] 음식당����������지��������������������������������', '[INSTRUCTION] 다음 가맹점의 업종을 분류하세요.\\n[INPUT] (당벤트약스\\n즈황점이점[OUTPUT] 음통원�����지지������지����������지������������������지�', '[INSTRUCTION] 다음 가맹점의 업종을 분류하세요.\\n[INPUT] (주)코리아세븐 서대점품설점\\n[OUTPUT] 쇼핑핑������지����������������������������������', '[INSTRUCTION] 다음 가맹점의 업종을 분류하세요.\\n[INPUT] (알원림점전약\\n[OUTPUT] 쇼식당�������지�������������������������������������지��', '[INSTRUCTION] 다음 가맹점의 업종을 분류하세요.\\n[INPUT] (�인카�지약대점\\n[OUTPUT] 음식당���������대�������������������������������������', '[INSTRUCTION] 다음 가맹점의 업종을 분류하세요.\\n[INPUT] (해마트마벤트라\\n\\n[OUTPUT] 음식당������������������������������������������������', '[INSTRUCTION] 다음 가맹점의 업종을 분류하세요.\\n[INPUT] (약이[OUTPUT] 음식당�����������������������������������������������������', '[INSTRUCTION] 다음 가맹점의 업종을 분류하세요.\\n[INPUT] (� 버파설[OUTPUT] 음식당���������������������������������������������������', '[INSTRUCTION] 다음 가맹점의 업종을 분류하세요.\\n[INPUT] (마아아대\\n\\n[OUTPUT] 음식당�������������������������������������������������', '[INSTRUCTION] 다음 가맹점의 업종을 분류하세요.\\n[INPUT] (주)코때바�[OUTPUT] 기타핑����������지�������������������������������������지�', '[INSTRUCTION] 다음 가맹점의 업종을 분류하세요.\\n[INPUT] (우연점릉점점점\\n[OUTPUT] 음식당�����������������������������������������������', '[INSTRUCTION] 다음 가맹점의 업종을 분류하세요.\\n[INPUT] (페아단점[OUTPUT] 음식당����������포지지������������������지�����������������지지', '[INSTRUCTION] 다음 가맹점의 업종을 분류하세요.\\n[INPUT] (악건점약[OUTPUT] 음락����������������������������������������������������', '[INSTRUCTION] 다음 가맹점의 업종을 분류하세요.\\n[INPUT] (�����이[OUTPUT] 음핑핑���지지지�����지�지��지지����지������지지�����지����지��������', '[INSTRUCTION] 다음 가맹점의 업종을 분류하세요.\\n[INPUT] (주)마트버당(크점해지[OUTPUT] 음핑핑�����지���������������������������������������', '[INSTRUCTION] 다음 가맹점의 업종을 분류하세요.\\n[INPUT] (마약날당\\n림점\\n[OUTPUT] 음식당���������지�������������������������������������', '[INSTRUCTION] 다음 가맹점의 업종을 분류하세요.\\n[INPUT] (�����이유��)\\n[OUTPUT] 디핑핑�������������������������지지�����지�������������', '[INSTRUCTION] 다음 가맹점의 업종을 분류하세요.\\n[INPUT] (원아김[OUTPUT] 음식당����������������������������������������������������', '[INSTRUCTION] 다음 가맹점의 업종을 분류하세요.\\n[INPUT] (설황[OUTPUT] 음식당�����������������������������������������������������', '[INSTRUCTION] 다음 가맹점의 업종을 분류하세요.\\n[INPUT] (25신악건�브�\\n[OUTPUT] 음핑핑�����������������������������������������������', '[INSTRUCTION] 다음 가맹점의 업종을 분류하세요.\\n[INPUT] (마벤카식�브\\n[OUTPUT] 음식당������������������������������������������������', '[INSTRUCTION] 다음 가맹점의 업종을 분류하세요.\\n[INPUT] (등점�브[OUTPUT] 음식당���������������������������������������������������', '[INSTRUCTION] 다음 가맹점의 업종을 분류하세요.\\n[INPUT] (포농\\n[OUTPUT] 음식당����������������������������������������������������', '[INSTRUCTION] 다음 가맹점의 업종을 분류하세요.\\n[INPUT] (�카러스[OUTPUT] 디지털털����지�����지지���지�������지�����지지�����������������지지�', '[INSTRUCTION] 다음 가맹점의 업종을 분류하세요.\\n[INPUT] (브라버[OUTPUT] 음식당�����������지지���������������������������������������', '[INSTRUCTION] 다음 가맹점의 업종을 분류하세요.\\n[INPUT] (마네김[OUTPUT] 음식당����������������������������������������������������', '[INSTRUCTION] 다음 가맹점의 업종을 분류하세요.\\n[INPUT] (세축대\\n\\n유림방점\\n[OUTPUT] 음식당���������������������������������������������', '[INSTRUCTION] 다음 가맹점의 업종을 분류하세요.\\n[INPUT] (�버군[OUTPUT] 음식당����������������������������������������������������', '[INSTRUCTION] 다음 가맹점의 업종을 분류하세요.\\n[INPUT] (주)코알프이지�리아세페리아점점점[OUTPUT] 쇼식당���지지������������������������������������', '[INSTRUCTION] 다음 가맹점의 업종을 분류하세요.\\n[INPUT] (페슈���\\n시아악건림점\\n[OUTPUT] 카용품격��������지���������������������������������']\n",
      "decoded_labels ['[INSTRUCTION] 다음 가맹점의 업종을 분류하세요.\\n[INPUT] 나이스인프라 주식회사\\n[OUTPUT] 디지털', '[INSTRUCTION] 다음 가맹점의 업종을 분류하세요.\\n[INPUT] 고기반장\\n[OUTPUT] 음식', '[INSTRUCTION] 다음 가맹점의 업종을 분류하세요.\\n[INPUT] 지에스25(GS25) 서초모나코점\\n[OUTPUT] 쇼핑', '[INSTRUCTION] 다음 가맹점의 업종을 분류하세요.\\n[INPUT] 씨유(CU) 관악신사점\\n[OUTPUT] 쇼핑', '[INSTRUCTION] 다음 가맹점의 업종을 분류하세요.\\n[INPUT] 포크포크\\n[OUTPUT] 음식', '[INSTRUCTION] 다음 가맹점의 업종을 분류하세요.\\n[INPUT] 채향\\n[OUTPUT] 음식', '[INSTRUCTION] 다음 가맹점의 업종을 분류하세요.\\n[INPUT] 세븐일레븐 대전가양행복점\\n[OUTPUT] 쇼핑', '[INSTRUCTION] 다음 가맹점의 업종을 분류하세요.\\n[INPUT] 백패커\\n[OUTPUT] 쇼핑', '[INSTRUCTION] 다음 가맹점의 업종을 분류하세요.\\n[INPUT] 주식회사 에스씨케이컴퍼니\\n[OUTPUT] 기타', '[INSTRUCTION] 다음 가맹점의 업종을 분류하세요.\\n[INPUT] 세븐스타 코인노래연습장\\n[OUTPUT] 오락', '[INSTRUCTION] 다음 가맹점의 업종을 분류하세요.\\n[INPUT] 순대실록남부터미널점\\n[OUTPUT] 음식', '[INSTRUCTION] 다음 가맹점의 업종을 분류하세요.\\n[INPUT] CU 건대상허도서관점\\n[OUTPUT] 생활용품', '[INSTRUCTION] 다음 가맹점의 업종을 분류하세요.\\n[INPUT] 주식회사 유피소프트\\n[OUTPUT] 디지털', '[INSTRUCTION] 다음 가맹점의 업종을 분류하세요.\\n[INPUT] 고품격 커피공장\\n[OUTPUT] 카페', '[INSTRUCTION] 다음 가맹점의 업종을 분류하세요.\\n[INPUT] 호파스타생면파스타건대본점(HO\\n[OUTPUT] 음식', '[INSTRUCTION] 다음 가맹점의 업종을 분류하세요.\\n[INPUT] ( 주)버거요강남본점\\n[OUTPUT] 음식', '[INSTRUCTION] 다음 가맹점의 업종을 분류하세요.\\n[INPUT] 우성식당\\n[OUTPUT] 음식', '[INSTRUCTION] 다음 가맹점의 업종을 분류하세요.\\n[INPUT] 지에스GS25 서초한신점\\n[OUTPUT] 쇼핑', '[INSTRUCTION] 다음 가맹점의 업종을 분류하세요.\\n[INPUT] 주식회사 함흥면옥\\n[OUTPUT] 음식', '[INSTRUCTION] 다음 가맹점의 업종을 분류하세요.\\n[INPUT] (주)지오다노 강남\\n[OUTPUT] 쇼핑', '[INSTRUCTION] 다음 가맹점의 업종을 분류하세요.\\n[INPUT] 싸다김밥(서초역점)\\n[OUTPUT] 음식', '[INSTRUCTION] 다음 가맹점의 업종을 분류하세요.\\n[INPUT] 시옌\\n[OUTPUT] 음식', '[INSTRUCTION] 다음 가맹점의 업종을 분류하세요.\\n[INPUT] 육전국밥 서울대입구역점\\n[OUTPUT] 음식', '[INSTRUCTION] 다음 가맹점의 업종을 분류하세요.\\n[INPUT] 한국맥도날드(유) 서울교대점\\n[OUTPUT] 음식', '[INSTRUCTION] 다음 가맹점의 업종을 분류하세요.\\n[INPUT] 전국고속버스운송사업조합\\n[OUTPUT] 교통', '[INSTRUCTION] 다음 가맹점의 업종을 분류하세요.\\n[INPUT] (주)코리아세븐 신림고시촌점\\n[OUTPUT] 쇼핑', '[INSTRUCTION] 다음 가맹점의 업종을 분류하세요.\\n[INPUT] 씨유 신림동희점\\n[OUTPUT] 음식', '[INSTRUCTION] 다음 가맹점의 업종을 분류하세요.\\n[INPUT] 벨렘351 건대점\\n[OUTPUT] 음식', '[INSTRUCTION] 다음 가맹점의 업종을 분류하세요.\\n[INPUT] 현이네 고기국수\\n[OUTPUT] 음식', '[INSTRUCTION] 다음 가맹점의 업종을 분류하세요.\\n[INPUT] 사랑방\\n[OUTPUT] 음식', '[INSTRUCTION] 다음 가맹점의 업종을 분류하세요.\\n[INPUT] 린스시\\n[OUTPUT] 음식', '[INSTRUCTION] 다음 가맹점의 업종을 분류하세요.\\n[INPUT] 맛좋은순대국\\n[OUTPUT] 음식', '[INSTRUCTION] 다음 가맹점의 업종을 분류하세요.\\n[INPUT] (주)어비즈\\n[OUTPUT] 기타', '[INSTRUCTION] 다음 가맹점의 업종을 분류하세요.\\n[INPUT] 동래정 선릉직영점\\n[OUTPUT] 음식', '[INSTRUCTION] 다음 가맹점의 업종을 분류하세요.\\n[INPUT] 카츠공방\\n[OUTPUT] 음식', '[INSTRUCTION] 다음 가맹점의 업종을 분류하세요.\\n[INPUT] 관악구청\\n[OUTPUT] 기타', '[INSTRUCTION] 다음 가맹점의 업종을 분류하세요.\\n[INPUT] 쿠팡\\n[OUTPUT] 쇼핑', '[INSTRUCTION] 다음 가맹점의 업종을 분류하세요.\\n[INPUT] (주)이랜드월드패션 강남2\\n[OUTPUT] 쇼핑', '[INSTRUCTION] 다음 가맹점의 업종을 분류하세요.\\n[INPUT] 평안도식당 신림점\\n[OUTPUT] 음식', '[INSTRUCTION] 다음 가맹점의 업종을 분류하세요.\\n[INPUT] 쿠팡(쿠페이)\\n[OUTPUT] 쇼핑', '[INSTRUCTION] 다음 가맹점의 업종을 분류하세요.\\n[INPUT] 정자네\\n[OUTPUT] 음식', '[INSTRUCTION] 다음 가맹점의 업종을 분류하세요.\\n[INPUT] 한송\\n[OUTPUT] 음식', '[INSTRUCTION] 다음 가맹점의 업종을 분류하세요.\\n[INPUT] GS25 관악녹두점\\n[OUTPUT] 쇼핑', '[INSTRUCTION] 다음 가맹점의 업종을 분류하세요.\\n[INPUT] 삼대나주곰탕\\n[OUTPUT] 음식', '[INSTRUCTION] 다음 가맹점의 업종을 분류하세요.\\n[INPUT] 홍루몽\\n[OUTPUT] 음식', '[INSTRUCTION] 다음 가맹점의 업종을 분류하세요.\\n[INPUT] 봉산옥\\n[OUTPUT] 음식', '[INSTRUCTION] 다음 가맹점의 업종을 분류하세요.\\n[INPUT] 페이플\\n[OUTPUT] 디지털', '[INSTRUCTION] 다음 가맹점의 업종을 분류하세요.\\n[INPUT] 노다메\\n[OUTPUT] 음식', '[INSTRUCTION] 다음 가맹점의 업종을 분류하세요.\\n[INPUT] 심가네\\n[OUTPUT] 음식', '[INSTRUCTION] 다음 가맹점의 업종을 분류하세요.\\n[INPUT] 계경순대국(신대방점)\\n[OUTPUT] 음식', '[INSTRUCTION] 다음 가맹점의 업종을 분류하세요.\\n[INPUT] 멘쇼\\n[OUTPUT] 음식', '[INSTRUCTION] 다음 가맹점의 업종을 분류하세요.\\n[INPUT] (주)케이에프씨코리아 KFC강남역\\n[OUTPUT] 음식', '[INSTRUCTION] 다음 가맹점의 업종을 분류하세요.\\n[INPUT] 크린토피아 관악신사점\\n[OUTPUT] 생활용품']\n",
      "decoded_preds ['[INSTRUCTION] 다음 가맹점의 업종을 분류하세요.\\n[INPUT] 주��버주레스자식회사\\n[OUTPUT] 음지털털을드드지프지프포유을지프프지지지지포포포지�지지지지포지을�포포지지지지포포포���지지지', '[INSTRUCTION] 다음 가맹점의 업종을 분류하세요.\\n[INPUT] 주벤트�찬\\n[OUTPUT] 음식당을지프포포포지비�포포을지지프포포포포지지지지포포포포�포지지지지�포지포포지지지지지지지���지 건지', '[INSTRUCTION] 다음 가맹점의 업종을 분류하세요.\\n[INPUT] 주세프� 와)-25)\\n 신초점빌스리아\\n[OUTPUT] 쇼핑핑&지지지지지지지지지지지지지지지지지지지지지지지지지지지지지지지지지지지지지지지지', '[INSTRUCTION] 다음 가맹점의 업종을 분류하세요.\\n[INPUT] 주유서.r+ 서악점림시\\n[OUTPUT] 쇼핑핑을신비지지지포포지지지지포지지지지지지지지지지지지지지지지지지포지지지지지지지유유지지지지', '[INSTRUCTION] 다음 가맹점의 업종을 분류하세요.\\n[INPUT] 주마토도\\n[OUTPUT] 음식당을포포포포포포포포포포지지�포포포포포포포지포포포지포포포포지지지신포포포포포지지지지포지포포포포지지', '[INSTRUCTION] 다음 가맹점의 업종을 분류하세요.\\n[INPUT] 주프\\n[OUTPUT] 음식당을지지지지지지지포프프지지지지포포지지지지지지지지지지포지지지지지지지지지지지포포지지지지지지프프지지지지', '[INSTRUCTION] 다음 가맹점의 업종을 분류하세요.\\n[INPUT] 주븐일레븐 신로드네감\\n국\\n[OUTPUT] 쇼핑핑을을프프포포지지포포포지지지지지지지지포포지프포포지지포포포지지지지지지���포지프', '[INSTRUCTION] 다음 가맹점의 업종을 분류하세요.\\n[INPUT] 주암타 건[OUTPUT] 쇼핑핑을을포프지지포포포포포��지지지지지포포포지지지지지지지지포��지지��지포포포지지지지지지지트포���', '[INSTRUCTION] 다음 가맹점의 업종을 분류하세요.\\n[INPUT] 주식회사 한프프유알포블\\n[OUTPUT] 쇼핑을지지지지프프프프지포포지지지지지지지지지지지지지프프지지포지지지지지지포지지지지지지지프프', '[INSTRUCTION] 다음 가맹점의 업종을 분류하세요.\\n[INPUT] 주븐일이� 신래연습장\\n[OUTPUT] 오락\\n을을을포포프지블지지지을포지지지지지지지지포포포지지지지지지포포지지지지지지���포포프', '[INSTRUCTION] 다음 가맹점의 업종을 분류하세요.\\n[INPUT] 주대\\n\\n\\n부미널점\\n[OUTPUT] 음식당을을대대지포포지블블포지포포포포포포지지포포포포포포지블포포지포포포지지지지�포포대지포�지', '[INSTRUCTION] 다음 가맹점의 업종을 분류하세요.\\n[INPUT] 주 서대점회\\n몰점\\n[OUTPUT] 쇼용품격 건지지포대대지\\n지지지지지지포포포포포지지지포지지지지지지지지지포포지지지지지지포포대지지지', '[INSTRUCTION] 다음 가맹점의 업종을 분류하세요.\\n[INPUT] 주식회사 한���\\n문이[OUTPUT] 카지털털 건지지지포포포 건지비지지지지지지지포포포지지지지포포지지지지지지지지지지포포포지지지지포포', '[INSTRUCTION] 다음 가맹점의 업종을 분류하세요.\\n[INPUT] 주��아커피\\n유\\n[OUTPUT] 카페타을지지지지지포포 건지포포지프프지지지포지지지지지지포포지지지지지지지지지지지지지��지지포', '[INSTRUCTION] 다음 가맹점의 업종을 분류하세요.\\n[INPUT] 주남도이대본크\\n대점점\\nOY[OUTPUT] 음식당을을을을지트포포포포포지지포지포포포포지포포지지지포포포포포지트지지포지포포포포을지', '[INSTRUCTION] 다음 가맹점의 업종을 분류하세요.\\n[INPUT] 주주)코거운금\\n부점\\n[OUTPUT] 음식당을지지지블블포을을지포지지프지지포포지지지지지포블포포신지지지포포지지지포지지지지지지블블', '[INSTRUCTION] 다음 가맹점의 업종을 분류하세요.\\n[INPUT] 주먼센당\\n[OUTPUT] 음식당을지지포포지지지비포지포포�지포포포지지지지지포지지지지포지포지지지포지포포지지지지지지지지지포지포포', '[INSTRUCTION] 다음 가맹점의 업종을 분류하세요.\\n[INPUT] 주세프�25\\n초점빛림\\n[OUTPUT] 쇼핑핑을을�프지포지지지지지지지포지지지지지지지지지지지지지지지지지포포지지지지지지지지지지지지', '[INSTRUCTION] 다음 가맹점의 업종을 분류하세요.\\n[INPUT] 주식회사 한포해본\\n[OUTPUT] 음식당을지�지지지포포포포지지지지포포포지지지지지지지지포포포포지지지지지포포지지지지지지지지지포포포', '[INSTRUCTION] 다음 가맹점의 업종을 분류하세요.\\n[INPUT] 주주)코세스크방래역[OUTPUT] 음핑핑을포포지지포포포지지지지포지지지지지지지지지지지지지포지지지지지지포포지지지지지지지지지포지지', '[INSTRUCTION] 다음 가맹점의 업종을 분류하세요.\\n[INPUT] 주토방밥\\n신초점점)\\n[OUTPUT] 음식당을비비지지지지비비비포포포지지지포포포지포포지지지지포비비지지포포지지지포지지비포지지지�', '[INSTRUCTION] 다음 가맹점의 업종을 분류하세요.\\n[INPUT] 주안��아[OUTPUT] 음식당지지지지포지지지지지지포포지지지포지지지지지지포포지지지지지포포지지지지지지지지지지포지지지지지지포지지', '[INSTRUCTION] 다음 가맹점의 업종을 분류하세요.\\n[INPUT] 주동면\\n� 건대벤구점점\\n[OUTPUT] 음식당을포지지지지�비프포포지지지지지포포지지지포지지지지비비지포포지지지지지지지포포포지지지', '[INSTRUCTION] 다음 가맹점의 업종을 분류하세요.\\n[INPUT] 주맥도날드(유) 서대통점\\n[OUTPUT] 음식당&�지지지지금��지지지지��지지지지지지지지지지��지지포지지�지지지지지��지지지', '[INSTRUCTION] 다음 가맹점의 업종을 분류하세요.\\n[INPUT] 주대학교품\\n거\\n즈황공이\\n[OUTPUT] 오통공지지지지지블지지신포이포지지지지포포포지지지지지지지지신포지지지지지지지지지지포포포지블지', '[INSTRUCTION] 다음 가맹점의 업종을 분류하세요.\\n[INPUT] 주주)코리아세븐 서울대본품설\\n\\n[OUTPUT] 쇼핑핑 신프프프을지지지포포지지포프프포지지지포프프프지지지지포포프지포지지지지지 건프프프', '[INSTRUCTION] 다음 가맹점의 업종을 분류하세요.\\n[INPUT] 주유서림본점동\\n[OUTPUT] 쇼식당을지지포유유지지지지포포포포포포포지지지지포포포프지지지포포포포지지포포지지지지포포유유지지지지', '[INSTRUCTION] 다음 가맹점의 업종을 분류하세요.\\n[INPUT] 주�인컙스터7대점\\n[OUTPUT] 음식당을 건프프프프포포�대지지지포포포포지지지지지지포포포지�지지지지지포포지지지지지지지포포지지�', '[INSTRUCTION] 다음 가맹점의 업종을 분류하세요.\\n[INPUT] 주동(김벤트\\n\\n\\n[OUTPUT] 음식당을지지포지지포포�포포\\n포포포포포포지지지포포포포포포��포포포지포포포지지지지포포지지포포�지', '[INSTRUCTION] 다음 가맹점의 업종을 분류하세요.\\n[INPUT] 주약 건[OUTPUT] 음식당을지지지지지지지포포포포 건지�프포지포포지지지지지지지지지지포지지�지�포지지포포지지지지지지포포포지��', '[INSTRUCTION] 다음 가맹점의 업종을 분류하세요.\\n[INPUT] 주�드리�스코[OUTPUT] 생활식당을지지지지지지지지지지지지지지포포지지지지지지지지지지지지지지지지비지지지지지지지지지지지지�지지지지', '[INSTRUCTION] 다음 가맹점의 업종을 분류하세요.\\n[INPUT] 주난이\\n대\\n\\n[OUTPUT] 음식당을을�포포포포포포대지포포포포포포포지지지지포포포포포포지지지�포포포포포지지지지포포포포포지대지', '[INSTRUCTION] 다음 가맹점의 업종을 분류하세요.\\n[INPUT] 주주)코때뉴�[OUTPUT] 기타락을지지포포포포지지지지프지지지포포포지지지지지지지포지포지지지지�지지지포포지지지지지지지지지지지지', '[INSTRUCTION] 다음 가맹점의 업종을 분류하세요.\\n[INPUT] 주우연기릉점\\n(\\n[OUTPUT] 음식당을지지포지지지을지포포지지지지포포지지지지포포포포지지지포포포지지포포지지지지지포지지포지지지', '[INSTRUCTION] 다음 가맹점의 업종을 분류하세요.\\n[INPUT] 주페임단 건[OUTPUT] 카식당을 신�프지지지지�포포포 건지프프포포포 건지지지지지지지지지포포지지�비지포지지지지지지지지지��포포지', '[INSTRUCTION] 다음 가맹점의 업종을 분류하세요.\\n[INPUT] 주악구시옥[OUTPUT] 기타락을지지지지지지지포포지지지지지지비지지지지지지지지지지지포지지지지지비포지지지지지지지지지지��포지지지', '[INSTRUCTION] 다음 가맹점의 업종을 분류하세요.\\n[INPUT] 주���팡이[OUTPUT] 음핑핑을을프지지지지�포포포포포지지지지지지포지지지지지지지포지지지지지지포지포포포지지지지지지��지지이', '[INSTRUCTION] 다음 가맹점의 업종을 분류하세요.\\n[INPUT] 주주)디버당(크\\n\\n지[OUTPUT] 쇼핑핑을포포프지지지지포포신지지지지지지지지포포지지지지지지포포지지포지지지지지포포지지지지지지', '[INSTRUCTION] 다음 가맹점의 업종을 분류하세요.\\n[INPUT] 주도\\n날당\\n대점\\n[OUTPUT] 음식당을을지포포포지지포지지지포지지포포지지지지지지포포지지포지�포포지포포지지지지지포지포지지지포', '[INSTRUCTION] 다음 가맹점의 업종을 분류하세요.\\n[INPUT] 주���팡이슈��)\\n[OUTPUT] 디핑핑을포�포포포포포포포지지지지포지지지지지포지포포지지지지지지지지지지지지지지포포지��지지이', '[INSTRUCTION] 다음 가맹점의 업종을 분류하세요.\\n[INPUT] 주기탕김[OUTPUT] 음식당을지지지포포지지지지포포포지지포포포지지지지지포포지지지지지포포지지지지지지지지지지지지지지지지지지지지', '[INSTRUCTION] 다음 가맹점의 업종을 분류하세요.\\n[INPUT] 주설황[OUTPUT] 음식당을포�지지지지지포지지포지지지포포지지지지지지지포지지포지지지지지지지지포지지포포지지지지지포지지지지지�', '[INSTRUCTION] 다음 가맹점의 업종을 분류하세요.\\n[INPUT] 주25 와악점�운�\\n[OUTPUT] 쇼핑핑을을비비지포포포포비비지지포포비지지지지지지지지지포지지지비지지포비비지지지지지지지�포포포지', '[INSTRUCTION] 다음 가맹점의 업종을 분류하세요.\\n[INPUT] 주토공스물�\\n\\n[OUTPUT] 음식당을 건지포포을지지지포포포지지지포포포지지지포포포지지지지포포포지지지포포지지지지포포포을지지지�', '[INSTRUCTION] 다음 가맹점의 업종을 분류하세요.\\n[INPUT] 주등\\n�\\n[OUTPUT] 음식당을을지포포포지지지포�을포지지포포포지지지지포포포지지포포��지지비포포포포지지지지지지지지지���지', '[INSTRUCTION] 다음 가맹점의 업종을 분류하세요.\\n[INPUT] 주이물\\n[OUTPUT] 음식당을을프지포지지지포포포지지지지포포포포지지지지지지지지포포지지지지지�포지지지지지지지지지지포포지�지�', '[INSTRUCTION] 다음 가맹점의 업종을 분류하세요.\\n[INPUT] 주��이\\n러스[OUTPUT] 디지털털\\n지지지지비포포포포비지지지지지포포포포지지지지지지지포지지지지지지지지포포포지지지지지지포포포지지지', '[INSTRUCTION] 다음 가맹점의 업종을 분류하세요.\\n[INPUT] 주브방버[OUTPUT] 음식당을지�지지지지지비비블블프지신포포포포지지지지지포지지포지지지지지지�포지지포지지지지지지지지�지블지�', '[INSTRUCTION] 다음 가맹점의 업종을 분류하세요.\\n[INPUT] 주마네김[OUTPUT] 음식당을지지지지지지지블지지지 건지포포포포지지지지지지포지지포지지지 건지지�포지지지지지지지지지지지블지지지지', '[INSTRUCTION] 다음 가맹점의 업종을 분류하세요.\\n[INPUT] 주리축대\\n\\n인림방역)\\n[OUTPUT] 음식당을��포포지포지지지포포포지지지포포포지지포포포지지지�포포포포지지지지포지지��포지지지', '[INSTRUCTION] 다음 가맹점의 업종을 분류하세요.\\n[INPUT] 주�스터군[OUTPUT] 음식당을지지지지지지지포포지지지지지포포포지지지지지지지지지포지지지지지지지지지지지지지지지지지지포�지지지지', '[INSTRUCTION] 다음 가맹점의 업종을 분류하세요.\\n[INPUT] 주주)코알프이지�리아 유페\\n대집점[OUTPUT] 쇼식당 신 신프프포프 신지지포지지프프프포포포포지프프프포포 신지포포지지프프프포포포 건지프프', '[INSTRUCTION] 다음 가맹점의 업종을 분류하세요.\\n[INPUT] 주페슈�흼\\n트악점림시\\n[OUTPUT] 카용품격 신 건 건 건지지지지지지지 건지지포포포포지지�포지지지지지포포지지지지지지지지�지�지 건']\n",
      "decoded_labels ['[INSTRUCTION] 다음 가맹점의 업종을 분류하세요.\\n[INPUT] 나이스인프라 주식회사\\n[OUTPUT] 디지털', '[INSTRUCTION] 다음 가맹점의 업종을 분류하세요.\\n[INPUT] 고기반장\\n[OUTPUT] 음식', '[INSTRUCTION] 다음 가맹점의 업종을 분류하세요.\\n[INPUT] 지에스25(GS25) 서초모나코점\\n[OUTPUT] 쇼핑', '[INSTRUCTION] 다음 가맹점의 업종을 분류하세요.\\n[INPUT] 씨유(CU) 관악신사점\\n[OUTPUT] 쇼핑', '[INSTRUCTION] 다음 가맹점의 업종을 분류하세요.\\n[INPUT] 포크포크\\n[OUTPUT] 음식', '[INSTRUCTION] 다음 가맹점의 업종을 분류하세요.\\n[INPUT] 채향\\n[OUTPUT] 음식', '[INSTRUCTION] 다음 가맹점의 업종을 분류하세요.\\n[INPUT] 세븐일레븐 대전가양행복점\\n[OUTPUT] 쇼핑', '[INSTRUCTION] 다음 가맹점의 업종을 분류하세요.\\n[INPUT] 백패커\\n[OUTPUT] 쇼핑', '[INSTRUCTION] 다음 가맹점의 업종을 분류하세요.\\n[INPUT] 주식회사 에스씨케이컴퍼니\\n[OUTPUT] 기타', '[INSTRUCTION] 다음 가맹점의 업종을 분류하세요.\\n[INPUT] 세븐스타 코인노래연습장\\n[OUTPUT] 오락', '[INSTRUCTION] 다음 가맹점의 업종을 분류하세요.\\n[INPUT] 순대실록남부터미널점\\n[OUTPUT] 음식', '[INSTRUCTION] 다음 가맹점의 업종을 분류하세요.\\n[INPUT] CU 건대상허도서관점\\n[OUTPUT] 생활용품', '[INSTRUCTION] 다음 가맹점의 업종을 분류하세요.\\n[INPUT] 주식회사 유피소프트\\n[OUTPUT] 디지털', '[INSTRUCTION] 다음 가맹점의 업종을 분류하세요.\\n[INPUT] 고품격 커피공장\\n[OUTPUT] 카페', '[INSTRUCTION] 다음 가맹점의 업종을 분류하세요.\\n[INPUT] 호파스타생면파스타건대본점(HO\\n[OUTPUT] 음식', '[INSTRUCTION] 다음 가맹점의 업종을 분류하세요.\\n[INPUT] ( 주)버거요강남본점\\n[OUTPUT] 음식', '[INSTRUCTION] 다음 가맹점의 업종을 분류하세요.\\n[INPUT] 우성식당\\n[OUTPUT] 음식', '[INSTRUCTION] 다음 가맹점의 업종을 분류하세요.\\n[INPUT] 지에스GS25 서초한신점\\n[OUTPUT] 쇼핑', '[INSTRUCTION] 다음 가맹점의 업종을 분류하세요.\\n[INPUT] 주식회사 함흥면옥\\n[OUTPUT] 음식', '[INSTRUCTION] 다음 가맹점의 업종을 분류하세요.\\n[INPUT] (주)지오다노 강남\\n[OUTPUT] 쇼핑', '[INSTRUCTION] 다음 가맹점의 업종을 분류하세요.\\n[INPUT] 싸다김밥(서초역점)\\n[OUTPUT] 음식', '[INSTRUCTION] 다음 가맹점의 업종을 분류하세요.\\n[INPUT] 시옌\\n[OUTPUT] 음식', '[INSTRUCTION] 다음 가맹점의 업종을 분류하세요.\\n[INPUT] 육전국밥 서울대입구역점\\n[OUTPUT] 음식', '[INSTRUCTION] 다음 가맹점의 업종을 분류하세요.\\n[INPUT] 한국맥도날드(유) 서울교대점\\n[OUTPUT] 음식', '[INSTRUCTION] 다음 가맹점의 업종을 분류하세요.\\n[INPUT] 전국고속버스운송사업조합\\n[OUTPUT] 교통', '[INSTRUCTION] 다음 가맹점의 업종을 분류하세요.\\n[INPUT] (주)코리아세븐 신림고시촌점\\n[OUTPUT] 쇼핑', '[INSTRUCTION] 다음 가맹점의 업종을 분류하세요.\\n[INPUT] 씨유 신림동희점\\n[OUTPUT] 음식', '[INSTRUCTION] 다음 가맹점의 업종을 분류하세요.\\n[INPUT] 벨렘351 건대점\\n[OUTPUT] 음식', '[INSTRUCTION] 다음 가맹점의 업종을 분류하세요.\\n[INPUT] 현이네 고기국수\\n[OUTPUT] 음식', '[INSTRUCTION] 다음 가맹점의 업종을 분류하세요.\\n[INPUT] 사랑방\\n[OUTPUT] 음식', '[INSTRUCTION] 다음 가맹점의 업종을 분류하세요.\\n[INPUT] 린스시\\n[OUTPUT] 음식', '[INSTRUCTION] 다음 가맹점의 업종을 분류하세요.\\n[INPUT] 맛좋은순대국\\n[OUTPUT] 음식', '[INSTRUCTION] 다음 가맹점의 업종을 분류하세요.\\n[INPUT] (주)어비즈\\n[OUTPUT] 기타', '[INSTRUCTION] 다음 가맹점의 업종을 분류하세요.\\n[INPUT] 동래정 선릉직영점\\n[OUTPUT] 음식', '[INSTRUCTION] 다음 가맹점의 업종을 분류하세요.\\n[INPUT] 카츠공방\\n[OUTPUT] 음식', '[INSTRUCTION] 다음 가맹점의 업종을 분류하세요.\\n[INPUT] 관악구청\\n[OUTPUT] 기타', '[INSTRUCTION] 다음 가맹점의 업종을 분류하세요.\\n[INPUT] 쿠팡\\n[OUTPUT] 쇼핑', '[INSTRUCTION] 다음 가맹점의 업종을 분류하세요.\\n[INPUT] (주)이랜드월드패션 강남2\\n[OUTPUT] 쇼핑', '[INSTRUCTION] 다음 가맹점의 업종을 분류하세요.\\n[INPUT] 평안도식당 신림점\\n[OUTPUT] 음식', '[INSTRUCTION] 다음 가맹점의 업종을 분류하세요.\\n[INPUT] 쿠팡(쿠페이)\\n[OUTPUT] 쇼핑', '[INSTRUCTION] 다음 가맹점의 업종을 분류하세요.\\n[INPUT] 정자네\\n[OUTPUT] 음식', '[INSTRUCTION] 다음 가맹점의 업종을 분류하세요.\\n[INPUT] 한송\\n[OUTPUT] 음식', '[INSTRUCTION] 다음 가맹점의 업종을 분류하세요.\\n[INPUT] GS25 관악녹두점\\n[OUTPUT] 쇼핑', '[INSTRUCTION] 다음 가맹점의 업종을 분류하세요.\\n[INPUT] 삼대나주곰탕\\n[OUTPUT] 음식', '[INSTRUCTION] 다음 가맹점의 업종을 분류하세요.\\n[INPUT] 홍루몽\\n[OUTPUT] 음식', '[INSTRUCTION] 다음 가맹점의 업종을 분류하세요.\\n[INPUT] 봉산옥\\n[OUTPUT] 음식', '[INSTRUCTION] 다음 가맹점의 업종을 분류하세요.\\n[INPUT] 페이플\\n[OUTPUT] 디지털', '[INSTRUCTION] 다음 가맹점의 업종을 분류하세요.\\n[INPUT] 노다메\\n[OUTPUT] 음식', '[INSTRUCTION] 다음 가맹점의 업종을 분류하세요.\\n[INPUT] 심가네\\n[OUTPUT] 음식', '[INSTRUCTION] 다음 가맹점의 업종을 분류하세요.\\n[INPUT] 계경순대국(신대방점)\\n[OUTPUT] 음식', '[INSTRUCTION] 다음 가맹점의 업종을 분류하세요.\\n[INPUT] 멘쇼\\n[OUTPUT] 음식', '[INSTRUCTION] 다음 가맹점의 업종을 분류하세요.\\n[INPUT] (주)케이에프씨코리아 KFC강남역\\n[OUTPUT] 음식', '[INSTRUCTION] 다음 가맹점의 업종을 분류하세요.\\n[INPUT] 크린토피아 관악신사점\\n[OUTPUT] 생활용품']\n"
     ]
    },
    {
     "data": {
      "text/plain": [
       "TrainOutput(global_step=633, training_loss=0.9983645975118941, metrics={'train_runtime': 11174.053, 'train_samples_per_second': 0.057, 'train_steps_per_second': 0.057, 'total_flos': 295680714670080.0, 'train_loss': 0.9983645975118941, 'epoch': 3.0})"
      ]
     },
     "execution_count": 32,
     "metadata": {},
     "output_type": "execute_result"
    }
   ],
   "source": [
    "trainer = Trainer(\n",
    "    model=model,\n",
    "    args=training_args,\n",
    "    train_dataset=tokenized_datasets[\"train\"],\n",
    "    eval_dataset=tokenized_datasets[\"validation\"],\n",
    "    tokenizer=tokenizer,\n",
    "    data_collator=default_data_collator,\n",
    "    compute_metrics=compute_metrics\n",
    ")\n",
    "\n",
    "trainer.train()"
   ]
  },
  {
   "cell_type": "code",
   "execution_count": 33,
   "id": "6590fa80-e71c-4205-8c3f-76b68bb16431",
   "metadata": {},
   "outputs": [
    {
     "data": {
      "text/plain": [
       "('./finetuned_model/tokenizer_config.json',\n",
       " './finetuned_model/special_tokens_map.json',\n",
       " './finetuned_model/tokenizer.json')"
      ]
     },
     "execution_count": 33,
     "metadata": {},
     "output_type": "execute_result"
    }
   ],
   "source": [
    "trainer.save_model(\"./finetuned_model\")\n",
    "tokenizer.save_pretrained(\"./finetuned_model\")"
   ]
  },
  {
   "cell_type": "code",
   "execution_count": 34,
   "id": "6edf1d88-dfff-4918-a91a-748165376171",
   "metadata": {},
   "outputs": [
    {
     "name": "stderr",
     "output_type": "stream",
     "text": [
      "/opt/homebrew/Caskroom/miniforge/base/envs/hhplus_week7/lib/python3.13/site-packages/transformers/generation/configuration_utils.py:631: UserWarning: `do_sample` is set to `False`. However, `temperature` is set to `0.0` -- this flag is only used in sample-based generation modes. You should set `do_sample=True` or unset `temperature`.\n",
      "  warnings.warn(\n",
      "/opt/homebrew/Caskroom/miniforge/base/envs/hhplus_week7/lib/python3.13/site-packages/transformers/generation/configuration_utils.py:636: UserWarning: `do_sample` is set to `False`. However, `top_p` is set to `0.9` -- this flag is only used in sample-based generation modes. You should set `do_sample=True` or unset `top_p`.\n",
      "  warnings.warn(\n",
      "Setting `pad_token_id` to `eos_token_id`:128001 for open-end generation.\n"
     ]
    },
    {
     "name": "stdout",
     "output_type": "stream",
     "text": [
      "\n",
      "=== 전체 validation 예측 시작 (총 53건) ===\n"
     ]
    },
    {
     "name": "stderr",
     "output_type": "stream",
     "text": [
      "Setting `pad_token_id` to `eos_token_id`:128001 for open-end generation.\n"
     ]
    },
    {
     "name": "stdout",
     "output_type": "stream",
     "text": [
      "[1] 나이스인프라 주식회사 → 음식당 (❌)\n"
     ]
    },
    {
     "name": "stderr",
     "output_type": "stream",
     "text": [
      "Setting `pad_token_id` to `eos_token_id`:128001 for open-end generation.\n"
     ]
    },
    {
     "name": "stdout",
     "output_type": "stream",
     "text": [
      "[2] 고기반장 → 음식당 (❌)\n"
     ]
    },
    {
     "name": "stderr",
     "output_type": "stream",
     "text": [
      "Setting `pad_token_id` to `eos_token_id`:128001 for open-end generation.\n"
     ]
    },
    {
     "name": "stdout",
     "output_type": "stream",
     "text": [
      "[3] 지에스25(GS25) 서초모나코점 → 쇼핑핑 (❌)\n"
     ]
    },
    {
     "name": "stderr",
     "output_type": "stream",
     "text": [
      "Setting `pad_token_id` to `eos_token_id`:128001 for open-end generation.\n"
     ]
    },
    {
     "name": "stdout",
     "output_type": "stream",
     "text": [
      "[4] 씨유(CU) 관악신사점 → 쇼핑핑 (❌)\n"
     ]
    },
    {
     "name": "stderr",
     "output_type": "stream",
     "text": [
      "Setting `pad_token_id` to `eos_token_id`:128001 for open-end generation.\n"
     ]
    },
    {
     "name": "stdout",
     "output_type": "stream",
     "text": [
      "[5] 포크포크 → 음식당 (❌)\n"
     ]
    },
    {
     "name": "stderr",
     "output_type": "stream",
     "text": [
      "Setting `pad_token_id` to `eos_token_id`:128001 for open-end generation.\n"
     ]
    },
    {
     "name": "stdout",
     "output_type": "stream",
     "text": [
      "[6] 채향 → 음식당 (❌)\n"
     ]
    },
    {
     "name": "stderr",
     "output_type": "stream",
     "text": [
      "Setting `pad_token_id` to `eos_token_id`:128001 for open-end generation.\n"
     ]
    },
    {
     "name": "stdout",
     "output_type": "stream",
     "text": [
      "[7] 세븐일레븐 대전가양행복점 → 쇼핑핑 (❌)\n"
     ]
    },
    {
     "name": "stderr",
     "output_type": "stream",
     "text": [
      "Setting `pad_token_id` to `eos_token_id`:128001 for open-end generation.\n"
     ]
    },
    {
     "name": "stdout",
     "output_type": "stream",
     "text": [
      "[8] 백패커 → 쇼핑핑 (❌)\n"
     ]
    },
    {
     "name": "stderr",
     "output_type": "stream",
     "text": [
      "Setting `pad_token_id` to `eos_token_id`:128001 for open-end generation.\n"
     ]
    },
    {
     "name": "stdout",
     "output_type": "stream",
     "text": [
      "[9] 주식회사 에스씨케이컴퍼니 → 쇼핑핑 (❌)\n"
     ]
    },
    {
     "name": "stderr",
     "output_type": "stream",
     "text": [
      "Setting `pad_token_id` to `eos_token_id`:128001 for open-end generation.\n"
     ]
    },
    {
     "name": "stdout",
     "output_type": "stream",
     "text": [
      "[10] 세븐스타 코인노래연습장 → 오락\n",
      "[ (❌)\n"
     ]
    },
    {
     "name": "stderr",
     "output_type": "stream",
     "text": [
      "Setting `pad_token_id` to `eos_token_id`:128001 for open-end generation.\n"
     ]
    },
    {
     "name": "stdout",
     "output_type": "stream",
     "text": [
      "[11] 순대실록남부터미널점 → 음식당 (❌)\n"
     ]
    },
    {
     "name": "stderr",
     "output_type": "stream",
     "text": [
      "Setting `pad_token_id` to `eos_token_id`:128001 for open-end generation.\n"
     ]
    },
    {
     "name": "stdout",
     "output_type": "stream",
     "text": [
      "[12] CU 건대상허도서관점 → 쇼핑핑 (❌)\n"
     ]
    },
    {
     "name": "stderr",
     "output_type": "stream",
     "text": [
      "Setting `pad_token_id` to `eos_token_id`:128001 for open-end generation.\n"
     ]
    },
    {
     "name": "stdout",
     "output_type": "stream",
     "text": [
      "[13] 주식회사 유피소프트 → 카페 (❌)\n"
     ]
    },
    {
     "name": "stderr",
     "output_type": "stream",
     "text": [
      "Setting `pad_token_id` to `eos_token_id`:128001 for open-end generation.\n"
     ]
    },
    {
     "name": "stdout",
     "output_type": "stream",
     "text": [
      "[14] 고품격 커피공장 → 카페 (✅)\n"
     ]
    },
    {
     "name": "stderr",
     "output_type": "stream",
     "text": [
      "Setting `pad_token_id` to `eos_token_id`:128001 for open-end generation.\n"
     ]
    },
    {
     "name": "stdout",
     "output_type": "stream",
     "text": [
      "[15] 호파스타생면파스타건대본점(HO → 음식당 (❌)\n"
     ]
    },
    {
     "name": "stderr",
     "output_type": "stream",
     "text": [
      "Setting `pad_token_id` to `eos_token_id`:128001 for open-end generation.\n"
     ]
    },
    {
     "name": "stdout",
     "output_type": "stream",
     "text": [
      "[16] ( 주)버거요강남본점 → 음식당 (❌)\n"
     ]
    },
    {
     "name": "stderr",
     "output_type": "stream",
     "text": [
      "Setting `pad_token_id` to `eos_token_id`:128001 for open-end generation.\n"
     ]
    },
    {
     "name": "stdout",
     "output_type": "stream",
     "text": [
      "[17] 우성식당 → 음식당 (❌)\n"
     ]
    },
    {
     "name": "stderr",
     "output_type": "stream",
     "text": [
      "Setting `pad_token_id` to `eos_token_id`:128001 for open-end generation.\n"
     ]
    },
    {
     "name": "stdout",
     "output_type": "stream",
     "text": [
      "[18] 지에스GS25 서초한신점 → 쇼핑핑 (❌)\n"
     ]
    },
    {
     "name": "stderr",
     "output_type": "stream",
     "text": [
      "Setting `pad_token_id` to `eos_token_id`:128001 for open-end generation.\n"
     ]
    },
    {
     "name": "stdout",
     "output_type": "stream",
     "text": [
      "[19] 주식회사 함흥면옥 → 음식당 (❌)\n"
     ]
    },
    {
     "name": "stderr",
     "output_type": "stream",
     "text": [
      "Setting `pad_token_id` to `eos_token_id`:128001 for open-end generation.\n"
     ]
    },
    {
     "name": "stdout",
     "output_type": "stream",
     "text": [
      "[20] (주)지오다노 강남 → 음식당 (❌)\n"
     ]
    },
    {
     "name": "stderr",
     "output_type": "stream",
     "text": [
      "Setting `pad_token_id` to `eos_token_id`:128001 for open-end generation.\n"
     ]
    },
    {
     "name": "stdout",
     "output_type": "stream",
     "text": [
      "[21] 싸다김밥(서초역점) → 음식당 (❌)\n"
     ]
    },
    {
     "name": "stderr",
     "output_type": "stream",
     "text": [
      "Setting `pad_token_id` to `eos_token_id`:128001 for open-end generation.\n"
     ]
    },
    {
     "name": "stdout",
     "output_type": "stream",
     "text": [
      "[22] 시옌 → 음식당 (❌)\n"
     ]
    },
    {
     "name": "stderr",
     "output_type": "stream",
     "text": [
      "Setting `pad_token_id` to `eos_token_id`:128001 for open-end generation.\n"
     ]
    },
    {
     "name": "stdout",
     "output_type": "stream",
     "text": [
      "[23] 육전국밥 서울대입구역점 → 음식당 (❌)\n"
     ]
    },
    {
     "name": "stderr",
     "output_type": "stream",
     "text": [
      "Setting `pad_token_id` to `eos_token_id`:128001 for open-end generation.\n"
     ]
    },
    {
     "name": "stdout",
     "output_type": "stream",
     "text": [
      "[24] 한국맥도날드(유) 서울교대점 → 음식당 (❌)\n"
     ]
    },
    {
     "name": "stderr",
     "output_type": "stream",
     "text": [
      "Setting `pad_token_id` to `eos_token_id`:128001 for open-end generation.\n"
     ]
    },
    {
     "name": "stdout",
     "output_type": "stream",
     "text": [
      "[25] 전국고속버스운송사업조합 → 오락\n",
      "[ (❌)\n"
     ]
    },
    {
     "name": "stderr",
     "output_type": "stream",
     "text": [
      "Setting `pad_token_id` to `eos_token_id`:128001 for open-end generation.\n"
     ]
    },
    {
     "name": "stdout",
     "output_type": "stream",
     "text": [
      "[26] (주)코리아세븐 신림고시촌점 → 쇼핑핑 (❌)\n"
     ]
    },
    {
     "name": "stderr",
     "output_type": "stream",
     "text": [
      "Setting `pad_token_id` to `eos_token_id`:128001 for open-end generation.\n"
     ]
    },
    {
     "name": "stdout",
     "output_type": "stream",
     "text": [
      "[27] 씨유 신림동희점 → 쇼핑핑 (❌)\n"
     ]
    },
    {
     "name": "stderr",
     "output_type": "stream",
     "text": [
      "Setting `pad_token_id` to `eos_token_id`:128001 for open-end generation.\n"
     ]
    },
    {
     "name": "stdout",
     "output_type": "stream",
     "text": [
      "[28] 벨렘351 건대점 → 음식당 (❌)\n"
     ]
    },
    {
     "name": "stderr",
     "output_type": "stream",
     "text": [
      "Setting `pad_token_id` to `eos_token_id`:128001 for open-end generation.\n"
     ]
    },
    {
     "name": "stdout",
     "output_type": "stream",
     "text": [
      "[29] 현이네 고기국수 → 음식당 (❌)\n"
     ]
    },
    {
     "name": "stderr",
     "output_type": "stream",
     "text": [
      "Setting `pad_token_id` to `eos_token_id`:128001 for open-end generation.\n"
     ]
    },
    {
     "name": "stdout",
     "output_type": "stream",
     "text": [
      "[30] 사랑방 → 음식당 (❌)\n"
     ]
    },
    {
     "name": "stderr",
     "output_type": "stream",
     "text": [
      "Setting `pad_token_id` to `eos_token_id`:128001 for open-end generation.\n"
     ]
    },
    {
     "name": "stdout",
     "output_type": "stream",
     "text": [
      "[31] 린스시 → 생활용품격커피\n",
      "[ (❌)\n"
     ]
    },
    {
     "name": "stderr",
     "output_type": "stream",
     "text": [
      "Setting `pad_token_id` to `eos_token_id`:128001 for open-end generation.\n"
     ]
    },
    {
     "name": "stdout",
     "output_type": "stream",
     "text": [
      "[32] 맛좋은순대국 → 음식당 (❌)\n"
     ]
    },
    {
     "name": "stderr",
     "output_type": "stream",
     "text": [
      "Setting `pad_token_id` to `eos_token_id`:128001 for open-end generation.\n"
     ]
    },
    {
     "name": "stdout",
     "output_type": "stream",
     "text": [
      "[33] (주)어비즈 → 오락\n",
      "[ (❌)\n"
     ]
    },
    {
     "name": "stderr",
     "output_type": "stream",
     "text": [
      "Setting `pad_token_id` to `eos_token_id`:128001 for open-end generation.\n"
     ]
    },
    {
     "name": "stdout",
     "output_type": "stream",
     "text": [
      "[34] 동래정 선릉직영점 → 음식당 (❌)\n"
     ]
    },
    {
     "name": "stderr",
     "output_type": "stream",
     "text": [
      "Setting `pad_token_id` to `eos_token_id`:128001 for open-end generation.\n"
     ]
    },
    {
     "name": "stdout",
     "output_type": "stream",
     "text": [
      "[35] 카츠공방 → 카페 (❌)\n"
     ]
    },
    {
     "name": "stderr",
     "output_type": "stream",
     "text": [
      "Setting `pad_token_id` to `eos_token_id`:128001 for open-end generation.\n"
     ]
    },
    {
     "name": "stdout",
     "output_type": "stream",
     "text": [
      "[36] 관악구청 → 기타락 남부터미널점\n",
      "[OUTPUT (❌)\n"
     ]
    },
    {
     "name": "stderr",
     "output_type": "stream",
     "text": [
      "Setting `pad_token_id` to `eos_token_id`:128001 for open-end generation.\n"
     ]
    },
    {
     "name": "stdout",
     "output_type": "stream",
     "text": [
      "[37] 쿠팡 → 음식당 (❌)\n"
     ]
    },
    {
     "name": "stderr",
     "output_type": "stream",
     "text": [
      "Setting `pad_token_id` to `eos_token_id`:128001 for open-end generation.\n"
     ]
    },
    {
     "name": "stdout",
     "output_type": "stream",
     "text": [
      "[38] (주)이랜드월드패션 강남2 → 쇼핑핑 (❌)\n"
     ]
    },
    {
     "name": "stderr",
     "output_type": "stream",
     "text": [
      "Setting `pad_token_id` to `eos_token_id`:128001 for open-end generation.\n"
     ]
    },
    {
     "name": "stdout",
     "output_type": "stream",
     "text": [
      "[39] 평안도식당 신림점 → 음식당 (❌)\n"
     ]
    },
    {
     "name": "stderr",
     "output_type": "stream",
     "text": [
      "Setting `pad_token_id` to `eos_token_id`:128001 for open-end generation.\n"
     ]
    },
    {
     "name": "stdout",
     "output_type": "stream",
     "text": [
      "[40] 쿠팡(쿠페이) → 디지털털(유) 서초점 (❌)\n"
     ]
    },
    {
     "name": "stderr",
     "output_type": "stream",
     "text": [
      "Setting `pad_token_id` to `eos_token_id`:128001 for open-end generation.\n"
     ]
    },
    {
     "name": "stdout",
     "output_type": "stream",
     "text": [
      "[41] 정자네 → 음식당 (❌)\n"
     ]
    },
    {
     "name": "stderr",
     "output_type": "stream",
     "text": [
      "Setting `pad_token_id` to `eos_token_id`:128001 for open-end generation.\n"
     ]
    },
    {
     "name": "stdout",
     "output_type": "stream",
     "text": [
      "[42] 한송 → 음식당 (❌)\n"
     ]
    },
    {
     "name": "stderr",
     "output_type": "stream",
     "text": [
      "Setting `pad_token_id` to `eos_token_id`:128001 for open-end generation.\n"
     ]
    },
    {
     "name": "stdout",
     "output_type": "stream",
     "text": [
      "[43] GS25 관악녹두점 → 쇼핑핑 (❌)\n"
     ]
    },
    {
     "name": "stderr",
     "output_type": "stream",
     "text": [
      "Setting `pad_token_id` to `eos_token_id`:128001 for open-end generation.\n"
     ]
    },
    {
     "name": "stdout",
     "output_type": "stream",
     "text": [
      "[44] 삼대나주곰탕 → 음식당 (❌)\n"
     ]
    },
    {
     "name": "stderr",
     "output_type": "stream",
     "text": [
      "Setting `pad_token_id` to `eos_token_id`:128001 for open-end generation.\n"
     ]
    },
    {
     "name": "stdout",
     "output_type": "stream",
     "text": [
      "[45] 홍루몽 → 음식당 (❌)\n"
     ]
    },
    {
     "name": "stderr",
     "output_type": "stream",
     "text": [
      "Setting `pad_token_id` to `eos_token_id`:128001 for open-end generation.\n"
     ]
    },
    {
     "name": "stdout",
     "output_type": "stream",
     "text": [
      "[46] 봉산옥 → 음식당 (❌)\n"
     ]
    },
    {
     "name": "stderr",
     "output_type": "stream",
     "text": [
      "Setting `pad_token_id` to `eos_token_id`:128001 for open-end generation.\n"
     ]
    },
    {
     "name": "stdout",
     "output_type": "stream",
     "text": [
      "[47] 페이플 →  (❌)\n"
     ]
    },
    {
     "name": "stderr",
     "output_type": "stream",
     "text": [
      "Setting `pad_token_id` to `eos_token_id`:128001 for open-end generation.\n"
     ]
    },
    {
     "name": "stdout",
     "output_type": "stream",
     "text": [
      "[48] 노다메 → 음식당 (❌)\n"
     ]
    },
    {
     "name": "stderr",
     "output_type": "stream",
     "text": [
      "Setting `pad_token_id` to `eos_token_id`:128001 for open-end generation.\n"
     ]
    },
    {
     "name": "stdout",
     "output_type": "stream",
     "text": [
      "[49] 심가네 → 음식당 (❌)\n"
     ]
    },
    {
     "name": "stderr",
     "output_type": "stream",
     "text": [
      "Setting `pad_token_id` to `eos_token_id`:128001 for open-end generation.\n"
     ]
    },
    {
     "name": "stdout",
     "output_type": "stream",
     "text": [
      "[50] 계경순대국(신대방점) → 음식당 (❌)\n"
     ]
    },
    {
     "name": "stderr",
     "output_type": "stream",
     "text": [
      "Setting `pad_token_id` to `eos_token_id`:128001 for open-end generation.\n"
     ]
    },
    {
     "name": "stdout",
     "output_type": "stream",
     "text": [
      "[51] 멘쇼 → 음식당 (❌)\n"
     ]
    },
    {
     "name": "stderr",
     "output_type": "stream",
     "text": [
      "Setting `pad_token_id` to `eos_token_id`:128001 for open-end generation.\n"
     ]
    },
    {
     "name": "stdout",
     "output_type": "stream",
     "text": [
      "[52] (주)케이에프씨코리아 KFC강남역 → 쇼핑핑 (❌)\n",
      "[53] 크린토피아 관악신사점 → 카페 (❌)\n",
      "\n",
      " 결과 저장 완료: validation_predictions.csv, validation_predictions.json\n"
     ]
    }
   ],
   "source": [
    "model = AutoModelForCausalLM.from_pretrained(\"./finetuned_model\").to(device)\n",
    "tokenizer = AutoTokenizer.from_pretrained(\"./finetuned_model\")\n",
    "tokenizer.pad_token = tokenizer.eos_token\n",
    "\n",
    "# validation 데이터셋 평가 및 저장\n",
    "import csv\n",
    "import json\n",
    "\n",
    "def evaluate_and_save(dataset, output_path=\"validation_predictions.csv\"):\n",
    "    model.eval()\n",
    "    results = []\n",
    "\n",
    "    print(f\"\\n=== 전체 validation 예측 시작 (총 {len(dataset)}건) ===\")\n",
    "    for i, example in enumerate(dataset):\n",
    "        prompt = f\"[INSTRUCTION] {example['instruction']}\\n[INPUT] {example['input']}\\n[OUTPUT]\"\n",
    "        inputs = tokenizer(prompt, return_tensors=\"pt\", truncation=True, max_length=512).to(device)\n",
    "\n",
    "        with torch.no_grad():\n",
    "            output_ids = model.generate(\n",
    "                input_ids=inputs[\"input_ids\"],\n",
    "                attention_mask=inputs[\"attention_mask\"],\n",
    "                max_new_tokens=10,\n",
    "                # max_new_tokens=50,\n",
    "                do_sample=False,\n",
    "                temperature=0.0,\n",
    "            )\n",
    "\n",
    "        generated = tokenizer.decode(output_ids[0], skip_special_tokens=True)\n",
    "        predicted = generated.split(\"[OUTPUT]\")[-1].strip() if \"[OUTPUT]\" in generated else generated.strip()\n",
    "\n",
    "        result = {\n",
    "            \"index\": i + 1,\n",
    "            \"store\": example[\"input\"],\n",
    "            \"label\": example[\"output\"],\n",
    "            \"predict\": predicted,\n",
    "            \"correct\": predicted == example[\"output\"]\n",
    "        }\n",
    "\n",
    "        print(f\"[{result['index']}] {result['store']} → {result['predict']} ({'✅' if result['correct'] else '❌'})\")\n",
    "        results.append(result)\n",
    "\n",
    "    # CSV 저장\n",
    "    with open(output_path, \"w\", newline=\"\", encoding=\"utf-8-sig\") as f:\n",
    "        writer = csv.DictWriter(f, fieldnames=results[0].keys())\n",
    "        writer.writeheader()\n",
    "        writer.writerows(results)\n",
    "\n",
    "    # JSON 저장 (옵션)\n",
    "    with open(output_path.replace(\".csv\", \".json\"), \"w\", encoding=\"utf-8\") as f:\n",
    "        json.dump(results, f, ensure_ascii=False, indent=2)\n",
    "\n",
    "    print(f\"\\n 결과 저장 완료: {output_path}, {output_path.replace('.csv', '.json')}\")\n",
    "\n",
    "evaluate_and_save(raw_datasets[\"validation\"], output_path=\"validation_predictions.csv\")"
   ]
  },
  {
   "cell_type": "code",
   "execution_count": null,
   "id": "30a7f990-a13e-47e4-969e-a9c1711ba77a",
   "metadata": {},
   "outputs": [],
   "source": []
  }
 ],
 "metadata": {
  "kernelspec": {
   "display_name": "Python (hhplus_week7)",
   "language": "python",
   "name": "hhplus_week7"
  },
  "language_info": {
   "codemirror_mode": {
    "name": "ipython",
    "version": 3
   },
   "file_extension": ".py",
   "mimetype": "text/x-python",
   "name": "python",
   "nbconvert_exporter": "python",
   "pygments_lexer": "ipython3",
   "version": "3.13.2"
  }
 },
 "nbformat": 4,
 "nbformat_minor": 5
}

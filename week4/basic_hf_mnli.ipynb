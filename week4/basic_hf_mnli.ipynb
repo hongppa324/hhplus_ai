{
 "cells": [
  {
   "cell_type": "code",
   "execution_count": 2,
   "id": "10090477-280d-414c-b5eb-53a998bd9cfa",
   "metadata": {},
   "outputs": [],
   "source": [
    "from datasets import load_dataset\n",
    "from transformers import AutoTokenizer, AutoModelForSequenceClassification"
   ]
  },
  {
   "cell_type": "markdown",
   "id": "ddfae3c8-d468-4ec6-8dc7-e4f3a42f27f4",
   "metadata": {},
   "source": [
    "## Dataset load"
   ]
  },
  {
   "cell_type": "code",
   "execution_count": 126,
   "id": "642a7caf-818f-498f-82f0-24eeb6f6fcdc",
   "metadata": {},
   "outputs": [],
   "source": [
    "mnli = load_dataset(\"nyu-mll/glue\", \"mnli\")"
   ]
  },
  {
   "cell_type": "code",
   "execution_count": 128,
   "id": "4684bb53-336e-47c7-9f26-8986916cb161",
   "metadata": {},
   "outputs": [
    {
     "data": {
      "text/plain": [
       "DatasetDict({\n",
       "    train: Dataset({\n",
       "        features: ['premise', 'hypothesis', 'label', 'idx'],\n",
       "        num_rows: 392702\n",
       "    })\n",
       "    validation_matched: Dataset({\n",
       "        features: ['premise', 'hypothesis', 'label', 'idx'],\n",
       "        num_rows: 9815\n",
       "    })\n",
       "    validation_mismatched: Dataset({\n",
       "        features: ['premise', 'hypothesis', 'label', 'idx'],\n",
       "        num_rows: 9832\n",
       "    })\n",
       "    test_matched: Dataset({\n",
       "        features: ['premise', 'hypothesis', 'label', 'idx'],\n",
       "        num_rows: 9796\n",
       "    })\n",
       "    test_mismatched: Dataset({\n",
       "        features: ['premise', 'hypothesis', 'label', 'idx'],\n",
       "        num_rows: 9847\n",
       "    })\n",
       "})"
      ]
     },
     "execution_count": 128,
     "metadata": {},
     "output_type": "execute_result"
    }
   ],
   "source": [
    "mnli"
   ]
  },
  {
   "cell_type": "code",
   "execution_count": 130,
   "id": "c20081b8-2544-4e4f-a85b-6adf0bd28c43",
   "metadata": {},
   "outputs": [
    {
     "data": {
      "text/plain": [
       "'Product and geography are what make cream skimming work. '"
      ]
     },
     "execution_count": 130,
     "metadata": {},
     "output_type": "execute_result"
    }
   ],
   "source": [
    "mnli[\"train\"][0][\"hypothesis\"]"
   ]
  },
  {
   "cell_type": "code",
   "execution_count": 132,
   "id": "19ad666d-3a59-474a-ab30-0cfa8cc3ebbd",
   "metadata": {},
   "outputs": [
    {
     "data": {
      "text/plain": [
       "'Conceptually cream skimming has two basic dimensions - product and geography.'"
      ]
     },
     "execution_count": 132,
     "metadata": {},
     "output_type": "execute_result"
    }
   ],
   "source": [
    "mnli[\"train\"][0][\"premise\"]"
   ]
  },
  {
   "cell_type": "markdown",
   "id": "116060e0-6440-49cc-a31d-24ea2a8a6079",
   "metadata": {},
   "source": [
    "## train data를 split\n",
    "* train data와 validation data로 나눔"
   ]
  },
  {
   "cell_type": "code",
   "execution_count": 134,
   "id": "2617b883-c708-4e06-a53b-1035c4229e27",
   "metadata": {},
   "outputs": [],
   "source": [
    "mnli_train_val = mnli[\"train\"].train_test_split(test_size=0.2, seed=42)"
   ]
  },
  {
   "cell_type": "code",
   "execution_count": 136,
   "id": "952cfbdf-b768-4a46-a7f0-441849a0b464",
   "metadata": {},
   "outputs": [
    {
     "data": {
      "text/plain": [
       "DatasetDict({\n",
       "    train: Dataset({\n",
       "        features: ['premise', 'hypothesis', 'label', 'idx'],\n",
       "        num_rows: 314161\n",
       "    })\n",
       "    test: Dataset({\n",
       "        features: ['premise', 'hypothesis', 'label', 'idx'],\n",
       "        num_rows: 78541\n",
       "    })\n",
       "})"
      ]
     },
     "execution_count": 136,
     "metadata": {},
     "output_type": "execute_result"
    }
   ],
   "source": [
    "mnli_train_val"
   ]
  },
  {
   "cell_type": "code",
   "execution_count": 138,
   "id": "ebc910d0-3ea3-4c4b-b326-bbf78da9e1b3",
   "metadata": {},
   "outputs": [],
   "source": [
    "mnli_train, mnli_val = mnli_train_val[\"train\"].select(range(1000)), mnli_train_val[\"test\"].select(range(200))"
   ]
  },
  {
   "cell_type": "code",
   "execution_count": 140,
   "id": "21a9fb9d-047e-42e3-9f24-557643137a82",
   "metadata": {},
   "outputs": [
    {
     "data": {
      "text/plain": [
       "Dataset({\n",
       "    features: ['premise', 'hypothesis', 'label', 'idx'],\n",
       "    num_rows: 1000\n",
       "})"
      ]
     },
     "execution_count": 140,
     "metadata": {},
     "output_type": "execute_result"
    }
   ],
   "source": [
    "mnli_train"
   ]
  },
  {
   "cell_type": "code",
   "execution_count": 142,
   "id": "82ab8e9b-a414-4d11-8d58-ca9b52ff6ba5",
   "metadata": {},
   "outputs": [
    {
     "data": {
      "text/plain": [
       "Dataset({\n",
       "    features: ['premise', 'hypothesis', 'label', 'idx'],\n",
       "    num_rows: 200\n",
       "})"
      ]
     },
     "execution_count": 142,
     "metadata": {},
     "output_type": "execute_result"
    }
   ],
   "source": [
    "mnli_val"
   ]
  },
  {
   "cell_type": "code",
   "execution_count": 144,
   "id": "0d46d37e-4c96-4191-aefa-0a4e0e75d9f0",
   "metadata": {},
   "outputs": [
    {
     "data": {
      "application/vnd.jupyter.widget-view+json": {
       "model_id": "7c2601d962b442db9598ed732e2832d0",
       "version_major": 2,
       "version_minor": 0
      },
      "text/plain": [
       "Map:   0%|          | 0/1000 [00:00<?, ? examples/s]"
      ]
     },
     "metadata": {},
     "output_type": "display_data"
    },
    {
     "data": {
      "application/vnd.jupyter.widget-view+json": {
       "model_id": "f161d30d3f02407cb51b2f8b67b8e527",
       "version_major": 2,
       "version_minor": 0
      },
      "text/plain": [
       "Map:   0%|          | 0/200 [00:00<?, ? examples/s]"
      ]
     },
     "metadata": {},
     "output_type": "display_data"
    }
   ],
   "source": [
    "tokenizer = AutoTokenizer.from_pretrained(\"bert-base-cased\")\n",
    "\n",
    "def preprocess_function(data):\n",
    "    return tokenizer(data[\"premise\"], data[\"hypothesis\"], truncation=True, padding=True)\n",
    "\n",
    "mnli_train_tokenized = mnli_train.map(preprocess_function, batched=True)\n",
    "mnli_val_tokenized = mnli_val.map(preprocess_function, batched=True)\n",
    "validation_matched_tokenized = mnli[\"validation_matched\"].map(preprocess_function, batched=True)"
   ]
  },
  {
   "cell_type": "markdown",
   "id": "5cec75b0-e562-44de-b8bf-3666c2479aa1",
   "metadata": {},
   "source": [
    "## Model 구현"
   ]
  },
  {
   "cell_type": "code",
   "execution_count": 146,
   "id": "84eb1f5f-6c19-4638-b32d-b4f2d85be1b0",
   "metadata": {},
   "outputs": [
    {
     "name": "stderr",
     "output_type": "stream",
     "text": [
      "Some weights of BertForSequenceClassification were not initialized from the model checkpoint at bert-base-cased and are newly initialized: ['classifier.bias', 'classifier.weight']\n",
      "You should probably TRAIN this model on a down-stream task to be able to use it for predictions and inference.\n"
     ]
    }
   ],
   "source": [
    "model = AutoModelForSequenceClassification.from_pretrained(\"bert-base-cased\", num_labels=3)"
   ]
  },
  {
   "cell_type": "code",
   "execution_count": 160,
   "id": "5c47e7ee-3f59-4317-8269-9914874808ff",
   "metadata": {},
   "outputs": [],
   "source": [
    "from transformers import TrainingArguments, Trainer\n",
    "\n",
    "training_args = TrainingArguments(\n",
    "    output_dir=\"hf_mnli\",\n",
    "    num_train_epochs = 10,\n",
    "    per_device_train_batch_size = 64,\n",
    "    per_device_eval_batch_size = 64,\n",
    "    logging_strategy = 'epoch',\n",
    "    do_train = True,\n",
    "    do_eval = True,\n",
    "    eval_strategy = 'epoch',\n",
    "    save_strategy= 'epoch',\n",
    "    learning_rate = 2e-5,\n",
    "    load_best_model_at_end = True\n",
    ")"
   ]
  },
  {
   "cell_type": "code",
   "execution_count": 162,
   "id": "87a96757-31a0-4fdf-8dcc-8ea2dd60fec1",
   "metadata": {},
   "outputs": [],
   "source": [
    "import evaluate\n",
    "import numpy as np\n",
    "\n",
    "accuracy = evaluate.load(\"accuracy\")\n",
    "\n",
    "def compute_metrics(pred):\n",
    "    predictions, labels = pred\n",
    "    predictions = np.argmax(predictions, axis=-1)\n",
    "    return accuracy.compute(predictions=predictions, references=labels)"
   ]
  },
  {
   "cell_type": "markdown",
   "id": "bc86b0f3-3f48-4d74-ab73-121ee711319c",
   "metadata": {},
   "source": [
    "## 학습 코드"
   ]
  },
  {
   "cell_type": "code",
   "execution_count": 164,
   "id": "d158c034-7ad8-4d5e-9545-85053aab54b6",
   "metadata": {},
   "outputs": [
    {
     "name": "stderr",
     "output_type": "stream",
     "text": [
      "/var/folders/yz/dp_hy1vd5jj8pzrlts8w9z4m0000gn/T/ipykernel_21036/693637473.py:4: FutureWarning: `tokenizer` is deprecated and will be removed in version 5.0.0 for `Trainer.__init__`. Use `processing_class` instead.\n",
      "  trainer = Trainer(\n"
     ]
    }
   ],
   "source": [
    "from transformers import EarlyStoppingCallback\n",
    "\n",
    "\n",
    "trainer = Trainer(\n",
    "    model=model,\n",
    "    args=training_args,\n",
    "    train_dataset=mnli_train_tokenized,\n",
    "    eval_dataset=mnli_val_tokenized,\n",
    "    compute_metrics=compute_metrics,\n",
    "    tokenizer=tokenizer,\n",
    "    # callbacks = [EarlyStoppingCallback(early_stopping_patience=1)]\n",
    ")"
   ]
  },
  {
   "cell_type": "code",
   "execution_count": 166,
   "id": "efb2df01-e2f5-472b-a77e-bc9ca9eb43f6",
   "metadata": {},
   "outputs": [
    {
     "data": {
      "text/html": [
       "\n",
       "    <div>\n",
       "      \n",
       "      <progress value='160' max='160' style='width:300px; height:20px; vertical-align: middle;'></progress>\n",
       "      [160/160 05:19, Epoch 10/10]\n",
       "    </div>\n",
       "    <table border=\"1\" class=\"dataframe\">\n",
       "  <thead>\n",
       " <tr style=\"text-align: left;\">\n",
       "      <th>Epoch</th>\n",
       "      <th>Training Loss</th>\n",
       "      <th>Validation Loss</th>\n",
       "      <th>Accuracy</th>\n",
       "    </tr>\n",
       "  </thead>\n",
       "  <tbody>\n",
       "    <tr>\n",
       "      <td>1</td>\n",
       "      <td>1.087900</td>\n",
       "      <td>1.090286</td>\n",
       "      <td>0.415000</td>\n",
       "    </tr>\n",
       "    <tr>\n",
       "      <td>2</td>\n",
       "      <td>1.068500</td>\n",
       "      <td>1.068494</td>\n",
       "      <td>0.410000</td>\n",
       "    </tr>\n",
       "    <tr>\n",
       "      <td>3</td>\n",
       "      <td>1.009200</td>\n",
       "      <td>1.022075</td>\n",
       "      <td>0.465000</td>\n",
       "    </tr>\n",
       "    <tr>\n",
       "      <td>4</td>\n",
       "      <td>0.904000</td>\n",
       "      <td>1.016271</td>\n",
       "      <td>0.440000</td>\n",
       "    </tr>\n",
       "    <tr>\n",
       "      <td>5</td>\n",
       "      <td>0.778300</td>\n",
       "      <td>0.981894</td>\n",
       "      <td>0.475000</td>\n",
       "    </tr>\n",
       "    <tr>\n",
       "      <td>6</td>\n",
       "      <td>0.668900</td>\n",
       "      <td>0.956881</td>\n",
       "      <td>0.530000</td>\n",
       "    </tr>\n",
       "    <tr>\n",
       "      <td>7</td>\n",
       "      <td>0.573800</td>\n",
       "      <td>0.987727</td>\n",
       "      <td>0.540000</td>\n",
       "    </tr>\n",
       "    <tr>\n",
       "      <td>8</td>\n",
       "      <td>0.499600</td>\n",
       "      <td>0.960167</td>\n",
       "      <td>0.550000</td>\n",
       "    </tr>\n",
       "    <tr>\n",
       "      <td>9</td>\n",
       "      <td>0.463300</td>\n",
       "      <td>1.008297</td>\n",
       "      <td>0.540000</td>\n",
       "    </tr>\n",
       "    <tr>\n",
       "      <td>10</td>\n",
       "      <td>0.432600</td>\n",
       "      <td>0.986872</td>\n",
       "      <td>0.555000</td>\n",
       "    </tr>\n",
       "  </tbody>\n",
       "</table><p>"
      ],
      "text/plain": [
       "<IPython.core.display.HTML object>"
      ]
     },
     "metadata": {},
     "output_type": "display_data"
    },
    {
     "data": {
      "text/plain": [
       "TrainOutput(global_step=160, training_loss=0.7486150115728378, metrics={'train_runtime': 321.6257, 'train_samples_per_second': 31.092, 'train_steps_per_second': 0.497, 'total_flos': 966119580720000.0, 'train_loss': 0.7486150115728378, 'epoch': 10.0})"
      ]
     },
     "execution_count": 166,
     "metadata": {},
     "output_type": "execute_result"
    }
   ],
   "source": [
    "trainer.train()"
   ]
  },
  {
   "cell_type": "markdown",
   "id": "36009557-56c6-4909-99ff-6bc523a74631",
   "metadata": {},
   "source": [
    "## 훈련에서 Epoch의 의미\n",
    "* 한 Epoch = 전체 학습 데이터셋을 한 번 다 사용해서 학습한 것\n",
    "* Epoch 1 끝나면 모델은 초기 가중치에서 한 번 학습된 상태\n",
    "* Epoch 2에서는 Epoch 1에서 이어진 모델 상태를 다시 학습\n",
    "* Epoch 10까지 같은 모델을 점점 개선하는 과정을 거치는 것\n",
    "\n",
    "## load_best_model_at_end = True 설정 시\n",
    "* 현재까지 학습된 모델 상태로 validation dataset에 대해 평가 (eval_loss, accuracy, f1 등 metric 이용)\n",
    "* 이전까지 저장한 best model보다 좋으면 현재 모델을 checkpoints로 저장\n",
    "  - 실제로 output_dir = 'hf_transformer' 경로에 10개의 checkpoints 폴더가 있음\n",
    "  - config, optimizer, tokenizer, tokenizer_config, training_args 등을 저장함\n",
    "* 학습이 끝나면 가장 좋았던 시점의 checkpoints를 불러옴\n",
    "  - Epoch 1 -> validation loss : 0.301 기록\n",
    "  - Epoch 2 -> validation loss : 0.285 기록 (best)\n",
    "  - ...\n",
    "  - Epoch n -> validation loss가 best보다 좋지 않으면 기록하지 않음"
   ]
  },
  {
   "cell_type": "code",
   "execution_count": 187,
   "id": "da1f3160-11d1-4123-898c-ea7a261eb87e",
   "metadata": {},
   "outputs": [
    {
     "data": {
      "text/plain": [
       "{'eval_loss': 1.0123803615570068,\n",
       " 'eval_accuracy': 0.5257259296994397,\n",
       " 'eval_runtime': 76.5501,\n",
       " 'eval_samples_per_second': 128.217,\n",
       " 'eval_steps_per_second': 2.012,\n",
       " 'epoch': 10.0}"
      ]
     },
     "execution_count": 187,
     "metadata": {},
     "output_type": "execute_result"
    }
   ],
   "source": [
    "trainer.evaluate(validation_matched_tokenized)"
   ]
  },
  {
   "cell_type": "markdown",
   "id": "f40e8505-db62-458e-ba43-8cc8b0dfbe90",
   "metadata": {},
   "source": [
    "* eval_accuracy는 52.5%"
   ]
  },
  {
   "cell_type": "code",
   "execution_count": null,
   "id": "7124b431-b9c8-4713-bd09-ec48c98aa9bb",
   "metadata": {},
   "outputs": [],
   "source": []
  }
 ],
 "metadata": {
  "kernelspec": {
   "display_name": "Python (hhplus_week4)",
   "language": "python",
   "name": "hhplus_week4"
  },
  "language_info": {
   "codemirror_mode": {
    "name": "ipython",
    "version": 3
   },
   "file_extension": ".py",
   "mimetype": "text/x-python",
   "name": "python",
   "nbconvert_exporter": "python",
   "pygments_lexer": "ipython3",
   "version": "3.13.2"
  }
 },
 "nbformat": 4,
 "nbformat_minor": 5
}
